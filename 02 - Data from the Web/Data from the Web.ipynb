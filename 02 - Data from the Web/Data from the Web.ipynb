{
 "cells": [
  {
   "cell_type": "code",
   "execution_count": 2,
   "metadata": {
    "collapsed": false
   },
   "outputs": [],
   "source": [
    "%matplotlib inline\n",
    "import pandas as pd\n",
    "import numpy as np\n",
    "import matplotlib.pyplot as plt\n",
    "import seaborn as sns\n",
    "sns.set_context('notebook')\n",
    "\n",
    "import requests\n",
    "from bs4 import BeautifulSoup\n",
    "import re"
   ]
  },
  {
   "cell_type": "markdown",
   "metadata": {},
   "source": [
    "# Preamble — Prepare to fetch data\n",
    "\n",
    "These are the root URLs for the two kinds of requests we need to perform: filters and lists.\n",
    "\n",
    "First, the filter dialog is used to\n",
    "\n",
    "1. Retreive the IDs for the years and semesters, as well as for the _Informatique_ field of study, we care about\n",
    "2. Look for the ID of the associated list.\n",
    "\n",
    "Lists contain the actual data we care about.\n",
    "\n",
    "Both types of request use a fixed `ww_i_reportModel` constant, which we assume is used for versioning."
   ]
  },
  {
   "cell_type": "code",
   "execution_count": 3,
   "metadata": {
    "collapsed": false
   },
   "outputs": [
    {
     "data": {
      "text/plain": [
       "['http://isa.epfl.ch/imoniteur_ISAP/!GEDPUBLICREPORTS.filter?ww_b_list=1&ww_i_reportModel=133685247&ww_i_reportModelXsl=133685270&',\n",
       " 'http://isa.epfl.ch/imoniteur_ISAP/!GEDPUBLICREPORTS.html?&ww_i_reportModel=133685247&ww_i_reportModelXsl=133685270&']"
      ]
     },
     "execution_count": 3,
     "metadata": {},
     "output_type": "execute_result"
    }
   ],
   "source": [
    "root_url = 'http://isa.epfl.ch/imoniteur_ISAP/!GEDPUBLICREPORTS.'\n",
    "report = '&ww_i_reportModel=133685247&ww_i_reportModelXsl=133685270&'\n",
    "filter_path = root_url + 'filter?ww_b_list=1' + report\n",
    "list_path = root_url + 'html?' + report\n",
    "[ filter_path, list_path ]"
   ]
  },
  {
   "cell_type": "markdown",
   "metadata": {},
   "source": [
    "Next, we look up the IDs for the years and semesters we're interested in."
   ]
  },
  {
   "cell_type": "code",
   "execution_count": 4,
   "metadata": {
    "collapsed": false
   },
   "outputs": [
    {
     "data": {
      "text/plain": [
       "{'': 'null',\n",
       " '2007-2008': '978181',\n",
       " '2008-2009': '978187',\n",
       " '2009-2010': '978195',\n",
       " '2010-2011': '39486325',\n",
       " '2011-2012': '123455150',\n",
       " '2012-2013': '123456101',\n",
       " '2013-2014': '213637754',\n",
       " '2014-2015': '213637922',\n",
       " '2015-2016': '213638028',\n",
       " '2016-2017': '355925344'}"
      ]
     },
     "execution_count": 4,
     "metadata": {},
     "output_type": "execute_result"
    }
   ],
   "source": [
    "# Find the IDs for the individual years\n",
    "\n",
    "req = requests.get(filter_path)\n",
    "\n",
    "if req.status_code != 200:\n",
    "  raise Exception('Request failed')\n",
    "\n",
    "parser = BeautifulSoup(req.text, \"html.parser\")\n",
    "\n",
    "years = parser.find('select', attrs={\"name\": \"ww_x_PERIODE_ACAD\"}).findAll('option')\n",
    "year_ids = {year.text: year['value'] for year in years}\n",
    "\n",
    "year_ids"
   ]
  },
  {
   "cell_type": "code",
   "execution_count": 5,
   "metadata": {
    "collapsed": false
   },
   "outputs": [
    {
     "data": {
      "text/plain": [
       "'249847'"
      ]
     },
     "execution_count": 5,
     "metadata": {},
     "output_type": "execute_result"
    }
   ],
   "source": [
    "informatique_id = parser.find(\n",
    "    'select',\n",
    "    attrs={\"name\": \"ww_x_UNITE_ACAD\"}\n",
    ").find(\n",
    "    (lambda tag: tag.text == 'Informatique')\n",
    ")['value']\n",
    "\n",
    "informatique_id"
   ]
  },
  {
   "cell_type": "code",
   "execution_count": 6,
   "metadata": {
    "collapsed": false
   },
   "outputs": [
    {
     "data": {
      "text/plain": [
       "{'': 'null',\n",
       " 'Bachelor semestre 1': '249108',\n",
       " 'Bachelor semestre 2': '249114',\n",
       " 'Bachelor semestre 3': '942155',\n",
       " 'Bachelor semestre 4': '942163',\n",
       " 'Bachelor semestre 5': '942120',\n",
       " 'Bachelor semestre 5b': '2226768',\n",
       " 'Bachelor semestre 6': '942175',\n",
       " 'Bachelor semestre 6b': '2226785',\n",
       " 'Master semestre 1': '2230106',\n",
       " 'Master semestre 2': '942192',\n",
       " 'Master semestre 3': '2230128',\n",
       " 'Master semestre 4': '2230140',\n",
       " 'Mineur semestre 1': '2335667',\n",
       " 'Mineur semestre 2': '2335676',\n",
       " 'Mise à niveau': '2063602308',\n",
       " 'Projet Master automne': '249127',\n",
       " 'Projet Master printemps': '3781783',\n",
       " 'Semestre automne': '953159',\n",
       " 'Semestre printemps': '2754553',\n",
       " 'Stage automne 3ème année': '953137',\n",
       " 'Stage automne 4ème année': '2226616',\n",
       " 'Stage printemps 3ème année': '983606',\n",
       " 'Stage printemps 4ème année': '2226626',\n",
       " 'Stage printemps master': '2227132'}"
      ]
     },
     "execution_count": 6,
     "metadata": {},
     "output_type": "execute_result"
    }
   ],
   "source": [
    "periods = parser.find('select', attrs={'name': 'ww_x_PERIODE_PEDAGO'})\n",
    "period_ids = {}\n",
    "\n",
    "for el in periods:\n",
    "    period_ids[el.text] = el['value']\n",
    "\n",
    "period_ids"
   ]
  },
  {
   "cell_type": "code",
   "execution_count": 7,
   "metadata": {
    "collapsed": false
   },
   "outputs": [
    {
     "data": {
      "text/plain": [
       "'2021043255'"
      ]
     },
     "execution_count": 7,
     "metadata": {},
     "output_type": "execute_result"
    }
   ],
   "source": [
    "def get_gps_id(period, year):\n",
    "    query = 'ww_x_PERIODE_PEDAGO=' + period_ids[period] + '&ww_x_PERIODE_ACAD=' + year_ids[year]\n",
    "    req = requests.get(filter_path + 'ww_x_UNITE_ACAD=' + informatique_id + '&' + query)\n",
    "    \n",
    "    \n",
    "    if req.status_code != 200:\n",
    "      raise Exception('Request failed')\n",
    "    \n",
    "    parser = BeautifulSoup(req.text, \"html.parser\")\n",
    "\n",
    "    onclick_value = parser.findAll('a', class_ = 'ww_x_GPS')[1]['onclick']\n",
    "    \n",
    "    return re.search('ww_x_GPS=(\\\\d+)', onclick_value).group(1)\n",
    "\n",
    "get_gps_id(period='Bachelor semestre 1', year='2016-2017')"
   ]
  },
  {
   "cell_type": "code",
   "execution_count": 8,
   "metadata": {
    "collapsed": false
   },
   "outputs": [
    {
     "data": {
      "text/plain": [
       "['Monsieur',\n",
       " 'Balas\\xa0Martin',\n",
       " '',\n",
       " '',\n",
       " '',\n",
       " '',\n",
       " '',\n",
       " 'Présent',\n",
       " '',\n",
       " '',\n",
       " '174774',\n",
       " '']"
      ]
     },
     "execution_count": 8,
     "metadata": {},
     "output_type": "execute_result"
    }
   ],
   "source": [
    "def get_table(period, year):\n",
    "    query = 'ww_x_GPS=' + get_gps_id(period, year) + '&ww_x_UNITE_ACAD=' + informatique_id\n",
    "    req = requests.get(list_path + query)\n",
    "\n",
    "    if req.status_code != 200:\n",
    "      raise Exception('Request failed')\n",
    "\n",
    "    parser = BeautifulSoup(req.text, \"html.parser\")\n",
    "\n",
    "    return list(map((lambda x: [el.text for el in x.findAll('td')]), parser.findAll('tr')[2:]))\n",
    "\n",
    "get_table(period='Bachelor semestre 6', year='2008-2009')[0]"
   ]
  },
  {
   "cell_type": "markdown",
   "metadata": {},
   "source": [
    "# Task 1\n",
    "\n",
    "> Obtain all the data for the Bachelor students, starting from 2007. Keep only the students for which you have an entry for both Bachelor semestre 1 and Bachelor semestre 6. Compute how many months it took each student to go from the first to the sixth semester. Partition the data between male and female students, and compute the average -- is the difference in average statistically significant?"
   ]
  },
  {
   "cell_type": "code",
   "execution_count": 9,
   "metadata": {
    "collapsed": false
   },
   "outputs": [],
   "source": [
    "result_dict = {} \n",
    "attente = {}\n",
    "conge = {}\n",
    "for year in range(2007, 2017):\n",
    "    for sem in range(1, 7):\n",
    "        table = get_table(period='Bachelor semestre ' + str(sem), year=str(year) + '-' + str(year + 1))\n",
    "        for record in table:\n",
    "            statut = record[7]\n",
    "            id = int(record[10])  # will raise expcetion if None or empty string \n",
    "            if  statut == 'Présent':                               \n",
    "                gender = record[0] \n",
    "                if gender not in ['Monsieur', 'Madame']:\n",
    "                    raise Exception('Unexpected gender:' + gender + '; sem: ' + str(sem) + ' year: ' + str(year) + ' id: ' + str(id))\n",
    "                gender = int(gender == 'Monsieur')  # => 1 for Monsieur, 0 for Madame\n",
    "                if id not in result_dict:\n",
    "                    if sem == 1:  # we consider only students who started studying in 2007 or later\n",
    "                        result_dict[id] = {'gender': gender, 'sem_count': 0, 'sems': []}\n",
    "                    else:\n",
    "                        continue\n",
    "                else:\n",
    "                    if result_dict[id]['gender'] != gender:\n",
    "                        raise Expception('Inconsistent gender!')\n",
    "                result_dict[id]['sem_count'] += 1\n",
    "                result_dict[id]['sems'].append(str(sem) + '_' + str(year))\n",
    "            elif statut == 'Congé':\n",
    "                if id not in conge:\n",
    "                    conge[id] = {'c_sems': [], 'c_sem_count': 0}\n",
    "                conge[id]['c_sems'].append(str(sem) + '_' + str(year))\n",
    "                conge[id]['c_sem_count'] += 1     \n",
    "            elif statut == 'Attente':\n",
    "                if id not in attente:\n",
    "                    attente[id] = {'a_sems': [], 'a_sem_count': 0}\n",
    "                attente[id]['a_sems'].append(str(sem) + '_' + str(year))\n",
    "                attente[id]['a_sem_count'] += 1                \n",
    "            else: raise Exception('Unexpected statut: ' + statut + '; sem: ' + str(sem) + ' year: ' + str(year) + ' id: ' + str(id))"
   ]
  },
  {
   "cell_type": "markdown",
   "metadata": {},
   "source": [
    "In above algorithm we load all the students from desired period (2007+).\n",
    "For the sake of simplicity we are only interested in students who started at 2007 or later.\n",
    "If we were to consider students who started earlier we would have to make lots of assumptions which would result in making up data. \n",
    "\n",
    "We also check for the status of the student at given semester.\n",
    "We have found 3 different types of statuses - Présent, Congé and Attente.\n",
    "Later on we will try to analyze their meaning and contribution.\n",
    "\n",
    "When it comes to Période pédagogique we only take into account the Bachelor semesters 1 - 6.\n",
    "We have decided to ignore the Semestre automne and Semestre printemps listings as they contain only exchange students.\n",
    "Exchange studants are staying only one semster or two and so using them in our computation would skew the averages to artifical low numbers.\n",
    "\n",
    "We have also ignored the _Mise à niveau_, _Bachelor Semestre 5b_, _Bachelor Semestre 6b_ listings because they are empty for entries with _Unité académique_ set to _Informatique_.\n",
    "All the other _Périodes pédagogiques_ (_Master semestre N, Mineur semestre N, Projet Master automne/printemps_) are ignored for this part of exercise because they only include master students.\n",
    "\n",
    "We also disregard _Type de semestre_ because it does not bring us any new information.\n",
    "As a rule of a thumb Bachelor semesters 1, 3 and 5 are always _Semestre d'automne_ while Bachelor semesters 2, 4 and 6 are always _Semestre de printemps_.\n",
    "\n",
    "Combination of _Bachelor Semestre N_ with different season (e.g. Bachelor semestre 1 and Semestre de printemps) results always in empty result. "
   ]
  },
  {
   "cell_type": "code",
   "execution_count": 10,
   "metadata": {
    "collapsed": true
   },
   "outputs": [],
   "source": [
    "to_delete = []\n",
    "for key, value in result_dict.items():\n",
    "    if not any(sem.startswith('6') for sem in value['sems']):\n",
    "        to_delete.append(key)\n",
    "for key in to_delete:\n",
    "    del result_dict[key]"
   ]
  },
  {
   "cell_type": "markdown",
   "metadata": {},
   "source": [
    "In above code we check if student has an entry for semester 6 in his record.\n",
    "If he has we assume he sucessfully finished his studies, even though technically the fact that he took part in 6th semester does not mean he has finished it sucessfully.\n",
    "Then we remove all the students who don't have the entry for semester 6 in their semester list as they haven't finished the studies yet because they are not suitable for the computation. "
   ]
  },
  {
   "cell_type": "code",
   "execution_count": 11,
   "metadata": {
    "collapsed": false
   },
   "outputs": [
    {
     "data": {
      "text/plain": [
       "297"
      ]
     },
     "execution_count": 11,
     "metadata": {},
     "output_type": "execute_result"
    }
   ],
   "source": [
    "len(result_dict)"
   ]
  },
  {
   "cell_type": "markdown",
   "metadata": {},
   "source": [
    "By the removal of irrelevant data we decreased size of our dataset from 1476 to 297 samples."
   ]
  },
  {
   "cell_type": "code",
   "execution_count": 12,
   "metadata": {
    "collapsed": false
   },
   "outputs": [],
   "source": [
    "def intersect_dicts(dict1, dict2):\n",
    "    keys_intersection = set(dict1.keys()).intersection(set(dict2.keys()))\n",
    "    res = {}\n",
    "    for key in keys_intersection:\n",
    "        res[key] = {**dict1[key], **dict2[key]}\n",
    "    return res"
   ]
  },
  {
   "cell_type": "code",
   "execution_count": 13,
   "metadata": {
    "collapsed": false
   },
   "outputs": [
    {
     "data": {
      "text/plain": [
       "1"
      ]
     },
     "execution_count": 13,
     "metadata": {},
     "output_type": "execute_result"
    }
   ],
   "source": [
    "attente_int_result = set(attente.keys()).intersection(set(result_dict.keys()))\n",
    "len(attente_int_result)"
   ]
  },
  {
   "cell_type": "code",
   "execution_count": 14,
   "metadata": {
    "collapsed": false
   },
   "outputs": [
    {
     "data": {
      "text/plain": [
       "{223892: {'a_sem_count': 2,\n",
       "  'a_sems': ['1_2014', '2_2014'],\n",
       "  'gender': 1,\n",
       "  'sem_count': 9,\n",
       "  'sems': ['1_2012',\n",
       "   '2_2012',\n",
       "   '1_2013',\n",
       "   '2_2013',\n",
       "   '3_2014',\n",
       "   '4_2014',\n",
       "   '5_2015',\n",
       "   '6_2015',\n",
       "   '5_2016']}}"
      ]
     },
     "execution_count": 14,
     "metadata": {},
     "output_type": "execute_result"
    }
   ],
   "source": [
    "intersect_dicts(result_dict, attente)"
   ]
  },
  {
   "cell_type": "markdown",
   "metadata": {},
   "source": [
    "The _Attente_ status has occured only in 1 case out of 297.\n",
    "It is overlapping with semesters where student had the status _Présent_.\n",
    "We consider the status _Présent_ to be of higher importance and thus we disregard the _Attente_ status."
   ]
  },
  {
   "cell_type": "code",
   "execution_count": 15,
   "metadata": {
    "collapsed": false
   },
   "outputs": [
    {
     "data": {
      "text/plain": [
       "24"
      ]
     },
     "execution_count": 15,
     "metadata": {},
     "output_type": "execute_result"
    }
   ],
   "source": [
    "conge_int_result = set(conge.keys()).intersection(set(result_dict.keys()))\n",
    "len(conge_int_result)"
   ]
  },
  {
   "cell_type": "code",
   "execution_count": 16,
   "metadata": {
    "collapsed": false
   },
   "outputs": [
    {
     "data": {
      "text/plain": [
       "{169731: {'c_sem_count': 1,\n",
       "  'c_sems': ['5_2010'],\n",
       "  'gender': 1,\n",
       "  'sem_count': 7,\n",
       "  'sems': ['1_2007',\n",
       "   '2_2007',\n",
       "   '3_2008',\n",
       "   '4_2008',\n",
       "   '3_2009',\n",
       "   '4_2009',\n",
       "   '6_2010']},\n",
       " 174905: {'c_sem_count': 2,\n",
       "  'c_sems': ['3_2008', '4_2008'],\n",
       "  'gender': 1,\n",
       "  'sem_count': 8,\n",
       "  'sems': ['1_2007',\n",
       "   '2_2007',\n",
       "   '3_2009',\n",
       "   '4_2009',\n",
       "   '5_2010',\n",
       "   '6_2010',\n",
       "   '5_2011',\n",
       "   '6_2011']},\n",
       " 175379: {'c_sem_count': 2,\n",
       "  'c_sems': ['1_2007', '2_2007'],\n",
       "  'gender': 1,\n",
       "  'sem_count': 6,\n",
       "  'sems': ['1_2008', '2_2008', '3_2009', '4_2009', '5_2010', '6_2010']},\n",
       " 181244: {'c_sem_count': 2,\n",
       "  'c_sems': ['1_2008', '2_2008'],\n",
       "  'gender': 1,\n",
       "  'sem_count': 10,\n",
       "  'sems': ['1_2007',\n",
       "   '2_2007',\n",
       "   '1_2009',\n",
       "   '2_2009',\n",
       "   '3_2010',\n",
       "   '4_2010',\n",
       "   '5_2011',\n",
       "   '6_2011',\n",
       "   '5_2012',\n",
       "   '6_2012']},\n",
       " 184372: {'c_sem_count': 2,\n",
       "  'c_sems': ['5_2011', '6_2011'],\n",
       "  'gender': 1,\n",
       "  'sem_count': 10,\n",
       "  'sems': ['1_2008',\n",
       "   '2_2008',\n",
       "   '1_2009',\n",
       "   '2_2009',\n",
       "   '3_2010',\n",
       "   '4_2010',\n",
       "   '5_2012',\n",
       "   '6_2012',\n",
       "   '5_2013',\n",
       "   '6_2013']},\n",
       " 185959: {'c_sem_count': 1,\n",
       "  'c_sems': ['6_2011'],\n",
       "  'gender': 1,\n",
       "  'sem_count': 7,\n",
       "  'sems': ['1_2008',\n",
       "   '2_2008',\n",
       "   '3_2009',\n",
       "   '4_2009',\n",
       "   '5_2010',\n",
       "   '6_2010',\n",
       "   '5_2011']},\n",
       " 186260: {'c_sem_count': 1,\n",
       "  'c_sems': ['5_2014'],\n",
       "  'gender': 1,\n",
       "  'sem_count': 10,\n",
       "  'sems': ['1_2009',\n",
       "   '2_2009',\n",
       "   '1_2010',\n",
       "   '2_2010',\n",
       "   '3_2011',\n",
       "   '4_2011',\n",
       "   '5_2012',\n",
       "   '6_2012',\n",
       "   '5_2013',\n",
       "   '6_2013']},\n",
       " 193051: {'c_sem_count': 1,\n",
       "  'c_sems': ['5_2014'],\n",
       "  'gender': 1,\n",
       "  'sem_count': 11,\n",
       "  'sems': ['1_2009',\n",
       "   '2_2009',\n",
       "   '1_2010',\n",
       "   '2_2010',\n",
       "   '3_2011',\n",
       "   '4_2011',\n",
       "   '5_2012',\n",
       "   '6_2012',\n",
       "   '5_2013',\n",
       "   '6_2013',\n",
       "   '6_2014']},\n",
       " 193832: {'c_sem_count': 1,\n",
       "  'c_sems': ['5_2014'],\n",
       "  'gender': 1,\n",
       "  'sem_count': 9,\n",
       "  'sems': ['1_2009',\n",
       "   '1_2010',\n",
       "   '2_2010',\n",
       "   '3_2011',\n",
       "   '4_2011',\n",
       "   '5_2012',\n",
       "   '6_2012',\n",
       "   '5_2013',\n",
       "   '6_2013']},\n",
       " 194836: {'c_sem_count': 2,\n",
       "  'c_sems': ['5_2014', '6_2014'],\n",
       "  'gender': 0,\n",
       "  'sem_count': 6,\n",
       "  'sems': ['1_2011', '2_2011', '3_2012', '4_2012', '5_2013', '6_2013']},\n",
       " 195804: {'c_sem_count': 2,\n",
       "  'c_sems': ['5_2014', '6_2014'],\n",
       "  'gender': 1,\n",
       "  'sem_count': 10,\n",
       "  'sems': ['1_2009',\n",
       "   '2_2009',\n",
       "   '1_2010',\n",
       "   '2_2010',\n",
       "   '3_2011',\n",
       "   '4_2011',\n",
       "   '5_2012',\n",
       "   '6_2012',\n",
       "   '5_2013',\n",
       "   '6_2013']},\n",
       " 196065: {'c_sem_count': 2,\n",
       "  'c_sems': ['5_2012', '6_2012'],\n",
       "  'gender': 1,\n",
       "  'sem_count': 8,\n",
       "  'sems': ['1_2009',\n",
       "   '2_2009',\n",
       "   '3_2010',\n",
       "   '4_2010',\n",
       "   '5_2011',\n",
       "   '6_2011',\n",
       "   '5_2013',\n",
       "   '6_2013']},\n",
       " 201253: {'c_sem_count': 1,\n",
       "  'c_sems': ['6_2014'],\n",
       "  'gender': 1,\n",
       "  'sem_count': 9,\n",
       "  'sems': ['1_2010',\n",
       "   '2_2010',\n",
       "   '1_2011',\n",
       "   '2_2011',\n",
       "   '3_2012',\n",
       "   '4_2012',\n",
       "   '5_2013',\n",
       "   '6_2013',\n",
       "   '5_2014']},\n",
       " 202293: {'c_sem_count': 2,\n",
       "  'c_sems': ['5_2015', '6_2015'],\n",
       "  'gender': 1,\n",
       "  'sem_count': 10,\n",
       "  'sems': ['1_2010',\n",
       "   '2_2010',\n",
       "   '1_2011',\n",
       "   '2_2011',\n",
       "   '3_2012',\n",
       "   '4_2012',\n",
       "   '5_2013',\n",
       "   '6_2013',\n",
       "   '5_2014',\n",
       "   '6_2014']},\n",
       " 205434: {'c_sem_count': 1,\n",
       "  'c_sems': ['6_2013'],\n",
       "  'gender': 1,\n",
       "  'sem_count': 7,\n",
       "  'sems': ['1_2010',\n",
       "   '2_2010',\n",
       "   '3_2011',\n",
       "   '4_2011',\n",
       "   '5_2012',\n",
       "   '6_2012',\n",
       "   '5_2013']},\n",
       " 205727: {'c_sem_count': 2,\n",
       "  'c_sems': ['5_2015', '6_2015'],\n",
       "  'gender': 1,\n",
       "  'sem_count': 8,\n",
       "  'sems': ['1_2011',\n",
       "   '2_2011',\n",
       "   '1_2012',\n",
       "   '2_2012',\n",
       "   '3_2013',\n",
       "   '4_2013',\n",
       "   '5_2014',\n",
       "   '6_2014']},\n",
       " 212591: {'c_sem_count': 1,\n",
       "  'c_sems': ['6_2014'],\n",
       "  'gender': 1,\n",
       "  'sem_count': 7,\n",
       "  'sems': ['1_2011',\n",
       "   '2_2011',\n",
       "   '3_2012',\n",
       "   '4_2012',\n",
       "   '5_2013',\n",
       "   '6_2013',\n",
       "   '5_2014']},\n",
       " 215576: {'c_sem_count': 1,\n",
       "  'c_sems': ['5_2016'],\n",
       "  'gender': 1,\n",
       "  'sem_count': 10,\n",
       "  'sems': ['1_2011',\n",
       "   '2_2011',\n",
       "   '3_2012',\n",
       "   '4_2012',\n",
       "   '5_2013',\n",
       "   '6_2013',\n",
       "   '5_2014',\n",
       "   '6_2014',\n",
       "   '5_2015',\n",
       "   '6_2015']},\n",
       " 217489: {'c_sem_count': 1,\n",
       "  'c_sems': ['5_2014'],\n",
       "  'gender': 0,\n",
       "  'sem_count': 6,\n",
       "  'sems': ['1_2011', '2_2011', '3_2012', '4_2012', '5_2013', '6_2013']},\n",
       " 223744: {'c_sem_count': 2,\n",
       "  'c_sems': ['5_2015', '6_2015'],\n",
       "  'gender': 1,\n",
       "  'sem_count': 6,\n",
       "  'sems': ['1_2012', '2_2012', '3_2013', '4_2013', '5_2014', '6_2014']},\n",
       " 224553: {'c_sem_count': 1,\n",
       "  'c_sems': ['4_2013'],\n",
       "  'gender': 1,\n",
       "  'sem_count': 6,\n",
       "  'sems': ['1_2012', '2_2012', '3_2014', '4_2014', '5_2015', '6_2015']},\n",
       " 225258: {'c_sem_count': 2,\n",
       "  'c_sems': ['5_2014', '6_2014'],\n",
       "  'gender': 1,\n",
       "  'sem_count': 7,\n",
       "  'sems': ['1_2012',\n",
       "   '2_2012',\n",
       "   '3_2013',\n",
       "   '4_2013',\n",
       "   '5_2015',\n",
       "   '6_2015',\n",
       "   '5_2016']},\n",
       " 227311: {'c_sem_count': 2,\n",
       "  'c_sems': ['5_2016', '6_2016'],\n",
       "  'gender': 0,\n",
       "  'sem_count': 6,\n",
       "  'sems': ['1_2013', '2_2013', '3_2014', '4_2014', '5_2015', '6_2015']},\n",
       " 237482: {'c_sem_count': 1,\n",
       "  'c_sems': ['5_2016'],\n",
       "  'gender': 1,\n",
       "  'sem_count': 6,\n",
       "  'sems': ['1_2013', '2_2013', '3_2014', '4_2014', '5_2015', '6_2015']}}"
      ]
     },
     "execution_count": 16,
     "metadata": {},
     "output_type": "execute_result"
    }
   ],
   "source": [
    "intersect_dicts(result_dict, conge)"
   ]
  },
  {
   "cell_type": "markdown",
   "metadata": {},
   "source": [
    "In this step we have analyzed the _Congé_ status.\n",
    "We have 24 students who have recorded at least one semester with this status.\n",
    "By reading through data we see that semsters with status _Congé_ are mutually exclusive with semsesters with the status _Présent_.\n",
    "_Congé_ means Leave in English.\n",
    "Thus we assume that during these semesters the student went either for exchange studies or had a break in the studies, ie. due to health or family reasons. \n",
    "\n",
    "We consider this to be valid part of our data and therefore we have decided to do two calculations - one will take into account only semesters when the student was physically present and the other will consider also semesters when the student was on leave."
   ]
  },
  {
   "cell_type": "code",
   "execution_count": 17,
   "metadata": {
    "collapsed": false
   },
   "outputs": [
    {
     "data": {
      "text/plain": [
       "{}"
      ]
     },
     "execution_count": 17,
     "metadata": {},
     "output_type": "execute_result"
    }
   ],
   "source": [
    "tmp_dict = intersect_dicts(result_dict, attente)\n",
    "intersect_dicts(tmp_dict, conge)"
   ]
  },
  {
   "cell_type": "markdown",
   "metadata": {},
   "source": [
    "There are 0 students in our filtered dataset who have both statut Congé and Attente. "
   ]
  },
  {
   "cell_type": "code",
   "execution_count": 18,
   "metadata": {
    "collapsed": false
   },
   "outputs": [
    {
     "data": {
      "text/plain": [
       "273"
      ]
     },
     "execution_count": 18,
     "metadata": {},
     "output_type": "execute_result"
    }
   ],
   "source": [
    "no_of_males = sum([val['gender'] for val in result_dict.values()])\n",
    "no_of_males"
   ]
  },
  {
   "cell_type": "code",
   "execution_count": 19,
   "metadata": {
    "collapsed": false
   },
   "outputs": [
    {
     "data": {
      "text/plain": [
       "24"
      ]
     },
     "execution_count": 19,
     "metadata": {},
     "output_type": "execute_result"
    }
   ],
   "source": [
    "no_of_females = len(result_dict) - no_of_males\n",
    "no_of_females"
   ]
  },
  {
   "cell_type": "markdown",
   "metadata": {},
   "source": [
    "As all records have a gender set to either _Monsieur_ or _Madame_ (everythin else would have thrown an exception during parsing) we can safely assume that there was no gender value missing.\n",
    "\n",
    "Thus `len(result_dict) - no_of_males` is a valid computation."
   ]
  },
  {
   "cell_type": "code",
   "execution_count": 20,
   "metadata": {
    "collapsed": false
   },
   "outputs": [
    {
     "name": "stdout",
     "output_type": "stream",
     "text": [
      "Average number of semesters to finish bachelor studies without leave for male student is 7.33\n",
      "Average number of semesters to finish bachelor studies without leave for female student is 6.75\n",
      "\n",
      "\n",
      "Average number of semesters to finish bachelor studies including leave for male student is 7.44\n",
      "Average number of semesters to finish bachelor studies including leave for female student is 6.96\n"
     ]
    }
   ],
   "source": [
    "male_average_wo_leave = sum([val['sem_count'] for val in result_dict.values() if val['gender'] == 1]) / no_of_males \n",
    "print('Average number of semesters to finish bachelor studies without leave for male student is ' + \"{0:.2f}\".format(male_average_wo_leave))\n",
    "female_average_wo_leave = sum([val['sem_count'] for val in result_dict.values() if val['gender'] == 0]) / no_of_females\n",
    "print('Average number of semesters to finish bachelor studies without leave for female student is ' + \"{0:.2f}\".format(female_average_wo_leave))\n",
    "\n",
    "print('\\n')\n",
    "\n",
    "male_average_w_leave = sum([val['sem_count'] + conge.get(key, {}).get('c_sem_count', 0) for  key, val in result_dict.items() if val['gender'] == 1]) / no_of_males \n",
    "print('Average number of semesters to finish bachelor studies including leave for male student is ' + \"{0:.2f}\".format(male_average_w_leave))\n",
    "female_average_w_leave = sum([val['sem_count'] + conge.get(key, {}).get('c_sem_count', 0) for key, val in result_dict.items() if val['gender'] == 0]) / no_of_females\n",
    "print('Average number of semesters to finish bachelor studies including leave for female student is ' + \"{0:.2f}\".format(female_average_w_leave))"
   ]
  },
  {
   "cell_type": "code",
   "execution_count": null,
   "metadata": {
    "collapsed": true
   },
   "outputs": [],
   "source": []
  },
  {
   "cell_type": "markdown",
   "metadata": {},
   "source": [
    "TODO check statistical significance"
   ]
  },
  {
   "cell_type": "markdown",
   "metadata": {},
   "source": [
    "# Task 2\n",
    "\n",
    "> Perform a similar operation to what described above, this time for Master students. Notice that this data is more tricky, as there are many missing records in the IS-Academia database. Therefore, try to guess how much time a master student spent at EPFL by at least checking the distance in months between Master semestre 1 and Master semestre 2. If the Mineur field is not empty, the student should also appear registered in Master semestre 3. Last but not the least, don't forget to check if the student has an entry also in the Projet Master tables. Once you can handle well this data, compute the \"average stay at EPFL\" for master students. Now extract all the students with a Spécialisation and compute the \"average stay\" per each category of that attribute -- compared to the general average, can you find any specialization for which the difference in average is statistically significant?"
   ]
  },
  {
   "cell_type": "code",
   "execution_count": 22,
   "metadata": {
    "collapsed": false
   },
   "outputs": [],
   "source": [
    "result_dict = {} \n",
    "periods = []\n",
    "\n",
    "periods.append(('Master semestre 1', '1'))     \n",
    "periods.append(('Master semestre 3', '3'))\n",
    "periods.append(('Master semestre 2', '2'))  # 2 and 3 skipped to ensure proper order - sem3 is autumn one so it should come before sem2 (spring) in the list \n",
    "periods.append(('Projet Master automne', 'pa'))\n",
    "periods.append(('Projet Master printemps', 'pp'))\n",
    "\n",
    "for year in range(2007, 2017):\n",
    "    for period_name, period_code in periods:\n",
    "        table = get_table(period=period_name, year=str(year) + '-' + str(year + 1))\n",
    "        for record in table: \n",
    "            gender = record[0]  # kept for bonus task\n",
    "            if gender not in ['Monsieur', 'Madame']:\n",
    "                raise Exception('Unexpected gender:' + gender + '; period: ' + str(period_name) + ' year: ' + str(year) + ' id: ' + str(id))\n",
    "            gender = int(gender == 'Monsieur')  # => 1 for Monsieur, 0 for Madame\n",
    "            \n",
    "            id = int(record[10])  # will raise expcetion if None or empty string \n",
    "            if id not in result_dict:\n",
    "                result_dict[id] = {'gender': gender, 'spec': '', 'has_minor': 0, 'sems': [], 'sem_count': 0, 's_sems': [], 's_sem_count': 0, 'c_sems': [], 'c_sem_count': 0,\n",
    "                                                              'p_sems': [], 'p_sem_count': 0, 'ps_sems': [], 'ps_sem_count': 0, 'pc_sems': [], 'pc_sem_count': 0}\n",
    "            else:\n",
    "                if result_dict[id]['gender'] != gender:\n",
    "                    raise Expception('Inconsistent gender!')\n",
    "            \n",
    "            statut = record[7]\n",
    "            statut_prefix = ''\n",
    "            if  statut in ['Présent', 'Stage']:  \n",
    "                spec = record[4]\n",
    "                if spec != '':\n",
    "                    result_dict[id]['spec'] = spec\n",
    "                has_minor = int(record[6] != '')\n",
    "                if has_minor != 0:\n",
    "                    result_dict[id]['has_minor'] = has_minor\n",
    "                statut_prefix = 's' if statut == 'Stage' else ''\n",
    "            elif statut == 'Congé':\n",
    "                statut_prefix = 'c'\n",
    "            else: \n",
    "                raise Exception('Unexpected statut: ' + statut + '; period: ' + str(period_name) + ' year: ' + str(year) + ' id: ' + str(id))\n",
    "            \n",
    "            if period_code.startswith('p'):\n",
    "                result_dict[id]['p' + statut_prefix + '_sems'].append(str(period_code) + '_' + str(year))\n",
    "                result_dict[id]['p' + statut_prefix + '_sem_count'] += 1     \n",
    "            else:\n",
    "                statut_prefix = statut_prefix + '_' if statut_prefix != '' else statut_prefix\n",
    "                result_dict[id][statut_prefix + 'sems'].append(str(period_code) + '_' + str(year))\n",
    "                result_dict[id][statut_prefix + 'sem_count'] += 1     "
   ]
  },
  {
   "cell_type": "markdown",
   "metadata": {},
   "source": [
    "If specialization changes or is missing we keep the new one unless it is empty.\n",
    "\n",
    "By trail and error we found that _Attente_ is not used.\n",
    "However, compared to Bachelor part a new status appeared - _Stage_.\n",
    "It is valid both for normal semesters (_Master semestre N_) and for master thesis semestres (_Projet Master automne/printemps_).\n",
    "Based on the name it can be naturally assumed that this status is active when the student is on an intenrship.\n",
    "As this status appears also for master thesis semesters (_Projet Master automne/printemps_) we assume that this means that student did his master's thesis in the industry or at another university.\n",
    "\n",
    "When it comes to the status _Congé_, for the sake of simplicity we are not going to do calculations for both dataset including it and not including it.\n",
    "We consider the status _Congé_ to be a normal part of studies regradless of reasons (assumed exchange studies, study break because of health/family problems).\n",
    "\n",
    "Regarding minor, as there is no way to officially cancle a minor once enrolled in it we keep the minor flag even if it is missing in some semsters.\n",
    "In other words, we assume that a student was enrolled in minor even if only one semster out of all his semsters has this value set.\n",
    "\n",
    "We keep count and list of the semesters.\n",
    "To facilitate further calculations we split semsters into 6 categories.\n",
    "We obtained these 6 categories via the cartesian product of 2 types of semsters (Master semestre N - no prefix in code, Master Project S - 'p' prefix) and 3 types of statutes (Présent - no prefix, Stage - 's' prefix, Congé - 'c' prefix)\n",
    "\n",
    "Unlike in case of bachelors, we do not have condition to add a student to result dictionary only when semestre is equal to 1.\n",
    "We will explain this later on."
   ]
  },
  {
   "cell_type": "code",
   "execution_count": 23,
   "metadata": {
    "collapsed": false
   },
   "outputs": [
    {
     "data": {
      "text/plain": [
       "977"
      ]
     },
     "execution_count": 23,
     "metadata": {},
     "output_type": "execute_result"
    }
   ],
   "source": [
    "len(result_dict)"
   ]
  },
  {
   "cell_type": "code",
   "execution_count": 24,
   "metadata": {
    "collapsed": false
   },
   "outputs": [
    {
     "data": {
      "text/plain": [
       "758"
      ]
     },
     "execution_count": 24,
     "metadata": {},
     "output_type": "execute_result"
    }
   ],
   "source": [
    "to_delete = set()\n",
    "for key, val in result_dict.items():\n",
    "    if val['sem_count'] + val['c_sem_count'] < 2:\n",
    "        to_delete.add(key)\n",
    "    if val['sem_count'] + val['c_sem_count'] < 3 and (val['has_minor'] or val['spec'] != ''):\n",
    "        to_delete.add(key)\n",
    "for key in list(to_delete):\n",
    "    del result_dict[key]\n",
    "len(result_dict)"
   ]
  },
  {
   "cell_type": "markdown",
   "metadata": {},
   "source": [
    "We remove all students with only one semester record, because even if we add master projects we get only two semesters in total for the student.\n",
    "As it is impossible to finish a master in less than 3 semesters at EPFL, we assume these people quit.\n",
    "\n",
    "Additionally, we removed people who have a minor or have specialization but do courses for less then 3 semesters - that's not possible at EPFL either.\n",
    "\n",
    "This way we downsized our dataset from 977 to 758 students."
   ]
  },
  {
   "cell_type": "code",
   "execution_count": 25,
   "metadata": {
    "collapsed": false
   },
   "outputs": [
    {
     "data": {
      "text/plain": [
       "10"
      ]
     },
     "execution_count": 25,
     "metadata": {},
     "output_type": "execute_result"
    }
   ],
   "source": [
    "missing_sem_1 = {key: val for key, val in result_dict.items() if not any(sem.startswith('1') for sem in val['sems'] + val['c_sems'] + val['s_sems'])}\n",
    "len(missing_sem_1)"
   ]
  },
  {
   "cell_type": "code",
   "execution_count": 26,
   "metadata": {
    "collapsed": false
   },
   "outputs": [
    {
     "data": {
      "text/plain": [
       "{129326: {'c_sem_count': 0,\n",
       "  'c_sems': [],\n",
       "  'gender': 1,\n",
       "  'has_minor': 0,\n",
       "  'p_sem_count': 0,\n",
       "  'p_sems': [],\n",
       "  'pc_sem_count': 0,\n",
       "  'pc_sems': [],\n",
       "  'ps_sem_count': 0,\n",
       "  'ps_sems': [],\n",
       "  's_sem_count': 0,\n",
       "  's_sems': [],\n",
       "  'sem_count': 2,\n",
       "  'sems': ['3_2007', '2_2007'],\n",
       "  'spec': ''},\n",
       " 153324: {'c_sem_count': 1,\n",
       "  'c_sems': ['3_2007'],\n",
       "  'gender': 1,\n",
       "  'has_minor': 0,\n",
       "  'p_sem_count': 0,\n",
       "  'p_sems': [],\n",
       "  'pc_sem_count': 0,\n",
       "  'pc_sems': [],\n",
       "  'ps_sem_count': 0,\n",
       "  'ps_sems': [],\n",
       "  's_sem_count': 0,\n",
       "  's_sems': [],\n",
       "  'sem_count': 2,\n",
       "  'sems': ['2_2007', '3_2008'],\n",
       "  'spec': ''},\n",
       " 154484: {'c_sem_count': 0,\n",
       "  'c_sems': [],\n",
       "  'gender': 1,\n",
       "  'has_minor': 0,\n",
       "  'p_sem_count': 0,\n",
       "  'p_sems': [],\n",
       "  'pc_sem_count': 0,\n",
       "  'pc_sems': [],\n",
       "  'ps_sem_count': 0,\n",
       "  'ps_sems': [],\n",
       "  's_sem_count': 0,\n",
       "  's_sems': [],\n",
       "  'sem_count': 3,\n",
       "  'sems': ['3_2007', '2_2007', '3_2008'],\n",
       "  'spec': 'Internet computing'},\n",
       " 154503: {'c_sem_count': 0,\n",
       "  'c_sems': [],\n",
       "  'gender': 1,\n",
       "  'has_minor': 0,\n",
       "  'p_sem_count': 0,\n",
       "  'p_sems': [],\n",
       "  'pc_sem_count': 0,\n",
       "  'pc_sems': [],\n",
       "  'ps_sem_count': 0,\n",
       "  'ps_sems': [],\n",
       "  's_sem_count': 0,\n",
       "  's_sems': [],\n",
       "  'sem_count': 3,\n",
       "  'sems': ['3_2007', '2_2007', '3_2008'],\n",
       "  'spec': ''},\n",
       " 155124: {'c_sem_count': 0,\n",
       "  'c_sems': [],\n",
       "  'gender': 1,\n",
       "  'has_minor': 0,\n",
       "  'p_sem_count': 0,\n",
       "  'p_sems': [],\n",
       "  'pc_sem_count': 0,\n",
       "  'pc_sems': [],\n",
       "  'ps_sem_count': 0,\n",
       "  'ps_sems': [],\n",
       "  's_sem_count': 0,\n",
       "  's_sems': [],\n",
       "  'sem_count': 2,\n",
       "  'sems': ['3_2007', '2_2007'],\n",
       "  'spec': ''},\n",
       " 170525: {'c_sem_count': 0,\n",
       "  'c_sems': [],\n",
       "  'gender': 1,\n",
       "  'has_minor': 0,\n",
       "  'p_sem_count': 0,\n",
       "  'p_sems': [],\n",
       "  'pc_sem_count': 0,\n",
       "  'pc_sems': [],\n",
       "  'ps_sem_count': 0,\n",
       "  'ps_sems': [],\n",
       "  's_sem_count': 0,\n",
       "  's_sems': [],\n",
       "  'sem_count': 2,\n",
       "  'sems': ['2_2008', '3_2009'],\n",
       "  'spec': ''},\n",
       " 175190: {'c_sem_count': 0,\n",
       "  'c_sems': [],\n",
       "  'gender': 1,\n",
       "  'has_minor': 0,\n",
       "  'p_sem_count': 1,\n",
       "  'p_sems': ['pp_2011'],\n",
       "  'pc_sem_count': 0,\n",
       "  'pc_sems': [],\n",
       "  'ps_sem_count': 0,\n",
       "  'ps_sems': [],\n",
       "  's_sem_count': 0,\n",
       "  's_sems': [],\n",
       "  'sem_count': 2,\n",
       "  'sems': ['2_2010', '3_2011'],\n",
       "  'spec': ''},\n",
       " 186264: {'c_sem_count': 0,\n",
       "  'c_sems': [],\n",
       "  'gender': 1,\n",
       "  'has_minor': 0,\n",
       "  'p_sem_count': 0,\n",
       "  'p_sems': [],\n",
       "  'pc_sem_count': 0,\n",
       "  'pc_sems': [],\n",
       "  'ps_sem_count': 0,\n",
       "  'ps_sems': [],\n",
       "  's_sem_count': 0,\n",
       "  's_sems': [],\n",
       "  'sem_count': 4,\n",
       "  'sems': ['2_2014', '3_2015', '2_2015', '3_2016'],\n",
       "  'spec': ''},\n",
       " 202878: {'c_sem_count': 0,\n",
       "  'c_sems': [],\n",
       "  'gender': 0,\n",
       "  'has_minor': 0,\n",
       "  'p_sem_count': 0,\n",
       "  'p_sems': [],\n",
       "  'pc_sem_count': 0,\n",
       "  'pc_sems': [],\n",
       "  'ps_sem_count': 0,\n",
       "  'ps_sems': [],\n",
       "  's_sem_count': 0,\n",
       "  's_sems': [],\n",
       "  'sem_count': 2,\n",
       "  'sems': ['2_2010', '3_2011'],\n",
       "  'spec': ''},\n",
       " 212069: {'c_sem_count': 0,\n",
       "  'c_sems': [],\n",
       "  'gender': 0,\n",
       "  'has_minor': 0,\n",
       "  'p_sem_count': 0,\n",
       "  'p_sems': [],\n",
       "  'pc_sem_count': 0,\n",
       "  'pc_sems': [],\n",
       "  'ps_sem_count': 0,\n",
       "  'ps_sems': [],\n",
       "  's_sem_count': 1,\n",
       "  's_sems': ['3_2013'],\n",
       "  'sem_count': 3,\n",
       "  'sems': ['2_2011', '3_2012', '2_2012'],\n",
       "  'spec': ''}}"
      ]
     },
     "execution_count": 26,
     "metadata": {},
     "output_type": "execute_result"
    }
   ],
   "source": [
    "missing_sem_1"
   ]
  },
  {
   "cell_type": "markdown",
   "metadata": {},
   "source": [
    "Here are students with first semester of master studies missing. However, this is perfectly valid, as one can start in Master semestre 2 after finishing the bachelor studies in odd semester."
   ]
  },
  {
   "cell_type": "code",
   "execution_count": 27,
   "metadata": {
    "collapsed": false
   },
   "outputs": [
    {
     "data": {
      "text/plain": [
       "7"
      ]
     },
     "execution_count": 27,
     "metadata": {},
     "output_type": "execute_result"
    }
   ],
   "source": [
    "has_minor_or_spec_but_no_sem3 = {key: val for key, val in result_dict.items() if (val['has_minor'] or val['spec'] != '' ) and not any(sem.startswith('3') for sem in val['sems'] + val['c_sems'] + val['s_sems'])}\n",
    "len(has_minor_or_spec_but_no_sem3)"
   ]
  },
  {
   "cell_type": "code",
   "execution_count": 28,
   "metadata": {
    "collapsed": false
   },
   "outputs": [
    {
     "data": {
      "text/plain": [
       "{170530: {'c_sem_count': 2,\n",
       "  'c_sems': ['1_2009', '2_2009'],\n",
       "  'gender': 1,\n",
       "  'has_minor': 0,\n",
       "  'p_sem_count': 0,\n",
       "  'p_sems': [],\n",
       "  'pc_sem_count': 0,\n",
       "  'pc_sems': [],\n",
       "  'ps_sem_count': 0,\n",
       "  'ps_sems': [],\n",
       "  's_sem_count': 0,\n",
       "  's_sems': [],\n",
       "  'sem_count': 4,\n",
       "  'sems': ['1_2010', '2_2010', '1_2011', '2_2011'],\n",
       "  'spec': 'Internet computing'},\n",
       " 179194: {'c_sem_count': 0,\n",
       "  'c_sems': [],\n",
       "  'gender': 1,\n",
       "  'has_minor': 0,\n",
       "  'p_sem_count': 0,\n",
       "  'p_sems': [],\n",
       "  'pc_sem_count': 0,\n",
       "  'pc_sems': [],\n",
       "  'ps_sem_count': 0,\n",
       "  'ps_sems': [],\n",
       "  's_sem_count': 1,\n",
       "  's_sems': ['1_2011'],\n",
       "  'sem_count': 3,\n",
       "  'sems': ['1_2010', '2_2010', '2_2011'],\n",
       "  'spec': 'Foundations of Software'},\n",
       " 200095: {'c_sem_count': 0,\n",
       "  'c_sems': [],\n",
       "  'gender': 0,\n",
       "  'has_minor': 0,\n",
       "  'p_sem_count': 0,\n",
       "  'p_sems': [],\n",
       "  'pc_sem_count': 0,\n",
       "  'pc_sems': [],\n",
       "  'ps_sem_count': 0,\n",
       "  'ps_sems': [],\n",
       "  's_sem_count': 1,\n",
       "  's_sems': ['1_2010'],\n",
       "  'sem_count': 3,\n",
       "  'sems': ['2_2010', '1_2011', '2_2011'],\n",
       "  'spec': 'Internet computing'},\n",
       " 201053: {'c_sem_count': 0,\n",
       "  'c_sems': [],\n",
       "  'gender': 1,\n",
       "  'has_minor': 0,\n",
       "  'p_sem_count': 0,\n",
       "  'p_sems': [],\n",
       "  'pc_sem_count': 0,\n",
       "  'pc_sems': [],\n",
       "  'ps_sem_count': 0,\n",
       "  'ps_sems': [],\n",
       "  's_sem_count': 0,\n",
       "  's_sems': [],\n",
       "  'sem_count': 3,\n",
       "  'sems': ['2_2011', '1_2012', '2_2012'],\n",
       "  'spec': 'Internet computing'},\n",
       " 204087: {'c_sem_count': 0,\n",
       "  'c_sems': [],\n",
       "  'gender': 1,\n",
       "  'has_minor': 0,\n",
       "  'p_sem_count': 0,\n",
       "  'p_sems': [],\n",
       "  'pc_sem_count': 0,\n",
       "  'pc_sems': [],\n",
       "  'ps_sem_count': 0,\n",
       "  'ps_sems': [],\n",
       "  's_sem_count': 0,\n",
       "  's_sems': [],\n",
       "  'sem_count': 3,\n",
       "  'sems': ['2_2013', '1_2014', '2_2014'],\n",
       "  'spec': 'Internet computing'},\n",
       " 214573: {'c_sem_count': 0,\n",
       "  'c_sems': [],\n",
       "  'gender': 1,\n",
       "  'has_minor': 0,\n",
       "  'p_sem_count': 0,\n",
       "  'p_sems': [],\n",
       "  'pc_sem_count': 0,\n",
       "  'pc_sems': [],\n",
       "  'ps_sem_count': 0,\n",
       "  'ps_sems': [],\n",
       "  's_sem_count': 0,\n",
       "  's_sems': [],\n",
       "  'sem_count': 3,\n",
       "  'sems': ['1_2015', '2_2015', '1_2016'],\n",
       "  'spec': 'Data Analytics'},\n",
       " 222381: {'c_sem_count': 0,\n",
       "  'c_sems': [],\n",
       "  'gender': 1,\n",
       "  'has_minor': 0,\n",
       "  'p_sem_count': 0,\n",
       "  'p_sems': [],\n",
       "  'pc_sem_count': 0,\n",
       "  'pc_sems': [],\n",
       "  'ps_sem_count': 0,\n",
       "  'ps_sems': [],\n",
       "  's_sem_count': 0,\n",
       "  's_sems': [],\n",
       "  'sem_count': 3,\n",
       "  'sems': ['1_2012', '2_2012', '1_2013'],\n",
       "  'spec': 'Foundations of Software'}}"
      ]
     },
     "execution_count": 28,
     "metadata": {},
     "output_type": "execute_result"
    }
   ],
   "source": [
    "has_minor_or_spec_but_no_sem3"
   ]
  },
  {
   "cell_type": "markdown",
   "metadata": {},
   "source": [
    "We see that some students miss _Master semestre 3_ even though they take a minor or a specialization.\n",
    "Nevertheless, as they took part in at least 3 semesters, we consider these to be valid entries."
   ]
  },
  {
   "cell_type": "code",
   "execution_count": 29,
   "metadata": {
    "collapsed": false
   },
   "outputs": [
    {
     "data": {
      "text/plain": [
       "644"
      ]
     },
     "execution_count": 29,
     "metadata": {},
     "output_type": "execute_result"
    }
   ],
   "source": [
    "missing_projet = {key: val for key, val in result_dict.items() if val['p_sem_count'] + val['pc_sem_count'] + val['ps_sem_count'] == 0}\n",
    "len(missing_projet)"
   ]
  },
  {
   "cell_type": "code",
   "execution_count": 30,
   "metadata": {
    "collapsed": false
   },
   "outputs": [],
   "source": [
    "for key in missing_projet.keys():\n",
    "    result_dict[key]['p_sem_count'] = 1"
   ]
  },
  {
   "cell_type": "markdown",
   "metadata": {},
   "source": [
    "Here is the biggest hole in our dataset.\n",
    "Out of 758 students 644 have no record for their master project in the database.\n",
    "This would be too much data to remove and that's why we assume that all the students with missing project record has managed to finish their project in one semester.\n",
    "This is a strong assumption and thus we definitely need to keep it in mind for discussion statistical significance of final results.\n",
    "\n",
    "It would also be possible to not assume one semster, but average caculated on people with non-missing records for their projects... specialization-wise and also gender-wise, so that it can be used in the bonus task."
   ]
  },
  {
   "cell_type": "code",
   "execution_count": 31,
   "metadata": {
    "collapsed": false,
    "scrolled": true
   },
   "outputs": [
    {
     "name": "stdout",
     "output_type": "stream",
     "text": [
      "Internet Information Systems avg: 4.00 semestres, students: 1\n",
      "Service science avg: 4.33 semestres, students: 3\n",
      "Signals, Images and Interfaces avg: 5.23 semestres, students: 26\n",
      "Software Systems avg: 4.40 semestres, students: 15\n",
      "No specialization (no minor) avg: 3.89 semestres, students: 456\n",
      "Computer Engineering - SP avg: 4.63 semestres, students: 19\n",
      "Data Analytics avg: 4.00 semestres, students: 5\n",
      "Internet computing avg: 4.80 semestres, students: 90\n",
      "No specialization (with possible minor) avg: 4.01 semestres, students: 526\n",
      "Computer Science Theory avg: 4.00 semestres, students: 1\n",
      "Information Security - SP avg: 4.29 semestres, students: 7\n",
      "Foundations of Software avg: 4.90 semestres, students: 61\n",
      "Biocomputing avg: 5.00 semestres, students: 4\n",
      "No specialization (with minor) avg: 4.79 semestres, students: 70\n"
     ]
    }
   ],
   "source": [
    "per_spec_data = {}\n",
    "per_spec_data['No specialization (with minor)'] = {'count': 0, 'sum': 0}\n",
    "per_spec_data['No specialization (no minor)'] = {'count': 0, 'sum': 0}\n",
    "\n",
    "for key, val in result_dict.items():\n",
    "    spec = val['spec']  \n",
    "    if spec == '':\n",
    "        spec = 'No specialization (with possible minor)'\n",
    "    if spec not in per_spec_data:\n",
    "        per_spec_data[spec] = {'count': 0, 'sum': 0}\n",
    "    sum_sem_count = val['sem_count'] + val['c_sem_count'] + val['s_sem_count'] + val['p_sem_count'] + val['pc_sem_count'] + val['ps_sem_count']\n",
    "    if spec == 'No specialization (with possible minor)':\n",
    "        if val['has_minor']:       \n",
    "            spec2 = 'No specialization (with minor)'\n",
    "        else:\n",
    "            spec2 = 'No specialization (no minor)'\n",
    "        per_spec_data[spec2]['count'] += 1     \n",
    "        per_spec_data[spec2]['sum'] += sum_sem_count\n",
    "    per_spec_data[spec]['count'] += 1     \n",
    "    per_spec_data[spec]['sum'] += sum_sem_count\n",
    "\n",
    "comp_dict = {}\n",
    "for key, val in per_spec_data.items():\n",
    "    avg = val['sum']/val['count']\n",
    "    comp_dict[key] = {'avg_w_int': avg, 'count': val['count']}\n",
    "    print((key if key != '' else 'No specialization (with possible minor)') + ' avg: ' + \"{0:.2f}\".format(avg) + ' semestres, students: ' + str(val['count']))"
   ]
  },
  {
   "cell_type": "markdown",
   "metadata": {},
   "source": [
    "The result consists of all the semesters including intenship, master thesis and leave (Congé).\n",
    "\n",
    "The average for a student without specialization is 4.01.\n",
    "This might seem too much; however, it is important to take into account that this average includes not only students doing 60 credits worth of courses and semesters, but it also includes students enrolled in minor doing 90 credits worth of courses and semesters.\n",
    "\n",
    "The average for students with no spcialization and no minor is 3.89.\n",
    "We indeed see that students with minor skew the average to the plus side a bit (+0.12). \n",
    "\n",
    "Signals, Images and Interfaces specialization takes the most of the additional time to finish, 1.22 semesters on average or 1.34 in comparison with the no-minor average.  \n",
    "Foundations of Software take 0.89 semesters more on average or 1.01 with respect to no-minor average.  \n",
    "Internet computing takes 0.79 semesters more or 0.91 by the no-minor average.  \n",
    "Computer Engineering - SP needs 0.62 of additional semesters or 0.74 (no-minor average).  \n",
    "Software Systems require 0.39 semesters more on average or 0.51 by no-minor average. \n",
    "\n",
    "Also, an interesting thing to note is that the average for students with a minor is 4.79 semesters, which is on par with the Internet computing specialization.\n",
    "\n",
    "The rest of specializations (Internet Information Systems, Computer Science Theory, Data Analytics, Biocomputing, Information Security - SP, Service science) have too small sample size for any assumptions to be made. \n",
    "\n",
    "In general we cannot really say that Signals, Images and Interfaces specialization is the most difficult.\n",
    "The difference in number of semesters necessary to finish the master might be caused by several factors.\n",
    "It migh be that this specialization is more difficult or that this specialization attracts worse students or that these students just like to do the semester internships more than the others.\n",
    "To make sure that the difference is not caused by the fact that worse students apply for this specialization, we would need to compare grades of core courses (i.e those shared by all the studnets in all the specializations).\n",
    "However, we don't have access to this information.\n",
    "Nonetheless, what we can do is to remove internships semsters from our results (see the next cell).     "
   ]
  },
  {
   "cell_type": "code",
   "execution_count": 32,
   "metadata": {
    "collapsed": false
   },
   "outputs": [
    {
     "name": "stdout",
     "output_type": "stream",
     "text": [
      "Internet Information Systems avg: 4.00 semestres, students: 1\n",
      "Service science avg: 4.33 semestres, students: 3\n",
      "Signals, Images and Interfaces avg: 4.81 semestres, students: 26\n",
      "Software Systems avg: 4.13 semestres, students: 15\n",
      "No specialization (no minor) avg: 3.59 semestres, students: 456\n",
      "Computer Engineering - SP avg: 4.42 semestres, students: 19\n",
      "Data Analytics avg: 4.00 semestres, students: 5\n",
      "Internet computing avg: 4.50 semestres, students: 90\n",
      "No specialization (with possible minor) avg: 3.70 semestres, students: 526\n",
      "Computer Science Theory avg: 4.00 semestres, students: 1\n",
      "Information Security - SP avg: 4.29 semestres, students: 7\n",
      "Foundations of Software avg: 4.46 semestres, students: 61\n",
      "Biocomputing avg: 5.00 semestres, students: 4\n",
      "No specialization (with minor) avg: 4.44 semestres, students: 70\n"
     ]
    },
    {
     "data": {
      "text/html": [
       "<table><tr><td>Specialization</td><td>students</td><td>w internship</td><td>wo internship</td><td>difference</td></tr><tr><td>Signals, Images and Interfaces</td><td>26</td><td>5.23</td><td>4.81</td><td>-0.42</td></tr><tr><td>Software Systems</td><td>15</td><td>4.40</td><td>4.13</td><td>-0.27</td></tr><tr><td>No specialization (no minor)</td><td>456</td><td>3.89</td><td>3.59</td><td>-0.30</td></tr><tr><td>Computer Engineering - SP</td><td>19</td><td>4.63</td><td>4.42</td><td>-0.21</td></tr><tr><td>Internet computing</td><td>90</td><td>4.80</td><td>4.50</td><td>-0.30</td></tr><tr><td>No specialization (with possible minor)</td><td>526</td><td>4.01</td><td>3.70</td><td>-0.31</td></tr><tr><td>Foundations of Software</td><td>61</td><td>4.90</td><td>4.46</td><td>-0.44</td></tr><tr><td>No specialization (with minor)</td><td>70</td><td>4.79</td><td>4.44</td><td>-0.34</td></tr></table>"
      ],
      "text/plain": [
       "<IPython.core.display.HTML object>"
      ]
     },
     "metadata": {},
     "output_type": "display_data"
    }
   ],
   "source": [
    "per_spec_data = {}\n",
    "per_spec_data['No specialization (with minor)'] = {'count': 0, 'sum': 0}\n",
    "per_spec_data['No specialization (no minor)'] = {'count': 0, 'sum': 0}\n",
    "\n",
    "for key, val in result_dict.items():\n",
    "    spec = val['spec']  \n",
    "    if spec == '':\n",
    "        spec = 'No specialization (with possible minor)'\n",
    "    if spec not in per_spec_data:\n",
    "        per_spec_data[spec] = {'count': 0, 'sum': 0}\n",
    "    sum_sem_count = val['sem_count'] + val['c_sem_count'] + val['p_sem_count'] + val['pc_sem_count'] + val['ps_sem_count']\n",
    "    if spec == 'No specialization (with possible minor)':\n",
    "        if val['has_minor']:       \n",
    "            spec2 = 'No specialization (with minor)'\n",
    "        else:\n",
    "            spec2 = 'No specialization (no minor)'\n",
    "        per_spec_data[spec2]['count'] += 1     \n",
    "        per_spec_data[spec2]['sum'] += sum_sem_count\n",
    "    per_spec_data[spec]['count'] += 1     \n",
    "    per_spec_data[spec]['sum'] += sum_sem_count\n",
    "\n",
    "for key, val in per_spec_data.items():\n",
    "    avg = val['sum']/val['count']\n",
    "    comp_dict[key]['avg_wo_int'] = avg\n",
    "    print((key if key != '' else 'No specialization (with possible minor)') + ' avg: ' + \"{0:.2f}\".format(avg) + ' semestres, students: ' + str(val['count']))\n",
    "\n",
    "    \n",
    "from IPython.display import HTML, display\n",
    "\n",
    "header = ['Specialization', 'students', 'w internship', 'wo internship', 'difference']\n",
    "data = [[key, val['count'], \"{0:.2f}\".format(val['avg_w_int']), \"{0:.2f}\".format(val['avg_wo_int']), \"{0:.2f}\".format(val['avg_wo_int'] - val['avg_w_int'])] for key, val in  comp_dict.items() if val['count'] > 10]\n",
    "table = [header, *data]    \n",
    "\n",
    "display(HTML(\n",
    "'<table><tr>{}</tr></table>'.format(\n",
    "    '</tr><tr>'.join(\n",
    "        '<td>{}</td>'.format('</td><td>'.join(str(_) for _ in row)) for row in table)\n",
    "    )\n",
    "))"
   ]
  },
  {
   "cell_type": "markdown",
   "metadata": {},
   "source": [
    "We can see that internship can make as much as a 0.23 (- 0.21 + 0.44) semester difference when comparing different specializations.\n",
    "\n",
    "Anyway, even by not taking an internship into account we still cannot tell whether some specializations are more difficult or not.\n",
    "To get slightly better idea we would need to compare grades of core courses (i.e those shared by all the students in all the specializations), as was mentioned before.\n",
    "However, this would not be absolutely precise measurement either, as grades in core courses are likely not independent from the difficulty of specializations.\n",
    "In other words, a student might have worse grade in core course because he spends too much time on specialization courses."
   ]
  },
  {
   "cell_type": "markdown",
   "metadata": {},
   "source": [
    "TODO check statistical significance"
   ]
  },
  {
   "cell_type": "markdown",
   "metadata": {},
   "source": [
    "# Bonus-Task\n",
    "\n",
    "> BONUS: perform the gender-based study also on the Master students, as explained in 1. Use scatterplots to visually identify changes over time. Plot males and females with different colors -- can you spot different trends that match the results of your statistical tests?"
   ]
  },
  {
   "cell_type": "code",
   "execution_count": 33,
   "metadata": {
    "collapsed": false
   },
   "outputs": [
    {
     "data": {
      "text/plain": [
       "656"
      ]
     },
     "execution_count": 33,
     "metadata": {},
     "output_type": "execute_result"
    }
   ],
   "source": [
    "no_of_males = sum([val['gender'] for val in result_dict.values()])\n",
    "no_of_males"
   ]
  },
  {
   "cell_type": "code",
   "execution_count": 34,
   "metadata": {
    "collapsed": false
   },
   "outputs": [
    {
     "data": {
      "text/plain": [
       "102"
      ]
     },
     "execution_count": 34,
     "metadata": {},
     "output_type": "execute_result"
    }
   ],
   "source": [
    "no_of_females = len(result_dict) - no_of_males\n",
    "no_of_females"
   ]
  },
  {
   "cell_type": "markdown",
   "metadata": {},
   "source": [
    "As we didn't get any exception regarding gender while parsing the data we can safely assume that there was no gender value missing.\n",
    "\n",
    "Thus len(result_dict) - no_of_males is a valid computation."
   ]
  },
  {
   "cell_type": "code",
   "execution_count": 35,
   "metadata": {
    "collapsed": false
   },
   "outputs": [
    {
     "name": "stdout",
     "output_type": "stream",
     "text": [
      "Average number of semesters to finish master studies for male student is 4.25\n",
      "Average number of semesters to finish master studies for female student is 4.28\n"
     ]
    }
   ],
   "source": [
    "male_average_wo_leave = sum([val['sem_count'] + val['c_sem_count'] + val['s_sem_count'] + val['p_sem_count'] + val['pc_sem_count'] + val['ps_sem_count'] for val in result_dict.values() if val['gender'] == 1]) / no_of_males \n",
    "print('Average number of semesters to finish master studies for male student is ' + \"{0:.2f}\".format(male_average_wo_leave))\n",
    "female_average_wo_leave = sum([val['sem_count'] + val['c_sem_count'] + val['s_sem_count'] + val['p_sem_count'] + val['pc_sem_count'] + val['ps_sem_count'] for val in result_dict.values() if val['gender'] == 0]) / no_of_females\n",
    "print('Average number of semesters to finish master studies for female student is ' + \"{0:.2f}\".format(female_average_wo_leave))"
   ]
  },
  {
   "cell_type": "code",
   "execution_count": 36,
   "metadata": {
    "collapsed": false
   },
   "outputs": [
    {
     "name": "stdout",
     "output_type": "stream",
     "text": [
      "min:3\n",
      "max:8\n",
      "median:4.0\n"
     ]
    },
    {
     "data": {
      "image/png": "[encoded data removed]",
      "text/plain": [
       "<matplotlib.figure.Figure at 0x119c99fd0>"
      ]
     },
     "metadata": {},
     "output_type": "display_data"
    }
   ],
   "source": [
    "plot_data = []\n",
    "sem_sum_list = []\n",
    "for key, val in result_dict.items():\n",
    "    sem_sum = val['sem_count'] + val['c_sem_count'] + val['s_sem_count'] + val['p_sem_count'] + val['pc_sem_count'] + val['ps_sem_count']\n",
    "    sem_sum_list.append(sem_sum)\n",
    "    plot_data.append((min([int(sem[-4:]) + (0 if int(sem[0]) % 2 == 1 else 0.5) for sem in val['sems'] + val['c_sems'] + val['s_sems']]), sem_sum, val['gender']))\n",
    "\n",
    "min_sems = min(sem_sum_list)\n",
    "print('min:' + str(min_sems))\n",
    "max_sems = max(sem_sum_list)\n",
    "print('max:' + str(max_sems))\n",
    "\n",
    "import statistics\n",
    "print('median:' + str(statistics.median(sem_sum_list)))\n",
    "\n",
    "import matplotlib.pyplot as plt\n",
    "import numpy as np\n",
    "a = np.arange(min_sems - 0.5,max_sems + 1.5, 1)\n",
    "plt.hist(sem_sum_list, bins = a)\n",
    "plt.show()"
   ]
  },
  {
   "cell_type": "markdown",
   "metadata": {},
   "source": [
    "We had a look at some metrics of our data to see if everything fits well.\n",
    "\n",
    "We see that minimum number of semesters in our data is 3.\n",
    "That reflects a reality well as it can be achieved by not doing any minor nor specialization, thus doing 2 semsters, doing the internship in summer and finishing the thesis in one semester.\n",
    "\n",
    "The maximum number of semesters is 8.\n",
    "In reality the maximum is 9 as with minor or specialization one has to do at least 3 semsters of courses while the double of this is the maximum number of semsters to finish courses.\n",
    "Then add internship during the semester and 2 semsters to finish the master thesis and we get 9.\n",
    "\n",
    "However, we do not have any such extreme cases.\n",
    "The reason might be that because of missing lots of records for master thesises we assumed that it takes only one semester to finish the thesis for a person with missing records. \n",
    "\n",
    "The median is 4 which makes sense again as the average for males is 4.25 and for females 4.28 while having very little variance, i.e. we don't have any large number (in orders of magnitude) that would push average far away from the median."
   ]
  },
  {
   "cell_type": "code",
   "execution_count": 37,
   "metadata": {
    "collapsed": false
   },
   "outputs": [
    {
     "data": {
      "text/plain": [
       "[<matplotlib.lines.Line2D at 0x119809240>]"
      ]
     },
     "execution_count": 37,
     "metadata": {},
     "output_type": "execute_result"
    },
    {
     "data": {
      "image/png": "[encoded data removed]",
      "text/plain": [
       "<matplotlib.figure.Figure at 0x119809ba8>"
      ]
     },
     "metadata": {},
     "output_type": "display_data"
    }
   ],
   "source": [
    "plt.figure()\n",
    "\n",
    "years = np.arange(2007, 2016.5, 0.5)\n",
    "sems = np.arange(min_sems, max_sems + 1)\n",
    "size_m = np.zeros((len(years), len(sems))) \n",
    "size_f = np.zeros((len(years), len(sems))) \n",
    "for year, sem, gender in plot_data:\n",
    "    if gender == 1:\n",
    "        size_m[int((year - 2007)*2), sem - min_sems] += 1 \n",
    "    else:\n",
    "        size_f[int((year - 2007)*2), sem - min_sems] += 1 \n",
    "\n",
    "size_m_sum = size_m.sum(1)\n",
    "size_m_sum[size_m_sum == 0] = np.inf\n",
    "average_over_years_m = (size_m * np.arange(min_sems, max_sems + 1)).sum(1) / size_m_sum\n",
    "size_m = size_m / size_m_sum[:, None]\n",
    "\n",
    "size_f_sum = size_f.sum(1)\n",
    "size_f_sum[size_f_sum == 0] = np.inf\n",
    "average_over_years_f = (size_f * np.arange(min_sems, max_sems + 1)).sum(1) / size_f_sum\n",
    "size_f = size_f / size_f_sum[:, None]\n",
    "        \n",
    "for sem in sems:\n",
    "    plt.scatter(years,\n",
    "                sem * np.ones(len(years)),\n",
    "                marker='o',\n",
    "                color='b',\n",
    "                alpha=0.5,\n",
    "                s=size_m[:,sem - min_sems] * 500\n",
    "               )\n",
    "\n",
    "    plt.scatter(years,\n",
    "                sem * np.ones(len(years)),\n",
    "                marker='o',\n",
    "                color='r',\n",
    "                alpha=0.5,\n",
    "                s=size_f[:,sem - min_sems] * 500\n",
    "               )\n",
    "plt.plot(years[:-4], average_over_years_m[:-4], color='b')\n",
    "\n",
    "no_of_last_sample_to_ignore = 3\n",
    "plt.plot(years[:-no_of_last_sample_to_ignore - 1], average_over_years_m[:-no_of_last_sample_to_ignore - 1], color='b')\n",
    "\n",
    "not_ok_ind = (average_over_years_f == 0).ravel().nonzero()[0]\n",
    "ok_ind = (average_over_years_f != 0).ravel().nonzero()[0]\n",
    "ok_val = average_over_years_f[average_over_years_f!=0]\n",
    "average_over_years_f[average_over_years_f==0] = np.interp(not_ok_ind, ok_ind, ok_val)\n",
    "plt.plot(years[:-no_of_last_sample_to_ignore - 1], average_over_years_f[:-no_of_last_sample_to_ignore - 1], color='r')"
   ]
  },
  {
   "cell_type": "markdown",
   "metadata": {},
   "source": [
    "Finally, we plot the scatter plot to analyse the number of semesters it took for students of each gender to finish the studies starting at different semesters and years. \n",
    "\n",
    "The size of the point represents percentage of students of given gender who started studying at given year. In other words, the sum of sizes of blue cirlces equals the sum of sizes of red circles at given column. \n",
    "\n",
    "One might read from the plot that the trend is going steeply down during the last 3 semester. However, this is far from true: The reason for the steep downtrend in the end is that we have assumed that students will finish as soon as possible.\n",
    "In other words we assumed that persons who is this semester (_Autumn 2016-2017_) in their 2nd semester will finish their studies with the thesis next semester and the very same for students studying minors or taking specializations in their 3rd semestre.\n",
    "Also, we potentially \"shortened\" studies of people starting in Autumn and Spring semesters of 2014-2015 as well. Thus we have decided to disregard these semesters, with an exception for Autumn 2014-2015. We consider that semester statistically significant, becuase the amount of people studying 7 or 8 semsters over the years is very small. We assume that this trend continues and thus the average in Autumn semstre 2014-2015 will increase only insignificantly. \n",
    "\n",
    "We can see that in some columns red circles miss completely, technically for evey other column. These columns represent students starting in the second (spring) semester of the school year. These students are those who finished their bachelor at EPFL in the autumn semester and thus start the master in the spring one. Everybody else starts studying in first (autumn) semestre, the number of such students is usally very low. Given that number of women in IN is very small it ususally happens that there is no female starting her studies in spring semstre. We decided to verify this (see cell below). Thus, we have interpolated missing values in female average trend. "
   ]
  },
  {
   "cell_type": "code",
   "execution_count": 36,
   "metadata": {
    "collapsed": false
   },
   "outputs": [
    {
     "data": {
      "text/plain": [
       "<Container object of 19 artists>"
      ]
     },
     "execution_count": 36,
     "metadata": {},
     "output_type": "execute_result"
    },
    {
     "data": {
      "image/png": "[encoded data removed]",
      "text/plain": [
       "<matplotlib.figure.Figure at 0x9dbe1d0>"
      ]
     },
     "metadata": {},
     "output_type": "display_data"
    }
   ],
   "source": [
    "no_of_f_per_sem = size_f_sum\n",
    "no_of_f_per_sem[no_of_f_per_sem==np.inf] = 0\n",
    "\n",
    "no_of_m_per_sem = size_m_sum\n",
    "no_of_m_per_sem[no_of_m_per_sem==np.inf] = 0\n",
    "\n",
    "plt.figure()\n",
    "\n",
    "width = 0.20\n",
    "\n",
    "plt.bar(years, no_of_m_per_sem, width,\n",
    "    color='b')\n",
    "\n",
    "plt.bar(years +width, no_of_f_per_sem, width,\n",
    "    color='r')"
   ]
  },
  {
   "cell_type": "markdown",
   "metadata": {},
   "source": [
    "We can see that number of students starting in spring semstre is very tiny. Thus calculations based on them cannot be very statistically significant. Therefore, we have decided to disregard these semestres (see cell below)."
   ]
  },
  {
   "cell_type": "code",
   "execution_count": 37,
   "metadata": {
    "collapsed": false,
    "scrolled": false
   },
   "outputs": [
    {
     "data": {
      "text/plain": [
       "[<matplotlib.lines.Line2D at 0x9d16978>]"
      ]
     },
     "execution_count": 37,
     "metadata": {},
     "output_type": "execute_result"
    },
    {
     "data": {
      "image/png": "[encoded data removed]",
      "text/plain": [
       "<matplotlib.figure.Figure at 0xb938ac8>"
      ]
     },
     "metadata": {},
     "output_type": "display_data"
    }
   ],
   "source": [
    "plt.figure()\n",
    "\n",
    "years = np.arange(2007, 2016 + 1)\n",
    "sems = np.arange(min_sems, max_sems + 1)\n",
    "size_m = np.zeros((len(years), len(sems))) \n",
    "size_f = np.zeros((len(years), len(sems))) \n",
    "for year, sem, gender in plot_data:\n",
    "    if year % 1 != 0:\n",
    "        continue\n",
    "    if gender == 1:\n",
    "        size_m[year - 2007, sem - min_sems] += 1 \n",
    "    else:\n",
    "        size_f[year - 2007, sem - min_sems] += 1 \n",
    "\n",
    "size_m_sum = size_m.sum(1)\n",
    "size_m_sum[size_m_sum == 0] = np.inf\n",
    "average_over_years_m = (size_m * np.arange(min_sems, max_sems + 1)).sum(1) / size_m_sum\n",
    "size_m = size_m / size_m_sum[:, None]\n",
    "\n",
    "size_f_sum = size_f.sum(1)\n",
    "size_f_sum[size_f_sum == 0] = np.inf\n",
    "average_over_years_f = (size_f * np.arange(min_sems, max_sems + 1)).sum(1) / size_f_sum\n",
    "size_f = size_f / size_f_sum[:, None]\n",
    "        \n",
    "for sem in sems:\n",
    "    plt.scatter(years,\n",
    "                sem * np.ones(len(years)),\n",
    "                marker='o',\n",
    "                color='b',\n",
    "                alpha=0.5,\n",
    "                s=size_m[:,sem - min_sems] * 500\n",
    "               )\n",
    "\n",
    "    plt.scatter(years,\n",
    "                sem * np.ones(len(years)),\n",
    "                marker='o',\n",
    "                color='r',\n",
    "                alpha=0.5,\n",
    "                s=size_f[:,sem - min_sems] * 500\n",
    "               )\n",
    "    \n",
    "no_of_last_sample_to_ignore = 1\n",
    "plt.plot(years[:-no_of_last_sample_to_ignore - 1], average_over_years_m[:-no_of_last_sample_to_ignore - 1], color='b')\n",
    "\n",
    "not_ok_ind = (average_over_years_f == 0).ravel().nonzero()[0]\n",
    "ok_ind = (average_over_years_f != 0).ravel().nonzero()[0]\n",
    "ok_val = average_over_years_f[average_over_years_f!=0]\n",
    "average_over_years_f[average_over_years_f==0] = np.interp(not_ok_ind, ok_ind, ok_val)\n",
    "plt.plot(years[:-no_of_last_sample_to_ignore - 1], average_over_years_f[:-no_of_last_sample_to_ignore - 1], color='r')"
   ]
  },
  {
   "cell_type": "markdown",
   "metadata": {},
   "source": [
    "We can see that the trend is much smoother now. The decison about disregarding last few semestres (epxlained at previous scatter plot) was kept for very same reasons. \n",
    "\n",
    "The trend for male students is slowly but obviously increasing over the years. For females we conclude the same while we assume that slight fluctations are present only due to insufficient amount of samples. "
   ]
  },
  {
   "cell_type": "markdown",
   "metadata": {},
   "source": [
    "TODO check statistical significance"
   ]
  }
 ],
 "metadata": {
  "anaconda-cloud": {},
  "kernelspec": {
   "display_name": "Python [Root]",
   "language": "python",
   "name": "Python [Root]"
  },
  "language_info": {
   "codemirror_mode": {
    "name": "ipython",
    "version": 3
   },
   "file_extension": ".py",
   "mimetype": "text/x-python",
   "name": "python",
   "nbconvert_exporter": "python",
   "pygments_lexer": "ipython3",
   "version": "3.5.2"
  }
 },
 "nbformat": 4,
 "nbformat_minor": 0
}
