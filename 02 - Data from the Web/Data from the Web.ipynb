{
 "cells": [
  {
   "cell_type": "code",
   "execution_count": 3,
   "metadata": {
    "collapsed": false
   },
   "outputs": [],
   "source": [
    "%matplotlib inline\n",
    "import pandas as pd\n",
    "import numpy as np\n",
    "import matplotlib.pyplot as plt\n",
    "import seaborn as sns\n",
    "sns.set_context('notebook')\n",
    "\n",
    "import requests\n",
    "from bs4 import BeautifulSoup\n",
    "import re"
   ]
  },
  {
   "cell_type": "markdown",
   "metadata": {},
   "source": [
    "# Preamble — Prepare to fetch data\n",
    "\n",
    "These are the root URLs for the two kinds of requests we need to perform: filters and lists.\n",
    "\n",
    "First, the filter dialog is used to\n",
    "\n",
    "1. Retreive the IDs for the years and semesters, as well as for the _Informatique_ field of study, we care about\n",
    "2. Look for the ID of the associated list.\n",
    "\n",
    "Lists contain the actual data we care about.\n",
    "\n",
    "Both types of request use a fixed `ww_i_reportModel` constant, which we assume is used for versioning."
   ]
  },
  {
   "cell_type": "code",
   "execution_count": 5,
   "metadata": {
    "collapsed": false
   },
   "outputs": [
    {
     "data": {
      "text/plain": [
       "['http://isa.epfl.ch/imoniteur_ISAP/!GEDPUBLICREPORTS.filter?ww_b_list=1&ww_i_reportModel=133685247&ww_i_reportModelXsl=133685270&',\n",
       " 'http://isa.epfl.ch/imoniteur_ISAP/!GEDPUBLICREPORTS.html?&ww_i_reportModel=133685247&ww_i_reportModelXsl=133685270&']"
      ]
     },
     "execution_count": 5,
     "metadata": {},
     "output_type": "execute_result"
    }
   ],
   "source": [
    "root_url = 'http://isa.epfl.ch/imoniteur_ISAP/!GEDPUBLICREPORTS.'\n",
    "report = '&ww_i_reportModel=133685247&ww_i_reportModelXsl=133685270&'\n",
    "filter_path = root_url + 'filter?ww_b_list=1' + report\n",
    "list_path = root_url + 'html?' + report\n",
    "[ filter_path, list_path ]"
   ]
  },
  {
   "cell_type": "markdown",
   "metadata": {},
   "source": [
    "Next, we look up the IDs for the years and semesters we're interested in."
   ]
  },
  {
   "cell_type": "code",
   "execution_count": 6,
   "metadata": {
    "collapsed": false
   },
   "outputs": [
    {
     "data": {
      "text/plain": [
       "{'': 'null',\n",
       " '2007-2008': '978181',\n",
       " '2008-2009': '978187',\n",
       " '2009-2010': '978195',\n",
       " '2010-2011': '39486325',\n",
       " '2011-2012': '123455150',\n",
       " '2012-2013': '123456101',\n",
       " '2013-2014': '213637754',\n",
       " '2014-2015': '213637922',\n",
       " '2015-2016': '213638028',\n",
       " '2016-2017': '355925344'}"
      ]
     },
     "execution_count": 6,
     "metadata": {},
     "output_type": "execute_result"
    }
   ],
   "source": [
    "# Find the IDs for the individual years\n",
    "\n",
    "req = requests.get(filter_path)\n",
    "\n",
    "if req.status_code != 200:\n",
    "  raise Exception('Request failed')\n",
    "\n",
    "parser = BeautifulSoup(req.text, \"html.parser\")\n",
    "\n",
    "years = parser.find('select', attrs={\"name\": \"ww_x_PERIODE_ACAD\"}).findAll('option')\n",
    "year_ids = {year.text: year['value'] for year in years}\n",
    "\n",
    "year_ids"
   ]
  },
  {
   "cell_type": "code",
   "execution_count": 7,
   "metadata": {
    "collapsed": false
   },
   "outputs": [
    {
     "data": {
      "text/plain": [
       "'249847'"
      ]
     },
     "execution_count": 7,
     "metadata": {},
     "output_type": "execute_result"
    }
   ],
   "source": [
    "informatique_id = parser.find(\n",
    "    'select',\n",
    "    attrs={\"name\": \"ww_x_UNITE_ACAD\"}\n",
    ").find(\n",
    "    (lambda tag: tag.text == 'Informatique')\n",
    ")['value']\n",
    "\n",
    "informatique_id"
   ]
  },
  {
   "cell_type": "code",
   "execution_count": 8,
   "metadata": {
    "collapsed": false
   },
   "outputs": [
    {
     "data": {
      "text/plain": [
       "{'': 'null',\n",
       " 'Bachelor semestre 1': '249108',\n",
       " 'Bachelor semestre 2': '249114',\n",
       " 'Bachelor semestre 3': '942155',\n",
       " 'Bachelor semestre 4': '942163',\n",
       " 'Bachelor semestre 5': '942120',\n",
       " 'Bachelor semestre 5b': '2226768',\n",
       " 'Bachelor semestre 6': '942175',\n",
       " 'Bachelor semestre 6b': '2226785',\n",
       " 'Master semestre 1': '2230106',\n",
       " 'Master semestre 2': '942192',\n",
       " 'Master semestre 3': '2230128',\n",
       " 'Master semestre 4': '2230140',\n",
       " 'Mineur semestre 1': '2335667',\n",
       " 'Mineur semestre 2': '2335676',\n",
       " 'Mise à niveau': '2063602308',\n",
       " 'Projet Master automne': '249127',\n",
       " 'Projet Master printemps': '3781783',\n",
       " 'Semestre automne': '953159',\n",
       " 'Semestre printemps': '2754553',\n",
       " 'Stage automne 3ème année': '953137',\n",
       " 'Stage automne 4ème année': '2226616',\n",
       " 'Stage printemps 3ème année': '983606',\n",
       " 'Stage printemps 4ème année': '2226626',\n",
       " 'Stage printemps master': '2227132'}"
      ]
     },
     "execution_count": 8,
     "metadata": {},
     "output_type": "execute_result"
    }
   ],
   "source": [
    "periods = parser.find('select', attrs={'name': 'ww_x_PERIODE_PEDAGO'})\n",
    "period_ids = {}\n",
    "\n",
    "for el in periods:\n",
    "    period_ids[el.text] = el['value']\n",
    "\n",
    "period_ids"
   ]
  },
  {
   "cell_type": "code",
   "execution_count": 9,
   "metadata": {
    "collapsed": false
   },
   "outputs": [
    {
     "data": {
      "text/plain": [
       "'2021043255'"
      ]
     },
     "execution_count": 9,
     "metadata": {},
     "output_type": "execute_result"
    }
   ],
   "source": [
    "def get_gps_id(period, year):\n",
    "    query = 'ww_x_PERIODE_PEDAGO=' + period_ids[period] + '&ww_x_PERIODE_ACAD=' + year_ids[year]\n",
    "    req = requests.get(filter_path + 'ww_x_UNITE_ACAD=' + informatique_id + '&' + query)\n",
    "    \n",
    "    \n",
    "    if req.status_code != 200:\n",
    "      raise Exception('Request failed')\n",
    "    \n",
    "    parser = BeautifulSoup(req.text, \"html.parser\")\n",
    "\n",
    "    onclick_value = parser.findAll('a', class_ = 'ww_x_GPS')[1]['onclick']\n",
    "    \n",
    "    return re.search('ww_x_GPS=(\\\\d+)', onclick_value).group(1)\n",
    "\n",
    "get_gps_id(period='Bachelor semestre 1', year='2016-2017')"
   ]
  },
  {
   "cell_type": "code",
   "execution_count": 10,
   "metadata": {
    "collapsed": false
   },
   "outputs": [
    {
     "data": {
      "text/plain": [
       "['Monsieur',\n",
       " 'Balas\\xa0Martin',\n",
       " '',\n",
       " '',\n",
       " '',\n",
       " '',\n",
       " '',\n",
       " 'Présent',\n",
       " '',\n",
       " '',\n",
       " '174774',\n",
       " '']"
      ]
     },
     "execution_count": 10,
     "metadata": {},
     "output_type": "execute_result"
    }
   ],
   "source": [
    "def get_table(period, year):\n",
    "    query = 'ww_x_GPS=' + get_gps_id(period, year) + '&ww_x_UNITE_ACAD=' + informatique_id\n",
    "    req = requests.get(list_path + query)\n",
    "\n",
    "    if req.status_code != 200:\n",
    "      raise Exception('Request failed')\n",
    "\n",
    "    parser = BeautifulSoup(req.text, \"html.parser\")\n",
    "\n",
    "    return list(map((lambda x: [el.text for el in x.findAll('td')]), parser.findAll('tr')[2:]))\n",
    "\n",
    "get_table(period='Bachelor semestre 6', year='2008-2009')[0]"
   ]
  },
  {
   "cell_type": "markdown",
   "metadata": {},
   "source": [
    "# Task 1\n",
    "\n",
    "> Obtain all the data for the Bachelor students, starting from 2007. Keep only the students for which you have an entry for both Bachelor semestre 1 and Bachelor semestre 6. Compute how many months it took each student to go from the first to the sixth semester. Partition the data between male and female students, and compute the average -- is the difference in average statistically significant?"
   ]
  },
  {
   "cell_type": "code",
   "execution_count": 132,
   "metadata": {
    "collapsed": false
   },
   "outputs": [],
   "source": [
    "result_dict = {} \n",
    "attente = {}\n",
    "conge = {}\n",
    "for year in range(2007, 2017):\n",
    "    for sem in range(1, 7):\n",
    "        table = get_table(period='Bachelor semestre ' + str(sem), year=str(year) + '-' + str(year + 1))\n",
    "        for record in table:\n",
    "            statut = record[7]\n",
    "            id = int(record[10])  # will raise expcetion if Noone or empty string \n",
    "            if  statut == 'Présent':                               \n",
    "                gender = record[0] \n",
    "                if gender not in ['Monsieur', 'Madame']:\n",
    "                    raise Exception('Unexpected gender:' + gender + '; sem: ' + str(sem) + ' year: ' + str(year) + ' id: ' + str(id))\n",
    "                gender = int(gender == 'Monsieur')  # => 1 for Monsieur, 0 for Madame\n",
    "                if id not in result_dict:\n",
    "                    if sem == 1:  # we consider only students who started studying in 2007 or later\n",
    "                        result_dict[id] = {'gender': gender, 'sem_count': 0, 'sems': []}\n",
    "                    else:\n",
    "                        continue\n",
    "                else:\n",
    "                    if result_dict[id]['gender'] != gender:\n",
    "                        raise Expception('Inconsistent gender!')\n",
    "                result_dict[id]['sem_count'] += 1\n",
    "                result_dict[id]['sems'].append(str(sem) + '_' + str(year))\n",
    "            elif statut == 'Congé':\n",
    "                if id not in conge:\n",
    "                    conge[id] = {'c_sems': [], 'c_sem_count': 0}\n",
    "                conge[id]['c_sems'].append(str(sem) + '_' + str(year))\n",
    "                conge[id]['c_sem_count'] += 1     \n",
    "            elif statut == 'Attente':\n",
    "                if id not in attente:\n",
    "                    attente[id] = {'a_sems': [], 'a_sem_count': 0}\n",
    "                attente[id]['a_sems'].append(str(sem) + '_' + str(year))\n",
    "                attente[id]['a_sem_count'] += 1                \n",
    "            else: raise Exception('Unexpected statut: ' + statut + '; sem: ' + str(sem) + ' year: ' + str(year) + ' id: ' + str(id))"
   ]
  },
  {
   "cell_type": "markdown",
   "metadata": {},
   "source": [
    "In above alpgorithm we load all the students from desired period (2007+). However, for the sake of simplicity we are only interested in students who started at 2007 or later. If we were to consider students who started earlier we would have to make lots of assumptions which would result in making up data. \n",
    "\n",
    "We also check for the statut of the student at given semester. We have found 3 different types of statutes - Présent, Congé and Attente. Later on we will try to analyze their meaning and contribution.\n",
    "\n",
    "When it comes to Période pédagogique we take into account only Bachelor Semester 1 - 6. We have decided to ignore Semestre automne and Semestre printemps as they contain only exchange students. Exchange studants are staying only one semster or two and so using them in our computation would skew the averages to artifical low numbers. We have also ignored Mise à niveau, Bachelor Semestre 5b, Bachelor Semestre 6b because they are empty for Unité académique == Informatique. All the other Périodes pédagogiques (Master semestre N, Mineur semestre N, Projet Master automne/printemps) are ignored for this part of exercise because they regard master students.     \n",
    "\n",
    "We also disregard Type de semestre becuase it does not bring us any new information. As a rule of a thumb Bachelor semestres 1, 3 and 5 are always Semestre d'automne while Bachelor semestres 2, 4 and 6 are always Semestre de printemps. Combination of Bachelor Semestre N with different season (e.g. Bachelor semestre 1 and Semestre de printemps) results always in empty result. "
   ]
  },
  {
   "cell_type": "code",
   "execution_count": null,
   "metadata": {
    "collapsed": true
   },
   "outputs": [],
   "source": [
    "to_delete = []\n",
    "for key, value in result_dict.items():\n",
    "    if not any(sem.startswith('6') for sem in value['sems']):\n",
    "        to_delete.append(key)\n",
    "for key in to_delete:\n",
    "    del result_dict[key]"
   ]
  },
  {
   "cell_type": "markdown",
   "metadata": {},
   "source": [
    "In above code we check if student has an entry for semester 6 in his record. If he has we assume he sucessfully finished his studies, even though technically the fact that he took part in 6th semester does not mean he has finished it sucessfully. Then we remove all the students who don't have the entry for semester 6 in their semester list as they haven't finished the studies yet becuase they are not suitable for the computation. "
   ]
  },
  {
   "cell_type": "code",
   "execution_count": 141,
   "metadata": {
    "collapsed": false
   },
   "outputs": [
    {
     "data": {
      "text/plain": [
       "297"
      ]
     },
     "execution_count": 141,
     "metadata": {},
     "output_type": "execute_result"
    }
   ],
   "source": [
    "len(result_dict)"
   ]
  },
  {
   "cell_type": "markdown",
   "metadata": {},
   "source": [
    "By the removal of irrelevant data we decreased size of our dataset from 1476 to 297 samples."
   ]
  },
  {
   "cell_type": "code",
   "execution_count": 135,
   "metadata": {
    "collapsed": false
   },
   "outputs": [],
   "source": [
    "def intersect_dicts(dict1, dict2):\n",
    "    keys_intersection = set(dict1.keys()).intersection(set(dict2.keys()))\n",
    "    res = {}\n",
    "    for key in keys_intersection:\n",
    "        res[key] = {**dict1[key], **dict2[key]}\n",
    "    return res"
   ]
  },
  {
   "cell_type": "code",
   "execution_count": 143,
   "metadata": {
    "collapsed": false
   },
   "outputs": [
    {
     "data": {
      "text/plain": [
       "1"
      ]
     },
     "execution_count": 143,
     "metadata": {},
     "output_type": "execute_result"
    }
   ],
   "source": [
    "attente_int_result = set(attente.keys()).intersection(set(result_dict.keys()))\n",
    "len(attente_int_result)"
   ]
  },
  {
   "cell_type": "code",
   "execution_count": 144,
   "metadata": {
    "collapsed": false
   },
   "outputs": [
    {
     "data": {
      "text/plain": [
       "{223892: {'a_sem_count': 2,\n",
       "  'a_sems': ['1_2014', '2_2014'],\n",
       "  'gender': 1,\n",
       "  'sem_count': 9,\n",
       "  'sems': ['1_2012',\n",
       "   '2_2012',\n",
       "   '1_2013',\n",
       "   '2_2013',\n",
       "   '3_2014',\n",
       "   '4_2014',\n",
       "   '5_2015',\n",
       "   '6_2015',\n",
       "   '5_2016']}}"
      ]
     },
     "execution_count": 144,
     "metadata": {},
     "output_type": "execute_result"
    }
   ],
   "source": [
    "intersect_dicts(result_dict, attente)"
   ]
  },
  {
   "cell_type": "markdown",
   "metadata": {},
   "source": [
    "Attente statut has occured only in 1 case out of 297. It is overlapping with semesters where student had statut Présent. We consider the statut Présent to be of higher importance and thus we disregard the Attente statut.  "
   ]
  },
  {
   "cell_type": "code",
   "execution_count": 151,
   "metadata": {
    "collapsed": false
   },
   "outputs": [
    {
     "data": {
      "text/plain": [
       "24"
      ]
     },
     "execution_count": 151,
     "metadata": {},
     "output_type": "execute_result"
    }
   ],
   "source": [
    "conge_int_result = set(conge.keys()).intersection(set(result_dict.keys()))\n",
    "len(conge_int_result)"
   ]
  },
  {
   "cell_type": "code",
   "execution_count": 152,
   "metadata": {
    "collapsed": false
   },
   "outputs": [
    {
     "data": {
      "text/plain": [
       "{169731: {'c_sem_count': 1,\n",
       "  'c_sems': ['5_2010'],\n",
       "  'gender': 1,\n",
       "  'sem_count': 7,\n",
       "  'sems': ['1_2007',\n",
       "   '2_2007',\n",
       "   '3_2008',\n",
       "   '4_2008',\n",
       "   '3_2009',\n",
       "   '4_2009',\n",
       "   '6_2010']},\n",
       " 174905: {'c_sem_count': 2,\n",
       "  'c_sems': ['3_2008', '4_2008'],\n",
       "  'gender': 1,\n",
       "  'sem_count': 8,\n",
       "  'sems': ['1_2007',\n",
       "   '2_2007',\n",
       "   '3_2009',\n",
       "   '4_2009',\n",
       "   '5_2010',\n",
       "   '6_2010',\n",
       "   '5_2011',\n",
       "   '6_2011']},\n",
       " 175379: {'c_sem_count': 2,\n",
       "  'c_sems': ['1_2007', '2_2007'],\n",
       "  'gender': 1,\n",
       "  'sem_count': 6,\n",
       "  'sems': ['1_2008', '2_2008', '3_2009', '4_2009', '5_2010', '6_2010']},\n",
       " 181244: {'c_sem_count': 2,\n",
       "  'c_sems': ['1_2008', '2_2008'],\n",
       "  'gender': 1,\n",
       "  'sem_count': 10,\n",
       "  'sems': ['1_2007',\n",
       "   '2_2007',\n",
       "   '1_2009',\n",
       "   '2_2009',\n",
       "   '3_2010',\n",
       "   '4_2010',\n",
       "   '5_2011',\n",
       "   '6_2011',\n",
       "   '5_2012',\n",
       "   '6_2012']},\n",
       " 184372: {'c_sem_count': 2,\n",
       "  'c_sems': ['5_2011', '6_2011'],\n",
       "  'gender': 1,\n",
       "  'sem_count': 10,\n",
       "  'sems': ['1_2008',\n",
       "   '2_2008',\n",
       "   '1_2009',\n",
       "   '2_2009',\n",
       "   '3_2010',\n",
       "   '4_2010',\n",
       "   '5_2012',\n",
       "   '6_2012',\n",
       "   '5_2013',\n",
       "   '6_2013']},\n",
       " 185959: {'c_sem_count': 1,\n",
       "  'c_sems': ['6_2011'],\n",
       "  'gender': 1,\n",
       "  'sem_count': 7,\n",
       "  'sems': ['1_2008',\n",
       "   '2_2008',\n",
       "   '3_2009',\n",
       "   '4_2009',\n",
       "   '5_2010',\n",
       "   '6_2010',\n",
       "   '5_2011']},\n",
       " 186260: {'c_sem_count': 1,\n",
       "  'c_sems': ['5_2014'],\n",
       "  'gender': 1,\n",
       "  'sem_count': 10,\n",
       "  'sems': ['1_2009',\n",
       "   '2_2009',\n",
       "   '1_2010',\n",
       "   '2_2010',\n",
       "   '3_2011',\n",
       "   '4_2011',\n",
       "   '5_2012',\n",
       "   '6_2012',\n",
       "   '5_2013',\n",
       "   '6_2013']},\n",
       " 193051: {'c_sem_count': 1,\n",
       "  'c_sems': ['5_2014'],\n",
       "  'gender': 1,\n",
       "  'sem_count': 11,\n",
       "  'sems': ['1_2009',\n",
       "   '2_2009',\n",
       "   '1_2010',\n",
       "   '2_2010',\n",
       "   '3_2011',\n",
       "   '4_2011',\n",
       "   '5_2012',\n",
       "   '6_2012',\n",
       "   '5_2013',\n",
       "   '6_2013',\n",
       "   '6_2014']},\n",
       " 193832: {'c_sem_count': 1,\n",
       "  'c_sems': ['5_2014'],\n",
       "  'gender': 1,\n",
       "  'sem_count': 9,\n",
       "  'sems': ['1_2009',\n",
       "   '1_2010',\n",
       "   '2_2010',\n",
       "   '3_2011',\n",
       "   '4_2011',\n",
       "   '5_2012',\n",
       "   '6_2012',\n",
       "   '5_2013',\n",
       "   '6_2013']},\n",
       " 194836: {'c_sem_count': 2,\n",
       "  'c_sems': ['5_2014', '6_2014'],\n",
       "  'gender': 0,\n",
       "  'sem_count': 6,\n",
       "  'sems': ['1_2011', '2_2011', '3_2012', '4_2012', '5_2013', '6_2013']},\n",
       " 195804: {'c_sem_count': 2,\n",
       "  'c_sems': ['5_2014', '6_2014'],\n",
       "  'gender': 1,\n",
       "  'sem_count': 10,\n",
       "  'sems': ['1_2009',\n",
       "   '2_2009',\n",
       "   '1_2010',\n",
       "   '2_2010',\n",
       "   '3_2011',\n",
       "   '4_2011',\n",
       "   '5_2012',\n",
       "   '6_2012',\n",
       "   '5_2013',\n",
       "   '6_2013']},\n",
       " 196065: {'c_sem_count': 2,\n",
       "  'c_sems': ['5_2012', '6_2012'],\n",
       "  'gender': 1,\n",
       "  'sem_count': 8,\n",
       "  'sems': ['1_2009',\n",
       "   '2_2009',\n",
       "   '3_2010',\n",
       "   '4_2010',\n",
       "   '5_2011',\n",
       "   '6_2011',\n",
       "   '5_2013',\n",
       "   '6_2013']},\n",
       " 201253: {'c_sem_count': 1,\n",
       "  'c_sems': ['6_2014'],\n",
       "  'gender': 1,\n",
       "  'sem_count': 9,\n",
       "  'sems': ['1_2010',\n",
       "   '2_2010',\n",
       "   '1_2011',\n",
       "   '2_2011',\n",
       "   '3_2012',\n",
       "   '4_2012',\n",
       "   '5_2013',\n",
       "   '6_2013',\n",
       "   '5_2014']},\n",
       " 202293: {'c_sem_count': 2,\n",
       "  'c_sems': ['5_2015', '6_2015'],\n",
       "  'gender': 1,\n",
       "  'sem_count': 10,\n",
       "  'sems': ['1_2010',\n",
       "   '2_2010',\n",
       "   '1_2011',\n",
       "   '2_2011',\n",
       "   '3_2012',\n",
       "   '4_2012',\n",
       "   '5_2013',\n",
       "   '6_2013',\n",
       "   '5_2014',\n",
       "   '6_2014']},\n",
       " 205434: {'c_sem_count': 1,\n",
       "  'c_sems': ['6_2013'],\n",
       "  'gender': 1,\n",
       "  'sem_count': 7,\n",
       "  'sems': ['1_2010',\n",
       "   '2_2010',\n",
       "   '3_2011',\n",
       "   '4_2011',\n",
       "   '5_2012',\n",
       "   '6_2012',\n",
       "   '5_2013']},\n",
       " 205727: {'c_sem_count': 2,\n",
       "  'c_sems': ['5_2015', '6_2015'],\n",
       "  'gender': 1,\n",
       "  'sem_count': 8,\n",
       "  'sems': ['1_2011',\n",
       "   '2_2011',\n",
       "   '1_2012',\n",
       "   '2_2012',\n",
       "   '3_2013',\n",
       "   '4_2013',\n",
       "   '5_2014',\n",
       "   '6_2014']},\n",
       " 212591: {'c_sem_count': 1,\n",
       "  'c_sems': ['6_2014'],\n",
       "  'gender': 1,\n",
       "  'sem_count': 7,\n",
       "  'sems': ['1_2011',\n",
       "   '2_2011',\n",
       "   '3_2012',\n",
       "   '4_2012',\n",
       "   '5_2013',\n",
       "   '6_2013',\n",
       "   '5_2014']},\n",
       " 215576: {'c_sem_count': 1,\n",
       "  'c_sems': ['5_2016'],\n",
       "  'gender': 1,\n",
       "  'sem_count': 10,\n",
       "  'sems': ['1_2011',\n",
       "   '2_2011',\n",
       "   '3_2012',\n",
       "   '4_2012',\n",
       "   '5_2013',\n",
       "   '6_2013',\n",
       "   '5_2014',\n",
       "   '6_2014',\n",
       "   '5_2015',\n",
       "   '6_2015']},\n",
       " 217489: {'c_sem_count': 1,\n",
       "  'c_sems': ['5_2014'],\n",
       "  'gender': 0,\n",
       "  'sem_count': 6,\n",
       "  'sems': ['1_2011', '2_2011', '3_2012', '4_2012', '5_2013', '6_2013']},\n",
       " 223744: {'c_sem_count': 2,\n",
       "  'c_sems': ['5_2015', '6_2015'],\n",
       "  'gender': 1,\n",
       "  'sem_count': 6,\n",
       "  'sems': ['1_2012', '2_2012', '3_2013', '4_2013', '5_2014', '6_2014']},\n",
       " 224553: {'c_sem_count': 1,\n",
       "  'c_sems': ['4_2013'],\n",
       "  'gender': 1,\n",
       "  'sem_count': 6,\n",
       "  'sems': ['1_2012', '2_2012', '3_2014', '4_2014', '5_2015', '6_2015']},\n",
       " 225258: {'c_sem_count': 2,\n",
       "  'c_sems': ['5_2014', '6_2014'],\n",
       "  'gender': 1,\n",
       "  'sem_count': 7,\n",
       "  'sems': ['1_2012',\n",
       "   '2_2012',\n",
       "   '3_2013',\n",
       "   '4_2013',\n",
       "   '5_2015',\n",
       "   '6_2015',\n",
       "   '5_2016']},\n",
       " 227311: {'c_sem_count': 2,\n",
       "  'c_sems': ['5_2016', '6_2016'],\n",
       "  'gender': 0,\n",
       "  'sem_count': 6,\n",
       "  'sems': ['1_2013', '2_2013', '3_2014', '4_2014', '5_2015', '6_2015']},\n",
       " 237482: {'c_sem_count': 1,\n",
       "  'c_sems': ['5_2016'],\n",
       "  'gender': 1,\n",
       "  'sem_count': 6,\n",
       "  'sems': ['1_2013', '2_2013', '3_2014', '4_2014', '5_2015', '6_2015']}}"
      ]
     },
     "execution_count": 152,
     "metadata": {},
     "output_type": "execute_result"
    }
   ],
   "source": [
    "intersect_dicts(result_dict, conge)"
   ]
  },
  {
   "cell_type": "markdown",
   "metadata": {},
   "source": [
    "In this step we have analyzed Congé statut. We have 24 students who have recorded at least one semester with htis statut. By reading through data we see that semsters with statut Congé are mutually exclusive with semsesters with statut Présent. Congé in translatio nto English means Leave. Thus we assume that during these semesters the student went eithe rfor exchange studies or had a break in the studies due to, for example, health or family reasons. \n",
    "\n",
    "We consider this to be valid part of our data and therefore we have decided to do two calculations - one will take into account only semesters when the student was physically present and the other will consider also semesters when the student was on leave."
   ]
  },
  {
   "cell_type": "code",
   "execution_count": 153,
   "metadata": {
    "collapsed": false
   },
   "outputs": [
    {
     "data": {
      "text/plain": [
       "{}"
      ]
     },
     "execution_count": 153,
     "metadata": {},
     "output_type": "execute_result"
    }
   ],
   "source": [
    "tmp_dict = intersect_dicts(result_dict, attente)\n",
    "intersect_dicts(tmp_dict, conge)"
   ]
  },
  {
   "cell_type": "markdown",
   "metadata": {},
   "source": [
    "There are 0 students in our filtered dataset who have both statut Congé and Attente. "
   ]
  },
  {
   "cell_type": "code",
   "execution_count": 157,
   "metadata": {
    "collapsed": false
   },
   "outputs": [
    {
     "data": {
      "text/plain": [
       "273"
      ]
     },
     "execution_count": 157,
     "metadata": {},
     "output_type": "execute_result"
    }
   ],
   "source": [
    "no_of_males = sum([val['gender'] for val in result_dict.values()])\n",
    "no_of_males"
   ]
  },
  {
   "cell_type": "code",
   "execution_count": 159,
   "metadata": {
    "collapsed": false
   },
   "outputs": [
    {
     "data": {
      "text/plain": [
       "24"
      ]
     },
     "execution_count": 159,
     "metadata": {},
     "output_type": "execute_result"
    }
   ],
   "source": [
    "no_of_females = len(result_dict) - no_of_males\n",
    "no_of_females"
   ]
  },
  {
   "cell_type": "markdown",
   "metadata": {},
   "source": [
    "As we didn't get any exception regarding gender while parsing the data we can safely assume that there was no gender value missing.\n",
    "\n",
    "Thus len(result_dict) - no_of_males is a valid computation."
   ]
  },
  {
   "cell_type": "code",
   "execution_count": 184,
   "metadata": {
    "collapsed": false
   },
   "outputs": [
    {
     "name": "stdout",
     "output_type": "stream",
     "text": [
      "Average number of semesters to finish bachelor studies without leave for male student is 7.33\n",
      "Average number of semesters to finish bachelor studies without leave for female student is 6.75\n",
      "\n",
      "\n",
      "Average number of semesters to finish bachelor studies including leave for male student is 7.44\n",
      "Average number of semesters to finish bachelor studies including leave for female student is 6.96\n"
     ]
    }
   ],
   "source": [
    "male_average_wo_leave = sum([val['sem_count'] for val in result_dict.values() if val['gender'] == 1]) / no_of_males \n",
    "print('Average number of semesters to finish bachelor studies without leave for male student is ' + \"{0:.2f}\".format(male_average_wo_leave))\n",
    "female_average_wo_leave = sum([val['sem_count'] for val in result_dict.values() if val['gender'] == 0]) / no_of_females\n",
    "print('Average number of semesters to finish bachelor studies without leave for female student is ' + \"{0:.2f}\".format(female_average_wo_leave))\n",
    "\n",
    "print('\\n')\n",
    "\n",
    "male_average_w_leave = sum([val['sem_count'] + conge.get(key, {}).get('c_sem_count', 0) for  key, val in result_dict.items() if val['gender'] == 1]) / no_of_males \n",
    "print('Average number of semesters to finish bachelor studies including leave for male student is ' + \"{0:.2f}\".format(male_average_w_leave))\n",
    "female_average_w_leave = sum([val['sem_count'] + conge.get(key, {}).get('c_sem_count', 0) for key, val in result_dict.items() if val['gender'] == 0]) / no_of_females\n",
    "print('Average number of semesters to finish bachelor studies including leave for female student is ' + \"{0:.2f}\".format(female_average_w_leave))"
   ]
  },
  {
   "cell_type": "code",
   "execution_count": null,
   "metadata": {
    "collapsed": true
   },
   "outputs": [],
   "source": []
  },
  {
   "cell_type": "markdown",
   "metadata": {},
   "source": [
    "TODO check statistical significance"
   ]
  },
  {
   "cell_type": "markdown",
   "metadata": {},
   "source": [
    "# Task 2\n",
    "\n",
    "> Perform a similar operation to what described above, this time for Master students. Notice that this data is more tricky, as there are many missing records in the IS-Academia database. Therefore, try to guess how much time a master student spent at EPFL by at least checking the distance in months between Master semestre 1 and Master semestre 2. If the Mineur field is not empty, the student should also appear registered in Master semestre 3. Last but not the least, don't forget to check if the student has an entry also in the Projet Master tables. Once you can handle well this data, compute the \"average stay at EPFL\" for master students. Now extract all the students with a Spécialisation and compute the \"average stay\" per each category of that attribute -- compared to the general average, can you find any specialization for which the difference in average is statistically significant?"
   ]
  },
  {
   "cell_type": "code",
   "execution_count": 205,
   "metadata": {
    "collapsed": false
   },
   "outputs": [],
   "source": [
    "result_dict = {} \n",
    "attente = {}\n",
    "conge = {}\n",
    "periods = []\n",
    "\n",
    "for sem in range(1, 4):\n",
    "    periods.append(('Master semestre ' + str(sem), str(sem)))                    \n",
    "periods.append(('Projet Master automne', 'pa'))\n",
    "periods.append(('Projet Master printemps', 'pp'))\n",
    "\n",
    "for year in range(2007, 2017):\n",
    "    for period_name, period_code in periods:\n",
    "        table = get_table(period=period_name, year=str(year) + '-' + str(year + 1))\n",
    "        for record in table:\n",
    "            statut = record[7]\n",
    "            id = int(record[10])  # will raise expcetion if Noone or empty string \n",
    "            if  statut in ['Présent', 'Stage']:                               \n",
    "                gender = record[0] \n",
    "                if gender not in ['Monsieur', 'Madame']:\n",
    "                    raise Exception('Unexpected gender:' + gender + '; period: ' + str(period_name) + ' year: ' + str(year) + ' id: ' + str(id))\n",
    "                gender = int(gender == 'Monsieur')  # => 1 for Monsieur, 0 for Madame\n",
    "                spec = record[4]\n",
    "                if id not in result_dict:\n",
    "#                     if period == 1:  # we consider only students who started studying in 2007 or later\n",
    "                    result_dict[id] = {'gender': gender, 'spec': spec, 'sem_count': 0, 'sems': []}\n",
    "#                     else:\n",
    "#                         continue\n",
    "                else:\n",
    "                    if result_dict[id]['gender'] != gender:\n",
    "                        raise Expception('Inconsistent gender!')\n",
    "#                     if result_dict[id]['spec'] == '':\n",
    "                    result_dict[id]['spec'] = spec\n",
    "#                     elif result_dict[id]['spec'] != spec:\n",
    "#                         raise Exception('Inconsistent specialization! spec_prev: ' + result_dict[id]['spec'] + ' spec_cur: ' + spec)\n",
    "                result_dict[id]['sem_count'] += 1\n",
    "                stage_sign = 's' if statut == 'Stage' else ''\n",
    "                result_dict[id]['sems'].append(str(period_code) + stage_sign + '_' + str(year))\n",
    "            elif statut == 'Congé':\n",
    "                if id not in conge:\n",
    "                    conge[id] = {'c_sems': [], 'c_sem_count': 0}\n",
    "                conge[id]['c_sems'].append(str(period_code) + '_' + str(year))\n",
    "                conge[id]['c_sem_count'] += 1     \n",
    "            elif statut == 'Attente':\n",
    "                if id not in attente:\n",
    "                    attente[id] = {'a_sems': [], 'a_sem_count': 0}\n",
    "                attente[id]['a_sems'].append(str(period_code) + '_' + str(year))\n",
    "                attente[id]['a_sem_count'] += 1                \n",
    "            else: raise Exception('Unexpected statut: ' + statut + '; period: ' + str(period_name) + ' year: ' + str(year) + ' id: ' + str(id))"
   ]
  },
  {
   "cell_type": "markdown",
   "metadata": {},
   "source": []
  },
  {
   "cell_type": "code",
   "execution_count": 206,
   "metadata": {
    "collapsed": false
   },
   "outputs": [
    {
     "data": {
      "text/plain": [
       "968"
      ]
     },
     "execution_count": 206,
     "metadata": {},
     "output_type": "execute_result"
    }
   ],
   "source": [
    "len(result_dict)"
   ]
  },
  {
   "cell_type": "code",
   "execution_count": 207,
   "metadata": {
    "collapsed": false
   },
   "outputs": [
    {
     "data": {
      "text/plain": [
       "84"
      ]
     },
     "execution_count": 207,
     "metadata": {},
     "output_type": "execute_result"
    }
   ],
   "source": [
    "missing_sem_1 = {key: val for key, val in result_dict.items() if not any(sem.startswith('1') for sem in val['sems'])}\n",
    "len(missing_sem_1)"
   ]
  },
  {
   "cell_type": "code",
   "execution_count": 208,
   "metadata": {
    "collapsed": false,
    "scrolled": false
   },
   "outputs": [
    {
     "data": {
      "text/plain": [
       "{128911: {'gender': 1,\n",
       "  'sem_count': 2,\n",
       "  'sems': ['2_2007', '3_2007'],\n",
       "  'spec': 'Internet computing'},\n",
       " 129093: {'gender': 1,\n",
       "  'sem_count': 2,\n",
       "  'sems': ['2_2007', '3s_2007'],\n",
       "  'spec': ''},\n",
       " 129326: {'gender': 1,\n",
       "  'sem_count': 2,\n",
       "  'sems': ['2_2007', '3_2007'],\n",
       "  'spec': ''},\n",
       " 145546: {'gender': 1, 'sem_count': 1, 'sems': ['3_2007'], 'spec': ''},\n",
       " 145957: {'gender': 1,\n",
       "  'sem_count': 2,\n",
       "  'sems': ['3_2007', 'pps_2007'],\n",
       "  'spec': ''},\n",
       " 146441: {'gender': 0, 'sem_count': 1, 'sems': ['3_2007'], 'spec': ''},\n",
       " 146752: {'gender': 1, 'sem_count': 1, 'sems': ['3_2007'], 'spec': ''},\n",
       " 147358: {'gender': 1, 'sem_count': 1, 'sems': ['3_2007'], 'spec': ''},\n",
       " 147362: {'gender': 1, 'sem_count': 1, 'sems': ['3_2007'], 'spec': ''},\n",
       " 147366: {'gender': 1, 'sem_count': 1, 'sems': ['3_2007'], 'spec': ''},\n",
       " 147445: {'gender': 1, 'sem_count': 1, 'sems': ['3_2007'], 'spec': ''},\n",
       " 148900: {'gender': 1, 'sem_count': 1, 'sems': ['3_2007'], 'spec': ''},\n",
       " 152238: {'gender': 1,\n",
       "  'sem_count': 1,\n",
       "  'sems': ['3_2007'],\n",
       "  'spec': 'Internet computing'},\n",
       " 153324: {'gender': 1,\n",
       "  'sem_count': 2,\n",
       "  'sems': ['2_2007', '3_2008'],\n",
       "  'spec': ''},\n",
       " 153506: {'gender': 0, 'sem_count': 1, 'sems': ['3_2007'], 'spec': ''},\n",
       " 153640: {'gender': 1,\n",
       "  'sem_count': 1,\n",
       "  'sems': ['3_2007'],\n",
       "  'spec': 'Biocomputing'},\n",
       " 153641: {'gender': 1,\n",
       "  'sem_count': 1,\n",
       "  'sems': ['3_2007'],\n",
       "  'spec': 'Internet computing'},\n",
       " 153642: {'gender': 1, 'sem_count': 1, 'sems': ['3_2007'], 'spec': ''},\n",
       " 153645: {'gender': 1, 'sem_count': 1, 'sems': ['3_2007'], 'spec': ''},\n",
       " 153664: {'gender': 1,\n",
       "  'sem_count': 1,\n",
       "  'sems': ['3_2007'],\n",
       "  'spec': 'Signals, Images and Interfaces'},\n",
       " 153742: {'gender': 1,\n",
       "  'sem_count': 2,\n",
       "  'sems': ['2_2007', '3_2007'],\n",
       "  'spec': ''},\n",
       " 153805: {'gender': 1,\n",
       "  'sem_count': 1,\n",
       "  'sems': ['3_2007'],\n",
       "  'spec': 'Internet computing'},\n",
       " 153819: {'gender': 1,\n",
       "  'sem_count': 2,\n",
       "  'sems': ['3_2007', 'pps_2007'],\n",
       "  'spec': ''},\n",
       " 153882: {'gender': 1,\n",
       "  'sem_count': 1,\n",
       "  'sems': ['3_2007'],\n",
       "  'spec': 'Foundations of Software'},\n",
       " 153891: {'gender': 1,\n",
       "  'sem_count': 1,\n",
       "  'sems': ['3_2007'],\n",
       "  'spec': 'Internet computing'},\n",
       " 154080: {'gender': 1,\n",
       "  'sem_count': 3,\n",
       "  'sems': ['2s_2008', '3_2008', '3_2009'],\n",
       "  'spec': 'Internet computing'},\n",
       " 154106: {'gender': 1,\n",
       "  'sem_count': 1,\n",
       "  'sems': ['3_2007'],\n",
       "  'spec': 'Internet computing'},\n",
       " 154186: {'gender': 1, 'sem_count': 1, 'sems': ['3_2007'], 'spec': ''},\n",
       " 154419: {'gender': 1,\n",
       "  'sem_count': 1,\n",
       "  'sems': ['3_2007'],\n",
       "  'spec': 'Signals, Images and Interfaces'},\n",
       " 154420: {'gender': 1, 'sem_count': 1, 'sems': ['3_2007'], 'spec': ''},\n",
       " 154465: {'gender': 1, 'sem_count': 1, 'sems': ['3_2007'], 'spec': ''},\n",
       " 154484: {'gender': 1,\n",
       "  'sem_count': 3,\n",
       "  'sems': ['2_2007', '3_2007', '3_2008'],\n",
       "  'spec': 'Internet computing'},\n",
       " 154503: {'gender': 1,\n",
       "  'sem_count': 3,\n",
       "  'sems': ['2_2007', '3_2007', '3_2008'],\n",
       "  'spec': ''},\n",
       " 154685: {'gender': 1, 'sem_count': 1, 'sems': ['3_2007'], 'spec': ''},\n",
       " 154933: {'gender': 1, 'sem_count': 1, 'sems': ['3_2007'], 'spec': ''},\n",
       " 154936: {'gender': 1,\n",
       "  'sem_count': 1,\n",
       "  'sems': ['3_2007'],\n",
       "  'spec': 'Biocomputing'},\n",
       " 154969: {'gender': 1,\n",
       "  'sem_count': 1,\n",
       "  'sems': ['3_2007'],\n",
       "  'spec': 'Biocomputing'},\n",
       " 155093: {'gender': 1,\n",
       "  'sem_count': 2,\n",
       "  'sems': ['2_2007', '3_2007'],\n",
       "  'spec': 'Internet computing'},\n",
       " 155124: {'gender': 1,\n",
       "  'sem_count': 2,\n",
       "  'sems': ['2_2007', '3_2007'],\n",
       "  'spec': ''},\n",
       " 159210: {'gender': 0,\n",
       "  'sem_count': 1,\n",
       "  'sems': ['3_2007'],\n",
       "  'spec': 'Signals, Images and Interfaces'},\n",
       " 159770: {'gender': 1,\n",
       "  'sem_count': 1,\n",
       "  'sems': ['3_2007'],\n",
       "  'spec': 'Internet computing'},\n",
       " 159771: {'gender': 1,\n",
       "  'sem_count': 2,\n",
       "  'sems': ['2_2007', '3_2007'],\n",
       "  'spec': ''},\n",
       " 159814: {'gender': 1,\n",
       "  'sem_count': 1,\n",
       "  'sems': ['3_2007'],\n",
       "  'spec': 'Signals, Images and Interfaces'},\n",
       " 159852: {'gender': 1,\n",
       "  'sem_count': 1,\n",
       "  'sems': ['3_2007'],\n",
       "  'spec': 'Internet computing'},\n",
       " 160150: {'gender': 1,\n",
       "  'sem_count': 2,\n",
       "  'sems': ['3_2007', 'pp_2007'],\n",
       "  'spec': 'Biocomputing'},\n",
       " 160208: {'gender': 1,\n",
       "  'sem_count': 1,\n",
       "  'sems': ['3_2007'],\n",
       "  'spec': 'Internet computing'},\n",
       " 160239: {'gender': 1, 'sem_count': 1, 'sems': ['3_2007'], 'spec': ''},\n",
       " 160247: {'gender': 1,\n",
       "  'sem_count': 1,\n",
       "  'sems': ['3_2007'],\n",
       "  'spec': 'Signals, Images and Interfaces'},\n",
       " 160391: {'gender': 1, 'sem_count': 1, 'sems': ['3_2007'], 'spec': ''},\n",
       " 160831: {'gender': 1,\n",
       "  'sem_count': 1,\n",
       "  'sems': ['3_2007'],\n",
       "  'spec': 'Biocomputing'},\n",
       " 160915: {'gender': 1,\n",
       "  'sem_count': 1,\n",
       "  'sems': ['3_2007'],\n",
       "  'spec': 'Foundations of Software'},\n",
       " 161058: {'gender': 1,\n",
       "  'sem_count': 2,\n",
       "  'sems': ['2_2007', '3_2007'],\n",
       "  'spec': 'Signals, Images and Interfaces'},\n",
       " 161090: {'gender': 1,\n",
       "  'sem_count': 1,\n",
       "  'sems': ['3_2007'],\n",
       "  'spec': 'Biocomputing'},\n",
       " 161336: {'gender': 0,\n",
       "  'sem_count': 2,\n",
       "  'sems': ['2_2007', '3_2007'],\n",
       "  'spec': ''},\n",
       " 161344: {'gender': 1,\n",
       "  'sem_count': 2,\n",
       "  'sems': ['2_2007', '3_2007'],\n",
       "  'spec': ''},\n",
       " 161402: {'gender': 1,\n",
       "  'sem_count': 1,\n",
       "  'sems': ['3_2007'],\n",
       "  'spec': 'Foundations of Software'},\n",
       " 167854: {'gender': 1, 'sem_count': 1, 'sems': ['3s_2007'], 'spec': ''},\n",
       " 170242: {'gender': 1, 'sem_count': 1, 'sems': ['3_2009'], 'spec': ''},\n",
       " 170414: {'gender': 1,\n",
       "  'sem_count': 1,\n",
       "  'sems': ['3_2009'],\n",
       "  'spec': 'Internet computing'},\n",
       " 170525: {'gender': 1,\n",
       "  'sem_count': 2,\n",
       "  'sems': ['2_2008', '3_2009'],\n",
       "  'spec': ''},\n",
       " 171084: {'gender': 1,\n",
       "  'sem_count': 1,\n",
       "  'sems': ['3_2010'],\n",
       "  'spec': 'Foundations of Software'},\n",
       " 171511: {'gender': 0, 'sem_count': 1, 'sems': ['3_2007'], 'spec': ''},\n",
       " 172221: {'gender': 1,\n",
       "  'sem_count': 2,\n",
       "  'sems': ['2_2007', '3s_2007'],\n",
       "  'spec': ''},\n",
       " 172240: {'gender': 0, 'sem_count': 1, 'sems': ['3s_2007'], 'spec': ''},\n",
       " 172257: {'gender': 1, 'sem_count': 1, 'sems': ['3_2007'], 'spec': ''},\n",
       " 172500: {'gender': 0,\n",
       "  'sem_count': 2,\n",
       "  'sems': ['2_2007', '3s_2007'],\n",
       "  'spec': 'Biocomputing'},\n",
       " 172503: {'gender': 1,\n",
       "  'sem_count': 1,\n",
       "  'sems': ['3_2007'],\n",
       "  'spec': 'Biocomputing'},\n",
       " 172859: {'gender': 0, 'sem_count': 1, 'sems': ['3_2007'], 'spec': ''},\n",
       " 173257: {'gender': 1,\n",
       "  'sem_count': 2,\n",
       "  'sems': ['3_2007', 'pp_2007'],\n",
       "  'spec': ''},\n",
       " 173527: {'gender': 1,\n",
       "  'sem_count': 2,\n",
       "  'sems': ['pa_2007', 'pp_2007'],\n",
       "  'spec': ''},\n",
       " 173573: {'gender': 0,\n",
       "  'sem_count': 1,\n",
       "  'sems': ['3_2007'],\n",
       "  'spec': 'Internet computing'},\n",
       " 175190: {'gender': 1,\n",
       "  'sem_count': 3,\n",
       "  'sems': ['2_2010', '3_2011', 'pp_2011'],\n",
       "  'spec': ''},\n",
       " 178682: {'gender': 1,\n",
       "  'sem_count': 5,\n",
       "  'sems': ['2_2010', '2_2011', '3s_2011', '2_2012', '3_2012'],\n",
       "  'spec': 'Foundations of Software'},\n",
       " 178942: {'gender': 1,\n",
       "  'sem_count': 3,\n",
       "  'sems': ['2s_2012', '3_2012', '3_2013'],\n",
       "  'spec': 'Signals, Images and Interfaces'},\n",
       " 179848: {'gender': 1,\n",
       "  'sem_count': 2,\n",
       "  'sems': ['2_2012', '3_2012'],\n",
       "  'spec': 'Internet computing'},\n",
       " 181248: {'gender': 1,\n",
       "  'sem_count': 5,\n",
       "  'sems': ['2_2010', '2_2011', '3_2011', '2_2012', '3s_2012'],\n",
       "  'spec': 'Internet computing'},\n",
       " 186264: {'gender': 1,\n",
       "  'sem_count': 4,\n",
       "  'sems': ['2_2014', '2_2015', '3_2015', '3_2016'],\n",
       "  'spec': ''},\n",
       " 188035: {'gender': 1, 'sem_count': 1, 'sems': ['2_2015'], 'spec': ''},\n",
       " 194894: {'gender': 1, 'sem_count': 1, 'sems': ['2_2015'], 'spec': ''},\n",
       " 199294: {'gender': 1,\n",
       "  'sem_count': 3,\n",
       "  'sems': ['2_2010', '2s_2011', '3_2011'],\n",
       "  'spec': ''},\n",
       " 202878: {'gender': 0,\n",
       "  'sem_count': 2,\n",
       "  'sems': ['2_2010', '3_2011'],\n",
       "  'spec': ''},\n",
       " 212069: {'gender': 0,\n",
       "  'sem_count': 4,\n",
       "  'sems': ['2_2011', '2_2012', '3_2012', '3s_2013'],\n",
       "  'spec': ''},\n",
       " 232468: {'gender': 0,\n",
       "  'sem_count': 3,\n",
       "  'sems': ['2_2014', '3_2014', '3s_2015'],\n",
       "  'spec': 'Internet computing'},\n",
       " 268709: {'gender': 1, 'sem_count': 1, 'sems': ['2_2016'], 'spec': ''}}"
      ]
     },
     "execution_count": 208,
     "metadata": {},
     "output_type": "execute_result"
    }
   ],
   "source": [
    "missing_sem_1"
   ]
  },
  {
   "cell_type": "markdown",
   "metadata": {},
   "source": []
  },
  {
   "cell_type": "code",
   "execution_count": 210,
   "metadata": {
    "collapsed": false
   },
   "outputs": [
    {
     "data": {
      "text/plain": [
       "853"
      ]
     },
     "execution_count": 210,
     "metadata": {},
     "output_type": "execute_result"
    }
   ],
   "source": [
    "missing_projet = {key: val for key, val in result_dict.items() if not any(sem.startswith('p') for sem in val['sems'])}\n",
    "len(missing_projet)"
   ]
  },
  {
   "cell_type": "code",
   "execution_count": null,
   "metadata": {
    "collapsed": true
   },
   "outputs": [],
   "source": []
  },
  {
   "cell_type": "code",
   "execution_count": 211,
   "metadata": {
    "collapsed": false
   },
   "outputs": [
    {
     "data": {
      "text/plain": [
       "968"
      ]
     },
     "execution_count": 211,
     "metadata": {},
     "output_type": "execute_result"
    }
   ],
   "source": [
    "len(result_dict)"
   ]
  },
  {
   "cell_type": "code",
   "execution_count": 216,
   "metadata": {
    "collapsed": false
   },
   "outputs": [
    {
     "data": {
      "text/plain": [
       "True"
      ]
     },
     "execution_count": 216,
     "metadata": {},
     "output_type": "execute_result"
    }
   ],
   "source": [
    "178942 in conge"
   ]
  },
  {
   "cell_type": "code",
   "execution_count": 213,
   "metadata": {
    "collapsed": false
   },
   "outputs": [
    {
     "data": {
      "text/plain": [
       "49"
      ]
     },
     "execution_count": 213,
     "metadata": {},
     "output_type": "execute_result"
    }
   ],
   "source": [
    "len(conge)"
   ]
  },
  {
   "cell_type": "code",
   "execution_count": 214,
   "metadata": {
    "collapsed": false,
    "scrolled": false
   },
   "outputs": [
    {
     "data": {
      "text/plain": [
       "{146742: {'c_sem_count': 1, 'c_sems': ['pp_2010']},\n",
       " 153324: {'c_sem_count': 1, 'c_sems': ['3_2007']},\n",
       " 154080: {'c_sem_count': 2, 'c_sems': ['1_2007', '2_2007']},\n",
       " 159852: {'c_sem_count': 2, 'c_sems': ['pp_2007', 'pa_2008']},\n",
       " 160213: {'c_sem_count': 1, 'c_sems': ['pp_2009']},\n",
       " 161127: {'c_sem_count': 2, 'c_sems': ['1_2008', '2_2008']},\n",
       " 165819: {'c_sem_count': 1, 'c_sems': ['pp_2008']},\n",
       " 166124: {'c_sem_count': 1, 'c_sems': ['3_2008']},\n",
       " 166260: {'c_sem_count': 2, 'c_sems': ['1_2008', '2_2008']},\n",
       " 166344: {'c_sem_count': 1, 'c_sems': ['pp_2010']},\n",
       " 166491: {'c_sem_count': 4,\n",
       "  'c_sems': ['2_2007', '2_2008', '1_2009', 'pp_2010']},\n",
       " 166748: {'c_sem_count': 2, 'c_sems': ['1_2008', '2_2008']},\n",
       " 167439: {'c_sem_count': 2, 'c_sems': ['1_2008', '2_2008']},\n",
       " 167530: {'c_sem_count': 2, 'c_sems': ['1_2009', '2_2009']},\n",
       " 170235: {'c_sem_count': 1, 'c_sems': ['pp_2011']},\n",
       " 170242: {'c_sem_count': 2, 'c_sems': ['1_2008', '2_2008']},\n",
       " 170414: {'c_sem_count': 2, 'c_sems': ['1_2008', '2_2008']},\n",
       " 170530: {'c_sem_count': 2, 'c_sems': ['1_2009', '2_2009']},\n",
       " 170823: {'c_sem_count': 2, 'c_sems': ['2_2008', '3_2009']},\n",
       " 171042: {'c_sem_count': 2, 'c_sems': ['1_2008', '2_2008']},\n",
       " 171084: {'c_sem_count': 2, 'c_sems': ['1_2009', '2_2009']},\n",
       " 175339: {'c_sem_count': 2, 'c_sems': ['1_2009', '2_2009']},\n",
       " 178682: {'c_sem_count': 1, 'c_sems': ['1_2010']},\n",
       " 178786: {'c_sem_count': 2, 'c_sems': ['2_2010', '1_2011']},\n",
       " 178942: {'c_sem_count': 2, 'c_sems': ['1_2011', '2_2011']},\n",
       " 179848: {'c_sem_count': 2, 'c_sems': ['1_2011', '2_2011']},\n",
       " 181248: {'c_sem_count': 1, 'c_sems': ['1_2010']},\n",
       " 182377: {'c_sem_count': 1, 'c_sems': ['1_2009']},\n",
       " 184366: {'c_sem_count': 1, 'c_sems': ['2_2014']},\n",
       " 184863: {'c_sem_count': 1, 'c_sems': ['1_2013']},\n",
       " 185975: {'c_sem_count': 2, 'c_sems': ['1_2011', '2_2011']},\n",
       " 187169: {'c_sem_count': 2, 'c_sems': ['1_2011', '2_2011']},\n",
       " 191354: {'c_sem_count': 1, 'c_sems': ['2_2010']},\n",
       " 191471: {'c_sem_count': 1, 'c_sems': ['pp_2010']},\n",
       " 193051: {'c_sem_count': 1, 'c_sems': ['2_2015']},\n",
       " 193352: {'c_sem_count': 2, 'c_sems': ['1_2012', '2_2012']},\n",
       " 194182: {'c_sem_count': 2, 'c_sems': ['1_2013', '2_2013']},\n",
       " 201600: {'c_sem_count': 2, 'c_sems': ['1_2013', 'pa_2016']},\n",
       " 203301: {'c_sem_count': 1, 'c_sems': ['3_2011']},\n",
       " 203457: {'c_sem_count': 1, 'c_sems': ['3_2014']},\n",
       " 204393: {'c_sem_count': 2, 'c_sems': ['1_2013', '2_2013']},\n",
       " 205617: {'c_sem_count': 2, 'c_sems': ['1_2013', '2_2013']},\n",
       " 205771: {'c_sem_count': 1, 'c_sems': ['2_2015']},\n",
       " 205795: {'c_sem_count': 2, 'c_sems': ['1_2013', '2_2013']},\n",
       " 207028: {'c_sem_count': 1, 'c_sems': ['1_2013']},\n",
       " 211754: {'c_sem_count': 1, 'c_sems': ['2_2012']},\n",
       " 212496: {'c_sem_count': 1, 'c_sems': ['3_2013']},\n",
       " 214478: {'c_sem_count': 1, 'c_sems': ['3_2012']},\n",
       " 245293: {'c_sem_count': 1, 'c_sems': ['pa_2016']}}"
      ]
     },
     "execution_count": 214,
     "metadata": {},
     "output_type": "execute_result"
    }
   ],
   "source": [
    "conge"
   ]
  },
  {
   "cell_type": "markdown",
   "metadata": {},
   "source": [
    "# Bonus-Task\n",
    "\n",
    "> BONUS: perform the gender-based study also on the Master students, as explained in 1. Use scatterplots to visually identify changes over time. Plot males and females with different colors -- can you spot different trends that match the results of your statistical tests?"
   ]
  },
  {
   "cell_type": "code",
   "execution_count": null,
   "metadata": {
    "collapsed": true
   },
   "outputs": [],
   "source": []
  }
 ],
 "metadata": {
  "anaconda-cloud": {},
  "kernelspec": {
   "display_name": "Python 3.5 64bit",
   "language": "python",
   "name": "python35"
  },
  "language_info": {
   "codemirror_mode": {
    "name": "ipython",
    "version": 3
   },
   "file_extension": ".py",
   "mimetype": "text/x-python",
   "name": "python",
   "nbconvert_exporter": "python",
   "pygments_lexer": "ipython3",
   "version": "3.5.2"
  }
 },
 "nbformat": 4,
 "nbformat_minor": 0
}
