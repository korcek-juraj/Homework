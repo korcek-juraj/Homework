{
 "cells": [
  {
   "cell_type": "code",
   "execution_count": 106,
   "metadata": {
    "collapsed": true
   },
   "outputs": [],
   "source": [
    "%matplotlib inline\n",
    "import pandas as pd\n",
    "import numpy as np\n",
    "import matplotlib.pyplot as plt\n",
    "import seaborn as sns\n",
    "sns.set_context('notebook')\n",
    "\n",
    "import requests\n",
    "from bs4 import BeautifulSoup\n",
    "import re"
   ]
  },
  {
   "cell_type": "markdown",
   "metadata": {},
   "source": [
    "# Preamble — Prepare to fetch data\n",
    "\n",
    "These are the root URLs for the two kinds of requests we need to perform: filters and lists.\n",
    "\n",
    "First, the filter dialog is used to\n",
    "\n",
    "1. Retreive the IDs for the years and semesters we care about\n",
    "2. Look for the ID of the associated list.\n",
    "\n",
    "Lists containt the actual data we care about.\n",
    "\n",
    "Both types of request use a fixed `ww_i_reportModel` constant, which we assume is used for versioning."
   ]
  },
  {
   "cell_type": "code",
   "execution_count": 95,
   "metadata": {
    "collapsed": false
   },
   "outputs": [
    {
     "data": {
      "text/plain": [
       "['http://isa.epfl.ch/imoniteur_ISAP/!GEDPUBLICREPORTS.filter?ww_b_list=1&ww_i_reportModel=133685247&ww_i_reportModelXsl=133685270&',\n",
       " 'http://isa.epfl.ch/imoniteur_ISAP/!GEDPUBLICREPORTS.html?&ww_i_reportModel=133685247&ww_i_reportModelXsl=133685270&']"
      ]
     },
     "execution_count": 95,
     "metadata": {},
     "output_type": "execute_result"
    }
   ],
   "source": [
    "root_url = 'http://isa.epfl.ch/imoniteur_ISAP/!GEDPUBLICREPORTS.'\n",
    "report = '&ww_i_reportModel=133685247&ww_i_reportModelXsl=133685270&'\n",
    "informatique_id = '249847'\n",
    "filter_path = root_url + 'filter?ww_b_list=1' + report\n",
    "list_path = root_url + 'html?' + report\n",
    "[ filter_path, list_path ]"
   ]
  },
  {
   "cell_type": "markdown",
   "metadata": {},
   "source": [
    "Next, we look up the IDs for the years and semesters we're interested in."
   ]
  },
  {
   "cell_type": "code",
   "execution_count": 100,
   "metadata": {
    "collapsed": false
   },
   "outputs": [
    {
     "data": {
      "text/plain": [
       "{'': 'null',\n",
       " '2007-2008': '978181',\n",
       " '2008-2009': '978187',\n",
       " '2009-2010': '978195',\n",
       " '2010-2011': '39486325',\n",
       " '2011-2012': '123455150',\n",
       " '2012-2013': '123456101',\n",
       " '2013-2014': '213637754',\n",
       " '2014-2015': '213637922',\n",
       " '2015-2016': '213638028',\n",
       " '2016-2017': '355925344'}"
      ]
     },
     "execution_count": 100,
     "metadata": {},
     "output_type": "execute_result"
    }
   ],
   "source": [
    "# Find the IDs for the individual years\n",
    "\n",
    "req = requests.get(filter_path + 'ww_x_UNITE_ACAD=' + informatique_id)\n",
    "\n",
    "if req.status_code != 200:\n",
    "  raise Exception('Request failed')\n",
    "\n",
    "parser = BeautifulSoup(req.text, \"html.parser\")\n",
    "\n",
    "years = parser.find('select', attrs={\"name\": \"ww_x_PERIODE_ACAD\"}).findAll('option')\n",
    "year_ids = {}\n",
    "\n",
    "for el in years:\n",
    "    year_ids[el.text] = el['value']\n",
    "\n",
    "year_ids"
   ]
  },
  {
   "cell_type": "code",
   "execution_count": 98,
   "metadata": {
    "collapsed": false
   },
   "outputs": [
    {
     "data": {
      "text/plain": [
       "{'': 'null',\n",
       " 'Bachelor semestre 1': '249108',\n",
       " 'Bachelor semestre 2': '249114',\n",
       " 'Bachelor semestre 3': '942155',\n",
       " 'Bachelor semestre 4': '942163',\n",
       " 'Bachelor semestre 5': '942120',\n",
       " 'Bachelor semestre 5b': '2226768',\n",
       " 'Bachelor semestre 6': '942175',\n",
       " 'Bachelor semestre 6b': '2226785',\n",
       " 'Master semestre 1': '2230106',\n",
       " 'Master semestre 2': '942192',\n",
       " 'Master semestre 3': '2230128',\n",
       " 'Master semestre 4': '2230140',\n",
       " 'Mineur semestre 1': '2335667',\n",
       " 'Mineur semestre 2': '2335676',\n",
       " 'Mise à niveau': '2063602308',\n",
       " 'Projet Master automne': '249127',\n",
       " 'Projet Master printemps': '3781783',\n",
       " 'Semestre automne': '953159',\n",
       " 'Semestre printemps': '2754553',\n",
       " 'Stage automne 3ème année': '953137',\n",
       " 'Stage automne 4ème année': '2226616',\n",
       " 'Stage printemps 3ème année': '983606',\n",
       " 'Stage printemps 4ème année': '2226626',\n",
       " 'Stage printemps master': '2227132'}"
      ]
     },
     "execution_count": 98,
     "metadata": {},
     "output_type": "execute_result"
    }
   ],
   "source": [
    "periods = parser.find('select', attrs={'name': 'ww_x_PERIODE_PEDAGO'})\n",
    "period_ids = {}\n",
    "\n",
    "for el in periods:\n",
    "    period_ids[el.text] = el['value']\n",
    "\n",
    "period_ids"
   ]
  },
  {
   "cell_type": "code",
   "execution_count": 109,
   "metadata": {
    "collapsed": false
   },
   "outputs": [
    {
     "data": {
      "text/plain": [
       "'2021043255'"
      ]
     },
     "execution_count": 109,
     "metadata": {},
     "output_type": "execute_result"
    }
   ],
   "source": [
    "def get_gps_id(period, year):\n",
    "    query = 'ww_x_PERIODE_PEDAGO=' + period_ids[period] + '&ww_x_PERIODE_ACAD=' + year_ids[year]\n",
    "    req = requests.get(filter_path + 'ww_x_UNITE_ACAD=' + informatique_id + '&' + query)\n",
    "    \n",
    "    \n",
    "    if req.status_code != 200:\n",
    "      raise Exception('Request failed')\n",
    "    \n",
    "    parser = BeautifulSoup(req.text, \"html.parser\")\n",
    "\n",
    "    onclick_value = parser.findAll('a', class_ = 'ww_x_GPS')[1]['onclick']\n",
    "    \n",
    "    return re.search('ww_x_GPS=(\\\\d+)', onclick_value).group(1)\n",
    "\n",
    "get_gps_id(period='Bachelor semestre 1', year='2016-2017')"
   ]
  },
  {
   "cell_type": "code",
   "execution_count": 123,
   "metadata": {
    "collapsed": false
   },
   "outputs": [
    {
     "data": {
      "text/plain": [
       "[<td style=\"white-space:nowrap\">Monsieur</td>,\n",
       " <td style=\"white-space:nowrap\">Balas Martin</td>,\n",
       " <td style=\"white-space:nowrap\"></td>,\n",
       " <td style=\"white-space:nowrap\"></td>,\n",
       " <td style=\"white-space:nowrap\"></td>,\n",
       " <td style=\"white-space:nowrap\"></td>,\n",
       " <td style=\"white-space:nowrap\"></td>,\n",
       " <td style=\"white-space:nowrap\">Présent</td>,\n",
       " <td style=\"white-space:nowrap\"></td>,\n",
       " <td style=\"white-space:nowrap\"></td>,\n",
       " <td>174774</td>,\n",
       " <td style=\"white-space:nowrap\"></td>]"
      ]
     },
     "execution_count": 123,
     "metadata": {},
     "output_type": "execute_result"
    }
   ],
   "source": [
    "def get_table(period, year):\n",
    "    query = 'ww_x_GPS=' + get_gps_id(period, year) + '&ww_x_UNITE_ACAD=' + informatique_id\n",
    "    req = requests.get(list_path + query)\n",
    "\n",
    "    if req.status_code != 200:\n",
    "      raise Exception('Request failed')\n",
    "\n",
    "    parser = BeautifulSoup(req.text, \"html.parser\")\n",
    "\n",
    "    return list(map((lambda x: x.findAll('td')), parser.findAll('tr')[2:]))\n",
    "\n",
    "get_table(period='Bachelor semestre 6', year='2008-2009')[0]"
   ]
  },
  {
   "cell_type": "markdown",
   "metadata": {},
   "source": [
    "# Task 1\n",
    "\n",
    "> Obtain all the data for the Bachelor students, starting from 2007. Keep only the students for which you have an entry for both Bachelor semestre 1 and Bachelor semestre 6. Compute how many months it took each student to go from the first to the sixth semester. Partition the data between male and female students, and compute the average -- is the difference in average statistically significant?"
   ]
  },
  {
   "cell_type": "code",
   "execution_count": 119,
   "metadata": {
    "collapsed": false,
    "scrolled": true
   },
   "outputs": [
    {
     "name": "stdout",
     "output_type": "stream",
     "text": [
      "71297531\n",
      "109576936\n",
      "213617925\n",
      "357704486\n",
      "736308968\n",
      "1378362092\n",
      "1650771864\n",
      "1744377893\n",
      "1897032870\n",
      "2021043255\n",
      "71297550\n",
      "109576955\n",
      "213617944\n",
      "357704513\n",
      "736308992\n",
      "1378362120\n",
      "1650771892\n",
      "1744377921\n",
      "1897032920\n",
      "2021043310\n",
      "39494788\n",
      "71297569\n",
      "109576974\n",
      "213617963\n",
      "357704537\n",
      "736309015\n",
      "1378362148\n",
      "1650771920\n",
      "1744377949\n",
      "1897032970\n",
      "39494823\n",
      "71297587\n",
      "109576992\n",
      "213617981\n",
      "357704559\n",
      "736309037\n",
      "1378362175\n",
      "1650771947\n",
      "1744377976\n",
      "1897033019\n",
      "19561980\n",
      "39494874\n",
      "71297605\n",
      "109577010\n",
      "213617999\n",
      "357704581\n",
      "736309059\n",
      "1378362202\n",
      "1650771974\n",
      "1744378003\n",
      "19561998\n",
      "39494897\n",
      "71297626\n",
      "109577031\n",
      "213618020\n",
      "357704613\n",
      "736309090\n",
      "1378362238\n",
      "1650772010\n",
      "1744378039\n"
     ]
    }
   ],
   "source": [
    "for i in range(1, 7):\n",
    "    for y in range(2007, 2017):\n",
    "        print(get_gps_id(period='Bachelor semestre ' + str(i), year=str(y) + '-' + str(y + 1)))"
   ]
  },
  {
   "cell_type": "markdown",
   "metadata": {},
   "source": [
    "# Task 2\n",
    "\n",
    "> Perform a similar operation to what described above, this time for Master students. Notice that this data is more tricky, as there are many missing records in the IS-Academia database. Therefore, try to guess how much time a master student spent at EPFL by at least checking the distance in months between Master semestre 1 and Master semestre 2. If the Mineur field is not empty, the student should also appear registered in Master semestre 3. Last but not the least, don't forget to check if the student has an entry also in the Projet Master tables. Once you can handle well this data, compute the \"average stay at EPFL\" for master students. Now extract all the students with a Spécialisation and compute the \"average stay\" per each category of that attribute -- compared to the general average, can you find any specialization for which the difference in average is statistically significant?"
   ]
  },
  {
   "cell_type": "code",
   "execution_count": null,
   "metadata": {
    "collapsed": false
   },
   "outputs": [],
   "source": []
  },
  {
   "cell_type": "markdown",
   "metadata": {},
   "source": [
    "# Bonus-Task\n",
    "\n",
    "> BONUS: perform the gender-based study also on the Master students, as explained in 1. Use scatterplots to visually identify changes over time. Plot males and females with different colors -- can you spot different trends that match the results of your statistical tests?"
   ]
  },
  {
   "cell_type": "code",
   "execution_count": null,
   "metadata": {
    "collapsed": true
   },
   "outputs": [],
   "source": []
  }
 ],
 "metadata": {
  "anaconda-cloud": {},
  "kernelspec": {
   "display_name": "Python [Root]",
   "language": "python",
   "name": "Python [Root]"
  },
  "language_info": {
   "codemirror_mode": {
    "name": "ipython",
    "version": 3
   },
   "file_extension": ".py",
   "mimetype": "text/x-python",
   "name": "python",
   "nbconvert_exporter": "python",
   "pygments_lexer": "ipython3",
   "version": "3.5.2"
  }
 },
 "nbformat": 4,
 "nbformat_minor": 0
}
