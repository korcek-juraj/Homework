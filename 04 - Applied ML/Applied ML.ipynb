{
 "cells": [
  {
   "cell_type": "markdown",
   "metadata": {},
   "source": [
    "# Applied Data Analysis — Homework 4"
   ]
  },
  {
   "cell_type": "markdown",
   "metadata": {},
   "source": [
    "Import common libraries"
   ]
  },
  {
   "cell_type": "code",
   "execution_count": 42,
   "metadata": {
    "collapsed": true
   },
   "outputs": [],
   "source": [
    "import pandas as pd\n",
    "import numpy as np\n",
    "import matplotlib.pyplot as plt\n",
    "%matplotlib inline"
   ]
  },
  {
   "cell_type": "markdown",
   "metadata": {},
   "source": [
    "Import the data and display a sample. The latter is just for ensuring that the data could be read; all columns are not shown as they are already explained in the recommended reading, as well as in the provided `DATA.md` file."
   ]
  },
  {
   "cell_type": "code",
   "execution_count": 43,
   "metadata": {
    "collapsed": false
   },
   "outputs": [
    {
     "data": {
      "text/html": [
       "<div>\n",
       "<table border=\"1\" class=\"dataframe\">\n",
       "  <thead>\n",
       "    <tr style=\"text-align: right;\">\n",
       "      <th></th>\n",
       "      <th>playerShort</th>\n",
       "      <th>player</th>\n",
       "      <th>club</th>\n",
       "      <th>leagueCountry</th>\n",
       "      <th>birthday</th>\n",
       "      <th>height</th>\n",
       "      <th>weight</th>\n",
       "      <th>position</th>\n",
       "      <th>games</th>\n",
       "      <th>victories</th>\n",
       "      <th>...</th>\n",
       "      <th>rater2</th>\n",
       "      <th>refNum</th>\n",
       "      <th>refCountry</th>\n",
       "      <th>Alpha_3</th>\n",
       "      <th>meanIAT</th>\n",
       "      <th>nIAT</th>\n",
       "      <th>seIAT</th>\n",
       "      <th>meanExp</th>\n",
       "      <th>nExp</th>\n",
       "      <th>seExp</th>\n",
       "    </tr>\n",
       "  </thead>\n",
       "  <tbody>\n",
       "    <tr>\n",
       "      <th>8935</th>\n",
       "      <td>john-arne-riise</td>\n",
       "      <td>John Arne Riise</td>\n",
       "      <td>Fulham FC</td>\n",
       "      <td>England</td>\n",
       "      <td>1980-09-24</td>\n",
       "      <td>185.0</td>\n",
       "      <td>77.0</td>\n",
       "      <td>Left Fullback</td>\n",
       "      <td>2</td>\n",
       "      <td>1</td>\n",
       "      <td>...</td>\n",
       "      <td>0.00</td>\n",
       "      <td>204</td>\n",
       "      <td>48</td>\n",
       "      <td>ITA</td>\n",
       "      <td>0.386174</td>\n",
       "      <td>1761.0</td>\n",
       "      <td>0.000232</td>\n",
       "      <td>0.529815</td>\n",
       "      <td>1895.0</td>\n",
       "      <td>0.001091</td>\n",
       "    </tr>\n",
       "    <tr>\n",
       "      <th>85002</th>\n",
       "      <td>antonio-rukavina</td>\n",
       "      <td>Antonio Rukavina</td>\n",
       "      <td>Real Valladolid</td>\n",
       "      <td>Spain</td>\n",
       "      <td>1984-01-26</td>\n",
       "      <td>177.0</td>\n",
       "      <td>74.0</td>\n",
       "      <td>Right Fullback</td>\n",
       "      <td>1</td>\n",
       "      <td>0</td>\n",
       "      <td>...</td>\n",
       "      <td>0.00</td>\n",
       "      <td>1852</td>\n",
       "      <td>8</td>\n",
       "      <td>DEU</td>\n",
       "      <td>0.336628</td>\n",
       "      <td>7749.0</td>\n",
       "      <td>0.000055</td>\n",
       "      <td>0.335967</td>\n",
       "      <td>7974.0</td>\n",
       "      <td>0.000225</td>\n",
       "    </tr>\n",
       "    <tr>\n",
       "      <th>60312</th>\n",
       "      <td>sebastian-kehl</td>\n",
       "      <td>Sebastian Kehl</td>\n",
       "      <td>Borussia Dortmund</td>\n",
       "      <td>Germany</td>\n",
       "      <td>1980-02-13</td>\n",
       "      <td>188.0</td>\n",
       "      <td>80.0</td>\n",
       "      <td>Defensive Midfielder</td>\n",
       "      <td>2</td>\n",
       "      <td>1</td>\n",
       "      <td>...</td>\n",
       "      <td>0.00</td>\n",
       "      <td>1221</td>\n",
       "      <td>45</td>\n",
       "      <td>SCOT</td>\n",
       "      <td>0.326690</td>\n",
       "      <td>44791.0</td>\n",
       "      <td>0.000010</td>\n",
       "      <td>0.356446</td>\n",
       "      <td>46916.0</td>\n",
       "      <td>0.000037</td>\n",
       "    </tr>\n",
       "    <tr>\n",
       "      <th>112895</th>\n",
       "      <td>andrew-surman</td>\n",
       "      <td>Andrew Surman</td>\n",
       "      <td>Norwich City</td>\n",
       "      <td>England</td>\n",
       "      <td>1986-08-20</td>\n",
       "      <td>178.0</td>\n",
       "      <td>72.0</td>\n",
       "      <td>Attacking Midfielder</td>\n",
       "      <td>2</td>\n",
       "      <td>0</td>\n",
       "      <td>...</td>\n",
       "      <td>NaN</td>\n",
       "      <td>2389</td>\n",
       "      <td>44</td>\n",
       "      <td>ENGL</td>\n",
       "      <td>0.326690</td>\n",
       "      <td>44791.0</td>\n",
       "      <td>0.000010</td>\n",
       "      <td>0.356446</td>\n",
       "      <td>46916.0</td>\n",
       "      <td>0.000037</td>\n",
       "    </tr>\n",
       "    <tr>\n",
       "      <th>103759</th>\n",
       "      <td>manuel-neuer</td>\n",
       "      <td>Manuel Neuer</td>\n",
       "      <td>Bayern München</td>\n",
       "      <td>Germany</td>\n",
       "      <td>1986-03-27</td>\n",
       "      <td>193.0</td>\n",
       "      <td>92.0</td>\n",
       "      <td>Goalkeeper</td>\n",
       "      <td>3</td>\n",
       "      <td>1</td>\n",
       "      <td>...</td>\n",
       "      <td>0.25</td>\n",
       "      <td>2230</td>\n",
       "      <td>72</td>\n",
       "      <td>PRT</td>\n",
       "      <td>0.396803</td>\n",
       "      <td>1079.0</td>\n",
       "      <td>0.000392</td>\n",
       "      <td>0.790366</td>\n",
       "      <td>1121.0</td>\n",
       "      <td>0.001798</td>\n",
       "    </tr>\n",
       "  </tbody>\n",
       "</table>\n",
       "<p>5 rows × 28 columns</p>\n",
       "</div>"
      ],
      "text/plain": [
       "             playerShort            player               club leagueCountry  \\\n",
       "8935     john-arne-riise   John Arne Riise          Fulham FC       England   \n",
       "85002   antonio-rukavina  Antonio Rukavina    Real Valladolid         Spain   \n",
       "60312     sebastian-kehl    Sebastian Kehl  Borussia Dortmund       Germany   \n",
       "112895     andrew-surman     Andrew Surman       Norwich City       England   \n",
       "103759      manuel-neuer      Manuel Neuer     Bayern München       Germany   \n",
       "\n",
       "         birthday  height  weight              position  games  victories  \\\n",
       "8935   1980-09-24   185.0    77.0         Left Fullback      2          1   \n",
       "85002  1984-01-26   177.0    74.0        Right Fullback      1          0   \n",
       "60312  1980-02-13   188.0    80.0  Defensive Midfielder      2          1   \n",
       "112895 1986-08-20   178.0    72.0  Attacking Midfielder      2          0   \n",
       "103759 1986-03-27   193.0    92.0            Goalkeeper      3          1   \n",
       "\n",
       "          ...     rater2  refNum  refCountry  Alpha_3   meanIAT     nIAT  \\\n",
       "8935      ...       0.00     204          48      ITA  0.386174   1761.0   \n",
       "85002     ...       0.00    1852           8      DEU  0.336628   7749.0   \n",
       "60312     ...       0.00    1221          45     SCOT  0.326690  44791.0   \n",
       "112895    ...        NaN    2389          44     ENGL  0.326690  44791.0   \n",
       "103759    ...       0.25    2230          72      PRT  0.396803   1079.0   \n",
       "\n",
       "           seIAT   meanExp     nExp     seExp  \n",
       "8935    0.000232  0.529815   1895.0  0.001091  \n",
       "85002   0.000055  0.335967   7974.0  0.000225  \n",
       "60312   0.000010  0.356446  46916.0  0.000037  \n",
       "112895  0.000010  0.356446  46916.0  0.000037  \n",
       "103759  0.000392  0.790366   1121.0  0.001798  \n",
       "\n",
       "[5 rows x 28 columns]"
      ]
     },
     "execution_count": 43,
     "metadata": {},
     "output_type": "execute_result"
    }
   ],
   "source": [
    "df = pd.read_csv('CrowdstormingDataJuly1st.csv', parse_dates=['birthday'])\n",
    "df.sample(5)"
   ]
  },
  {
   "cell_type": "markdown",
   "metadata": {},
   "source": [
    "Just out of curiosity, which is the player with the most interactions with a referee?"
   ]
  },
  {
   "cell_type": "code",
   "execution_count": 44,
   "metadata": {
    "collapsed": false
   },
   "outputs": [
    {
     "data": {
      "text/html": [
       "<div>\n",
       "<table border=\"1\" class=\"dataframe\">\n",
       "  <thead>\n",
       "    <tr style=\"text-align: right;\">\n",
       "      <th></th>\n",
       "      <th>playerShort</th>\n",
       "      <th>player</th>\n",
       "      <th>club</th>\n",
       "      <th>leagueCountry</th>\n",
       "      <th>birthday</th>\n",
       "      <th>height</th>\n",
       "      <th>weight</th>\n",
       "      <th>position</th>\n",
       "      <th>games</th>\n",
       "      <th>victories</th>\n",
       "      <th>...</th>\n",
       "      <th>rater2</th>\n",
       "      <th>refNum</th>\n",
       "      <th>refCountry</th>\n",
       "      <th>Alpha_3</th>\n",
       "      <th>meanIAT</th>\n",
       "      <th>nIAT</th>\n",
       "      <th>seIAT</th>\n",
       "      <th>meanExp</th>\n",
       "      <th>nExp</th>\n",
       "      <th>seExp</th>\n",
       "    </tr>\n",
       "  </thead>\n",
       "  <tbody>\n",
       "    <tr>\n",
       "      <th>48893</th>\n",
       "      <td>philipp-lahm</td>\n",
       "      <td>Philipp Lahm</td>\n",
       "      <td>Bayern München</td>\n",
       "      <td>Germany</td>\n",
       "      <td>1983-11-11</td>\n",
       "      <td>170.0</td>\n",
       "      <td>66.0</td>\n",
       "      <td>Left Fullback</td>\n",
       "      <td>47</td>\n",
       "      <td>29</td>\n",
       "      <td>...</td>\n",
       "      <td>0.25</td>\n",
       "      <td>933</td>\n",
       "      <td>8</td>\n",
       "      <td>DEU</td>\n",
       "      <td>0.336628</td>\n",
       "      <td>7749.0</td>\n",
       "      <td>0.000055</td>\n",
       "      <td>0.335967</td>\n",
       "      <td>7974.0</td>\n",
       "      <td>0.000225</td>\n",
       "    </tr>\n",
       "    <tr>\n",
       "      <th>48390</th>\n",
       "      <td>bastian-schweinsteiger</td>\n",
       "      <td>Bastian Schweinsteiger</td>\n",
       "      <td>Bayern München</td>\n",
       "      <td>Germany</td>\n",
       "      <td>1984-01-08</td>\n",
       "      <td>183.0</td>\n",
       "      <td>79.0</td>\n",
       "      <td>Defensive Midfielder</td>\n",
       "      <td>46</td>\n",
       "      <td>28</td>\n",
       "      <td>...</td>\n",
       "      <td>0.25</td>\n",
       "      <td>933</td>\n",
       "      <td>8</td>\n",
       "      <td>DEU</td>\n",
       "      <td>0.336628</td>\n",
       "      <td>7749.0</td>\n",
       "      <td>0.000055</td>\n",
       "      <td>0.335967</td>\n",
       "      <td>7974.0</td>\n",
       "      <td>0.000225</td>\n",
       "    </tr>\n",
       "    <tr>\n",
       "      <th>54811</th>\n",
       "      <td>paul-scholes</td>\n",
       "      <td>Paul Scholes</td>\n",
       "      <td>Manchester United</td>\n",
       "      <td>England</td>\n",
       "      <td>1974-11-16</td>\n",
       "      <td>170.0</td>\n",
       "      <td>72.0</td>\n",
       "      <td>Center Midfielder</td>\n",
       "      <td>44</td>\n",
       "      <td>28</td>\n",
       "      <td>...</td>\n",
       "      <td>0.00</td>\n",
       "      <td>1095</td>\n",
       "      <td>44</td>\n",
       "      <td>ENGL</td>\n",
       "      <td>0.326690</td>\n",
       "      <td>44791.0</td>\n",
       "      <td>0.000010</td>\n",
       "      <td>0.356446</td>\n",
       "      <td>46916.0</td>\n",
       "      <td>0.000037</td>\n",
       "    </tr>\n",
       "    <tr>\n",
       "      <th>97628</th>\n",
       "      <td>frank-lampard</td>\n",
       "      <td>Frank Lampard</td>\n",
       "      <td>Chelsea FC</td>\n",
       "      <td>England</td>\n",
       "      <td>1978-06-20</td>\n",
       "      <td>183.0</td>\n",
       "      <td>77.0</td>\n",
       "      <td>Center Midfielder</td>\n",
       "      <td>44</td>\n",
       "      <td>29</td>\n",
       "      <td>...</td>\n",
       "      <td>0.25</td>\n",
       "      <td>2080</td>\n",
       "      <td>44</td>\n",
       "      <td>ENGL</td>\n",
       "      <td>0.326690</td>\n",
       "      <td>44791.0</td>\n",
       "      <td>0.000010</td>\n",
       "      <td>0.356446</td>\n",
       "      <td>46916.0</td>\n",
       "      <td>0.000037</td>\n",
       "    </tr>\n",
       "    <tr>\n",
       "      <th>59844</th>\n",
       "      <td>michael-carrick</td>\n",
       "      <td>Michael Carrick</td>\n",
       "      <td>Manchester United</td>\n",
       "      <td>England</td>\n",
       "      <td>1981-07-28</td>\n",
       "      <td>186.0</td>\n",
       "      <td>74.0</td>\n",
       "      <td>Center Midfielder</td>\n",
       "      <td>42</td>\n",
       "      <td>24</td>\n",
       "      <td>...</td>\n",
       "      <td>0.00</td>\n",
       "      <td>1214</td>\n",
       "      <td>44</td>\n",
       "      <td>ENGL</td>\n",
       "      <td>0.326690</td>\n",
       "      <td>44791.0</td>\n",
       "      <td>0.000010</td>\n",
       "      <td>0.356446</td>\n",
       "      <td>46916.0</td>\n",
       "      <td>0.000037</td>\n",
       "    </tr>\n",
       "  </tbody>\n",
       "</table>\n",
       "<p>5 rows × 28 columns</p>\n",
       "</div>"
      ],
      "text/plain": [
       "                  playerShort                  player               club  \\\n",
       "48893            philipp-lahm            Philipp Lahm     Bayern München   \n",
       "48390  bastian-schweinsteiger  Bastian Schweinsteiger     Bayern München   \n",
       "54811            paul-scholes            Paul Scholes  Manchester United   \n",
       "97628           frank-lampard           Frank Lampard         Chelsea FC   \n",
       "59844         michael-carrick         Michael Carrick  Manchester United   \n",
       "\n",
       "      leagueCountry   birthday  height  weight              position  games  \\\n",
       "48893       Germany 1983-11-11   170.0    66.0         Left Fullback     47   \n",
       "48390       Germany 1984-01-08   183.0    79.0  Defensive Midfielder     46   \n",
       "54811       England 1974-11-16   170.0    72.0     Center Midfielder     44   \n",
       "97628       England 1978-06-20   183.0    77.0     Center Midfielder     44   \n",
       "59844       England 1981-07-28   186.0    74.0     Center Midfielder     42   \n",
       "\n",
       "       victories    ...     rater2  refNum  refCountry  Alpha_3   meanIAT  \\\n",
       "48893         29    ...       0.25     933           8      DEU  0.336628   \n",
       "48390         28    ...       0.25     933           8      DEU  0.336628   \n",
       "54811         28    ...       0.00    1095          44     ENGL  0.326690   \n",
       "97628         29    ...       0.25    2080          44     ENGL  0.326690   \n",
       "59844         24    ...       0.00    1214          44     ENGL  0.326690   \n",
       "\n",
       "          nIAT     seIAT   meanExp     nExp     seExp  \n",
       "48893   7749.0  0.000055  0.335967   7974.0  0.000225  \n",
       "48390   7749.0  0.000055  0.335967   7974.0  0.000225  \n",
       "54811  44791.0  0.000010  0.356446  46916.0  0.000037  \n",
       "97628  44791.0  0.000010  0.356446  46916.0  0.000037  \n",
       "59844  44791.0  0.000010  0.356446  46916.0  0.000037  \n",
       "\n",
       "[5 rows x 28 columns]"
      ]
     },
     "execution_count": 44,
     "metadata": {},
     "output_type": "execute_result"
    }
   ],
   "source": [
    "df.sort_values('games', ascending=False)[:5]"
   ]
  },
  {
   "cell_type": "markdown",
   "metadata": {},
   "source": [
    "## Cleaning the data\n",
    "\n",
    "As is described in the recommended reading, all games for each player are included.\n",
    "This is evident in the 47 games Philipp Lahm played under a single referee — a feat that could not be archieved in the Bundesliga, which has less games per team per season.\n",
    "\n",
    "This results in a lot of noise.\n",
    "As done in the recommended reading, we therefore remove all dyads (player-referee pairs) for referees that do not have connections to at least 22 players, the minimum for a single game."
   ]
  },
  {
   "cell_type": "code",
   "execution_count": 45,
   "metadata": {
    "collapsed": false
   },
   "outputs": [],
   "source": [
    "df_ref_group_sizes = df.groupby('refNum').size()\n",
    "# Referees that have at least 22 associated players\n",
    "good_df_refs = df_ref_group_sizes[df_ref_group_sizes >= 22]\n",
    "\n",
    "df = df[df['refNum'].isin(good_df_refs.index.values)]"
   ]
  },
  {
   "cell_type": "markdown",
   "metadata": {},
   "source": [
    "Just to be sure, verify that the new minimum is actually 22:"
   ]
  },
  {
   "cell_type": "code",
   "execution_count": 46,
   "metadata": {
    "collapsed": false,
    "scrolled": false
   },
   "outputs": [
    {
     "data": {
      "text/plain": [
       "22"
      ]
     },
     "execution_count": 46,
     "metadata": {},
     "output_type": "execute_result"
    }
   ],
   "source": [
    "df.groupby('refNum').size().min()"
   ]
  },
  {
   "cell_type": "markdown",
   "metadata": {},
   "source": [
    "The classifier only supports dealing with numbers, so we convert the birthdate to an int:"
   ]
  },
  {
   "cell_type": "code",
   "execution_count": 47,
   "metadata": {
    "collapsed": false
   },
   "outputs": [
    {
     "data": {
      "text/plain": [
       "20931     489628800000000000\n",
       "37641     283737600000000000\n",
       "137625    573091200000000000\n",
       "105512    488073600000000000\n",
       "101803    313977600000000000\n",
       "Name: birthday, dtype: int64"
      ]
     },
     "execution_count": 47,
     "metadata": {},
     "output_type": "execute_result"
    }
   ],
   "source": [
    "df['birthday'] = df['birthday'].astype('int64')\n",
    "\n",
    "df['birthday'].sample(5)"
   ]
  },
  {
   "cell_type": "markdown",
   "metadata": {},
   "source": [
    "Let's check whether one of the two raters has a tendency to rate lower than the other:"
   ]
  },
  {
   "cell_type": "code",
   "execution_count": 48,
   "metadata": {
    "collapsed": false,
    "scrolled": true
   },
   "outputs": [
    {
     "data": {
      "text/plain": [
       "0.05836231578577576"
      ]
     },
     "execution_count": 48,
     "metadata": {},
     "output_type": "execute_result"
    }
   ],
   "source": [
    "rating_differences = (df['rater2'] - df['rater1']).abs()\n",
    "\n",
    "rating_differences.mean()"
   ]
  },
  {
   "cell_type": "markdown",
   "metadata": {},
   "source": [
    "With a fifth of a step, this does not seem substantial.\n",
    "Let's check how often they actually disagree substantially (using half of the available scale):"
   ]
  },
  {
   "cell_type": "code",
   "execution_count": 49,
   "metadata": {
    "collapsed": false
   },
   "outputs": [
    {
     "data": {
      "text/plain": [
       "163"
      ]
     },
     "execution_count": 49,
     "metadata": {},
     "output_type": "execute_result"
    }
   ],
   "source": [
    "rating_differences[rating_differences >= .5].count()"
   ]
  },
  {
   "cell_type": "markdown",
   "metadata": {},
   "source": [
    "Given the small count, we should be fine with ignoring them.\n",
    "\n",
    "Next, we create a new column that merges the two skin tone ratings."
   ]
  },
  {
   "cell_type": "code",
   "execution_count": 50,
   "metadata": {
    "collapsed": false
   },
   "outputs": [
    {
     "data": {
      "text/html": [
       "<div>\n",
       "<table border=\"1\" class=\"dataframe\">\n",
       "  <thead>\n",
       "    <tr style=\"text-align: right;\">\n",
       "      <th></th>\n",
       "      <th>playerShort</th>\n",
       "      <th>player</th>\n",
       "      <th>club</th>\n",
       "      <th>leagueCountry</th>\n",
       "      <th>birthday</th>\n",
       "      <th>height</th>\n",
       "      <th>weight</th>\n",
       "      <th>position</th>\n",
       "      <th>games</th>\n",
       "      <th>victories</th>\n",
       "      <th>...</th>\n",
       "      <th>refNum</th>\n",
       "      <th>refCountry</th>\n",
       "      <th>Alpha_3</th>\n",
       "      <th>meanIAT</th>\n",
       "      <th>nIAT</th>\n",
       "      <th>seIAT</th>\n",
       "      <th>meanExp</th>\n",
       "      <th>nExp</th>\n",
       "      <th>seExp</th>\n",
       "      <th>skinRating</th>\n",
       "    </tr>\n",
       "  </thead>\n",
       "  <tbody>\n",
       "    <tr>\n",
       "      <th>133509</th>\n",
       "      <td>etienne-capoue</td>\n",
       "      <td>Étienne Capoue</td>\n",
       "      <td>Toulouse FC</td>\n",
       "      <td>France</td>\n",
       "      <td>594864000000000000</td>\n",
       "      <td>189.0</td>\n",
       "      <td>75.0</td>\n",
       "      <td>Defensive Midfielder</td>\n",
       "      <td>1</td>\n",
       "      <td>0</td>\n",
       "      <td>...</td>\n",
       "      <td>2835</td>\n",
       "      <td>71</td>\n",
       "      <td>NOR</td>\n",
       "      <td>0.340606</td>\n",
       "      <td>4949.0</td>\n",
       "      <td>0.000083</td>\n",
       "      <td>0.692824</td>\n",
       "      <td>5212.0</td>\n",
       "      <td>0.000391</td>\n",
       "      <td>NaN</td>\n",
       "    </tr>\n",
       "    <tr>\n",
       "      <th>71361</th>\n",
       "      <td>paco-montanes</td>\n",
       "      <td>Paco Montañés</td>\n",
       "      <td>Real Zaragoza</td>\n",
       "      <td>Spain</td>\n",
       "      <td>524016000000000000</td>\n",
       "      <td>172.0</td>\n",
       "      <td>70.0</td>\n",
       "      <td>NaN</td>\n",
       "      <td>3</td>\n",
       "      <td>1</td>\n",
       "      <td>...</td>\n",
       "      <td>1536</td>\n",
       "      <td>3</td>\n",
       "      <td>ESP</td>\n",
       "      <td>0.369894</td>\n",
       "      <td>1785.0</td>\n",
       "      <td>0.000229</td>\n",
       "      <td>0.588297</td>\n",
       "      <td>1897.0</td>\n",
       "      <td>0.001002</td>\n",
       "      <td>0.25</td>\n",
       "    </tr>\n",
       "    <tr>\n",
       "      <th>44636</th>\n",
       "      <td>movilla</td>\n",
       "      <td>Movilla</td>\n",
       "      <td>Real Zaragoza</td>\n",
       "      <td>Spain</td>\n",
       "      <td>176169600000000000</td>\n",
       "      <td>171.0</td>\n",
       "      <td>70.0</td>\n",
       "      <td>Defensive Midfielder</td>\n",
       "      <td>1</td>\n",
       "      <td>1</td>\n",
       "      <td>...</td>\n",
       "      <td>829</td>\n",
       "      <td>50</td>\n",
       "      <td>MKD</td>\n",
       "      <td>0.327139</td>\n",
       "      <td>170.0</td>\n",
       "      <td>0.002362</td>\n",
       "      <td>0.959538</td>\n",
       "      <td>173.0</td>\n",
       "      <td>0.014794</td>\n",
       "      <td>0.25</td>\n",
       "    </tr>\n",
       "    <tr>\n",
       "      <th>37477</th>\n",
       "      <td>chris-martin</td>\n",
       "      <td>Chris Martin</td>\n",
       "      <td>Swindon Town</td>\n",
       "      <td>England</td>\n",
       "      <td>576720000000000000</td>\n",
       "      <td>178.0</td>\n",
       "      <td>73.0</td>\n",
       "      <td>Center Forward</td>\n",
       "      <td>6</td>\n",
       "      <td>1</td>\n",
       "      <td>...</td>\n",
       "      <td>669</td>\n",
       "      <td>44</td>\n",
       "      <td>ENGL</td>\n",
       "      <td>0.326690</td>\n",
       "      <td>44791.0</td>\n",
       "      <td>0.000010</td>\n",
       "      <td>0.356446</td>\n",
       "      <td>46916.0</td>\n",
       "      <td>0.000037</td>\n",
       "      <td>NaN</td>\n",
       "    </tr>\n",
       "    <tr>\n",
       "      <th>90812</th>\n",
       "      <td>yohan-cabaye</td>\n",
       "      <td>Yohan Cabaye</td>\n",
       "      <td>Newcastle United</td>\n",
       "      <td>England</td>\n",
       "      <td>506044800000000000</td>\n",
       "      <td>175.0</td>\n",
       "      <td>69.0</td>\n",
       "      <td>Defensive Midfielder</td>\n",
       "      <td>1</td>\n",
       "      <td>1</td>\n",
       "      <td>...</td>\n",
       "      <td>1946</td>\n",
       "      <td>40</td>\n",
       "      <td>SWE</td>\n",
       "      <td>0.340205</td>\n",
       "      <td>5223.0</td>\n",
       "      <td>0.000081</td>\n",
       "      <td>0.626401</td>\n",
       "      <td>5621.0</td>\n",
       "      <td>0.000373</td>\n",
       "      <td>0.00</td>\n",
       "    </tr>\n",
       "  </tbody>\n",
       "</table>\n",
       "<p>5 rows × 29 columns</p>\n",
       "</div>"
      ],
      "text/plain": [
       "           playerShort          player              club leagueCountry  \\\n",
       "133509  etienne-capoue  Étienne Capoue       Toulouse FC        France   \n",
       "71361    paco-montanes   Paco Montañés     Real Zaragoza         Spain   \n",
       "44636          movilla         Movilla     Real Zaragoza         Spain   \n",
       "37477     chris-martin    Chris Martin      Swindon Town       England   \n",
       "90812     yohan-cabaye    Yohan Cabaye  Newcastle United       England   \n",
       "\n",
       "                  birthday  height  weight              position  games  \\\n",
       "133509  594864000000000000   189.0    75.0  Defensive Midfielder      1   \n",
       "71361   524016000000000000   172.0    70.0                   NaN      3   \n",
       "44636   176169600000000000   171.0    70.0  Defensive Midfielder      1   \n",
       "37477   576720000000000000   178.0    73.0        Center Forward      6   \n",
       "90812   506044800000000000   175.0    69.0  Defensive Midfielder      1   \n",
       "\n",
       "        victories     ...      refNum  refCountry  Alpha_3   meanIAT     nIAT  \\\n",
       "133509          0     ...        2835          71      NOR  0.340606   4949.0   \n",
       "71361           1     ...        1536           3      ESP  0.369894   1785.0   \n",
       "44636           1     ...         829          50      MKD  0.327139    170.0   \n",
       "37477           1     ...         669          44     ENGL  0.326690  44791.0   \n",
       "90812           1     ...        1946          40      SWE  0.340205   5223.0   \n",
       "\n",
       "           seIAT   meanExp     nExp     seExp  skinRating  \n",
       "133509  0.000083  0.692824   5212.0  0.000391         NaN  \n",
       "71361   0.000229  0.588297   1897.0  0.001002        0.25  \n",
       "44636   0.002362  0.959538    173.0  0.014794        0.25  \n",
       "37477   0.000010  0.356446  46916.0  0.000037         NaN  \n",
       "90812   0.000081  0.626401   5621.0  0.000373        0.00  \n",
       "\n",
       "[5 rows x 29 columns]"
      ]
     },
     "execution_count": 50,
     "metadata": {},
     "output_type": "execute_result"
    }
   ],
   "source": [
    "df['skinRating'] = (df['rater1'] + df['rater2']) / 2\n",
    "\n",
    "df.sample(5)"
   ]
  },
  {
   "cell_type": "markdown",
   "metadata": {},
   "source": [
    "At this point, we do not remove further values.\n",
    "The intuition is that even missing values might have a relation to the skin color."
   ]
  },
  {
   "cell_type": "markdown",
   "metadata": {},
   "source": [
    "## Task 1\n",
    "\n",
    "> Train a `sklearn.ensemble.RandomForestClassifier` that given a soccer player description outputs his skin color. Show how different parameters \n",
    "passed to the Classifier affect the overfitting issue. Perform cross-validation to mitigate the overfitting of your model. Once you assessed your model,\n",
    "inspect the `feature_importances_` attribute and discuss the obtained results. With different assumptions on the data (e.g., dropping certain features even\n",
    "before feeding them to the classifier), can you obtain a substantially different `feature_importances_` attribute?"
   ]
  },
  {
   "cell_type": "code",
   "execution_count": 51,
   "metadata": {
    "collapsed": false
   },
   "outputs": [],
   "source": [
    "from sklearn.ensemble import RandomForestClassifier"
   ]
  },
  {
   "cell_type": "markdown",
   "metadata": {},
   "source": [
    "#### From dyads to player stats\n",
    "\n",
    "First, we need to get per-player stats from the dyads.\n",
    "We do this by aggregating all statistics.\n",
    "\n",
    "To know what we're dealing with, we print a list of all data types:"
   ]
  },
  {
   "cell_type": "code",
   "execution_count": 52,
   "metadata": {
    "collapsed": false,
    "scrolled": true
   },
   "outputs": [
    {
     "data": {
      "text/plain": [
       "playerShort       object\n",
       "player            object\n",
       "club              object\n",
       "leagueCountry     object\n",
       "birthday           int64\n",
       "height           float64\n",
       "weight           float64\n",
       "position          object\n",
       "games              int64\n",
       "victories          int64\n",
       "ties               int64\n",
       "defeats            int64\n",
       "goals              int64\n",
       "yellowCards        int64\n",
       "yellowReds         int64\n",
       "redCards           int64\n",
       "photoID           object\n",
       "rater1           float64\n",
       "rater2           float64\n",
       "refNum             int64\n",
       "refCountry         int64\n",
       "Alpha_3           object\n",
       "meanIAT          float64\n",
       "nIAT             float64\n",
       "seIAT            float64\n",
       "meanExp          float64\n",
       "nExp             float64\n",
       "seExp            float64\n",
       "skinRating       float64\n",
       "dtype: object"
      ]
     },
     "execution_count": 52,
     "metadata": {},
     "output_type": "execute_result"
    }
   ],
   "source": [
    "df.dtypes"
   ]
  },
  {
   "cell_type": "markdown",
   "metadata": {},
   "source": [
    "Based on this, we aggregate stats for all players:"
   ]
  },
  {
   "cell_type": "code",
   "execution_count": 53,
   "metadata": {
    "collapsed": false
   },
   "outputs": [
    {
     "data": {
      "text/html": [
       "<div>\n",
       "<table border=\"1\" class=\"dataframe\">\n",
       "  <thead>\n",
       "    <tr style=\"text-align: right;\">\n",
       "      <th></th>\n",
       "      <th>club</th>\n",
       "      <th>skinRating</th>\n",
       "      <th>position</th>\n",
       "      <th>seIAT</th>\n",
       "      <th>yellowReds</th>\n",
       "      <th>yellowCards</th>\n",
       "      <th>goals</th>\n",
       "      <th>seExp</th>\n",
       "      <th>games</th>\n",
       "      <th>height</th>\n",
       "      <th>...</th>\n",
       "      <th>meanIAT</th>\n",
       "      <th>leagueCountry</th>\n",
       "      <th>defeats</th>\n",
       "      <th>meanExp</th>\n",
       "      <th>redCards</th>\n",
       "      <th>nExp</th>\n",
       "      <th>ties</th>\n",
       "      <th>victories</th>\n",
       "      <th>nIAT</th>\n",
       "      <th>weight</th>\n",
       "    </tr>\n",
       "    <tr>\n",
       "      <th>playerShort</th>\n",
       "      <th></th>\n",
       "      <th></th>\n",
       "      <th></th>\n",
       "      <th></th>\n",
       "      <th></th>\n",
       "      <th></th>\n",
       "      <th></th>\n",
       "      <th></th>\n",
       "      <th></th>\n",
       "      <th></th>\n",
       "      <th></th>\n",
       "      <th></th>\n",
       "      <th></th>\n",
       "      <th></th>\n",
       "      <th></th>\n",
       "      <th></th>\n",
       "      <th></th>\n",
       "      <th></th>\n",
       "      <th></th>\n",
       "      <th></th>\n",
       "      <th></th>\n",
       "    </tr>\n",
       "  </thead>\n",
       "  <tbody>\n",
       "    <tr>\n",
       "      <th>borja-gomez</th>\n",
       "      <td>Granada CF</td>\n",
       "      <td>0.00</td>\n",
       "      <td>None</td>\n",
       "      <td>0.000323</td>\n",
       "      <td>2</td>\n",
       "      <td>21</td>\n",
       "      <td>4</td>\n",
       "      <td>0.001514</td>\n",
       "      <td>72</td>\n",
       "      <td>184.0</td>\n",
       "      <td>...</td>\n",
       "      <td>0.370805</td>\n",
       "      <td>Spain</td>\n",
       "      <td>31</td>\n",
       "      <td>0.625081</td>\n",
       "      <td>0</td>\n",
       "      <td>1881.108696</td>\n",
       "      <td>14</td>\n",
       "      <td>27</td>\n",
       "      <td>1770.586957</td>\n",
       "      <td>77.0</td>\n",
       "    </tr>\n",
       "    <tr>\n",
       "      <th>luiz-gustavo</th>\n",
       "      <td>Bayern München</td>\n",
       "      <td>0.75</td>\n",
       "      <td>Defensive Midfielder</td>\n",
       "      <td>0.000543</td>\n",
       "      <td>6</td>\n",
       "      <td>63</td>\n",
       "      <td>13</td>\n",
       "      <td>0.003259</td>\n",
       "      <td>257</td>\n",
       "      <td>187.0</td>\n",
       "      <td>...</td>\n",
       "      <td>0.344258</td>\n",
       "      <td>Germany</td>\n",
       "      <td>55</td>\n",
       "      <td>0.433629</td>\n",
       "      <td>1</td>\n",
       "      <td>38913.102941</td>\n",
       "      <td>44</td>\n",
       "      <td>158</td>\n",
       "      <td>37823.794118</td>\n",
       "      <td>80.0</td>\n",
       "    </tr>\n",
       "    <tr>\n",
       "      <th>loris-karius</th>\n",
       "      <td>1. FSV Mainz 05</td>\n",
       "      <td>0.00</td>\n",
       "      <td>Goalkeeper</td>\n",
       "      <td>0.000055</td>\n",
       "      <td>0</td>\n",
       "      <td>1</td>\n",
       "      <td>0</td>\n",
       "      <td>0.000225</td>\n",
       "      <td>48</td>\n",
       "      <td>189.0</td>\n",
       "      <td>...</td>\n",
       "      <td>0.336628</td>\n",
       "      <td>Germany</td>\n",
       "      <td>18</td>\n",
       "      <td>0.335967</td>\n",
       "      <td>0</td>\n",
       "      <td>7974.000000</td>\n",
       "      <td>9</td>\n",
       "      <td>21</td>\n",
       "      <td>7749.000000</td>\n",
       "      <td>75.0</td>\n",
       "    </tr>\n",
       "    <tr>\n",
       "      <th>mario-mandzukic</th>\n",
       "      <td>Bayern München</td>\n",
       "      <td>0.25</td>\n",
       "      <td>Center Forward</td>\n",
       "      <td>0.000751</td>\n",
       "      <td>1</td>\n",
       "      <td>46</td>\n",
       "      <td>94</td>\n",
       "      <td>0.003216</td>\n",
       "      <td>233</td>\n",
       "      <td>187.0</td>\n",
       "      <td>...</td>\n",
       "      <td>0.352975</td>\n",
       "      <td>Germany</td>\n",
       "      <td>61</td>\n",
       "      <td>0.497626</td>\n",
       "      <td>1</td>\n",
       "      <td>6514.193548</td>\n",
       "      <td>42</td>\n",
       "      <td>130</td>\n",
       "      <td>6256.107527</td>\n",
       "      <td>84.0</td>\n",
       "    </tr>\n",
       "    <tr>\n",
       "      <th>fethi-harek</th>\n",
       "      <td>SC Bastia</td>\n",
       "      <td>NaN</td>\n",
       "      <td>None</td>\n",
       "      <td>0.000151</td>\n",
       "      <td>1</td>\n",
       "      <td>19</td>\n",
       "      <td>3</td>\n",
       "      <td>0.000586</td>\n",
       "      <td>152</td>\n",
       "      <td>175.0</td>\n",
       "      <td>...</td>\n",
       "      <td>0.334684</td>\n",
       "      <td>France</td>\n",
       "      <td>61</td>\n",
       "      <td>0.336101</td>\n",
       "      <td>0</td>\n",
       "      <td>3011.000000</td>\n",
       "      <td>37</td>\n",
       "      <td>54</td>\n",
       "      <td>2882.000000</td>\n",
       "      <td>61.0</td>\n",
       "    </tr>\n",
       "  </tbody>\n",
       "</table>\n",
       "<p>5 rows × 21 columns</p>\n",
       "</div>"
      ],
      "text/plain": [
       "                            club  skinRating              position     seIAT  \\\n",
       "playerShort                                                                    \n",
       "borja-gomez           Granada CF        0.00                  None  0.000323   \n",
       "luiz-gustavo      Bayern München        0.75  Defensive Midfielder  0.000543   \n",
       "loris-karius     1. FSV Mainz 05        0.00            Goalkeeper  0.000055   \n",
       "mario-mandzukic   Bayern München        0.25        Center Forward  0.000751   \n",
       "fethi-harek            SC Bastia         NaN                  None  0.000151   \n",
       "\n",
       "                 yellowReds  yellowCards  goals     seExp  games  height  \\\n",
       "playerShort                                                                \n",
       "borja-gomez               2           21      4  0.001514     72   184.0   \n",
       "luiz-gustavo              6           63     13  0.003259    257   187.0   \n",
       "loris-karius              0            1      0  0.000225     48   189.0   \n",
       "mario-mandzukic           1           46     94  0.003216    233   187.0   \n",
       "fethi-harek               1           19      3  0.000586    152   175.0   \n",
       "\n",
       "                  ...     meanIAT  leagueCountry defeats   meanExp  redCards  \\\n",
       "playerShort       ...                                                          \n",
       "borja-gomez       ...    0.370805          Spain      31  0.625081         0   \n",
       "luiz-gustavo      ...    0.344258        Germany      55  0.433629         1   \n",
       "loris-karius      ...    0.336628        Germany      18  0.335967         0   \n",
       "mario-mandzukic   ...    0.352975        Germany      61  0.497626         1   \n",
       "fethi-harek       ...    0.334684         France      61  0.336101         0   \n",
       "\n",
       "                         nExp  ties  victories          nIAT  weight  \n",
       "playerShort                                                           \n",
       "borja-gomez       1881.108696    14         27   1770.586957    77.0  \n",
       "luiz-gustavo     38913.102941    44        158  37823.794118    80.0  \n",
       "loris-karius      7974.000000     9         21   7749.000000    75.0  \n",
       "mario-mandzukic   6514.193548    42        130   6256.107527    84.0  \n",
       "fethi-harek       3011.000000    37         54   2882.000000    61.0  \n",
       "\n",
       "[5 rows x 21 columns]"
      ]
     },
     "execution_count": 53,
     "metadata": {},
     "output_type": "execute_result"
    }
   ],
   "source": [
    "def most_common(val):\n",
    "    val_counts = val.value_counts()\n",
    "    if val_counts.size > 0:\n",
    "        return val_counts.keys()[0]\n",
    "\n",
    "player_df = df.groupby('playerShort').agg({\n",
    "    'club': most_common,\n",
    "    'leagueCountry': most_common,\n",
    "    'position': most_common,\n",
    "        \n",
    "    'birthday': 'max', # Use the highest age\n",
    "\n",
    "    'height': 'mean',\n",
    "    'weight': 'mean',\n",
    "    'meanIAT': 'mean',\n",
    "    'nIAT': 'mean',\n",
    "    'seIAT': 'mean',\n",
    "    'meanExp': 'mean',\n",
    "    'nExp': 'mean',\n",
    "    'seExp': 'mean',\n",
    "    'skinRating': 'mean',\n",
    "        \n",
    "    'games': 'sum',\n",
    "    'victories': 'sum',\n",
    "    'ties': 'sum',\n",
    "    'defeats': 'sum',\n",
    "    'goals': 'sum',\n",
    "    'yellowCards': 'sum',\n",
    "    'yellowReds': 'sum',\n",
    "    'redCards': 'sum',\n",
    "})\n",
    "\n",
    "player_df.reset_index() # get the df back from groupby\n",
    "\n",
    "player_df.sample(5)"
   ]
  },
  {
   "cell_type": "markdown",
   "metadata": {},
   "source": [
    "`sklearn` chokes on undefined values.\n",
    "Therefore, we first remove all players without a `skinRating`, as they cannot be classified."
   ]
  },
  {
   "cell_type": "code",
   "execution_count": 59,
   "metadata": {
    "collapsed": false
   },
   "outputs": [
    {
     "name": "stdout",
     "output_type": "stream",
     "text": [
      "Dropping 0/1584 players\n"
     ]
    },
    {
     "data": {
      "text/plain": [
       "1584"
      ]
     },
     "execution_count": 59,
     "metadata": {},
     "output_type": "execute_result"
    }
   ],
   "source": [
    "total_player_number = player_df['skinRating'].size\n",
    "ratingless_player_count = total_player_number - player_df['skinRating'].count()\n",
    "print('Dropping ' + str(ratingless_player_count) + '/' + str(total_player_number) + ' players')\n",
    "\n",
    "player_df.dropna(subset=['skinRating'], inplace=True)\n",
    "\n",
    "player_df['skinRating'].size # display remaining to ensure it succeeded"
   ]
  },
  {
   "cell_type": "markdown",
   "metadata": {},
   "source": [
    "For the other values, let's fill them in with something unique, so these values can be classified properly.\n",
    "We once again do not remove them as a missing value might represent a bias in the data gathering.\n",
    "\n",
    "First, we display property counts.\n",
    "Properties with lower counts have missing values.\n",
    "As we have already filtered out players without a `skinRating`, we use that number as a baseline."
   ]
  },
  {
   "cell_type": "code",
   "execution_count": 62,
   "metadata": {
    "collapsed": false
   },
   "outputs": [
    {
     "data": {
      "text/plain": [
       "club              0\n",
       "skinRating        0\n",
       "position          0\n",
       "seIAT             0\n",
       "yellowReds        0\n",
       "yellowCards       0\n",
       "goals             0\n",
       "seExp             0\n",
       "games             0\n",
       "height           -3\n",
       "birthday          0\n",
       "meanIAT           0\n",
       "leagueCountry     0\n",
       "defeats           0\n",
       "meanExp           0\n",
       "redCards          0\n",
       "nExp              0\n",
       "ties              0\n",
       "victories         0\n",
       "nIAT              0\n",
       "weight          -21\n",
       "dtype: int64"
      ]
     },
     "execution_count": 62,
     "metadata": {},
     "output_type": "execute_result"
    }
   ],
   "source": [
    "player_df.count() - player_df['skinRating'].count()"
   ]
  },
  {
   "cell_type": "markdown",
   "metadata": {},
   "source": [
    "Only `position`, `weight` and `height` have missing entries.\n",
    "As before, perhaps missing values have a significance, so let's fill them in with something unique."
   ]
  },
  {
   "cell_type": "code",
   "execution_count": 61,
   "metadata": {
    "collapsed": false
   },
   "outputs": [
    {
     "data": {
      "text/plain": [
       "1584"
      ]
     },
     "execution_count": 61,
     "metadata": {},
     "output_type": "execute_result"
    }
   ],
   "source": [
    "player_df['position'].fillna('missing', inplace=True)\n",
    "player_df['position'].count()"
   ]
  },
  {
   "cell_type": "code",
   "execution_count": 63,
   "metadata": {
    "collapsed": false
   },
   "outputs": [
    {
     "data": {
      "text/plain": [
       "club             0\n",
       "skinRating       0\n",
       "position         0\n",
       "seIAT            0\n",
       "yellowReds       0\n",
       "yellowCards      0\n",
       "goals            0\n",
       "seExp            0\n",
       "games            0\n",
       "height           0\n",
       "birthday         0\n",
       "meanIAT          0\n",
       "leagueCountry    0\n",
       "defeats          0\n",
       "meanExp          0\n",
       "redCards         0\n",
       "nExp             0\n",
       "ties             0\n",
       "victories        0\n",
       "nIAT             0\n",
       "weight           0\n",
       "dtype: int64"
      ]
     },
     "execution_count": 63,
     "metadata": {},
     "output_type": "execute_result"
    }
   ],
   "source": [
    "# Neither weight nor height can be 0 under ordinary circumstances\n",
    "\n",
    "player_df.fillna(0, inplace=True)\n",
    "player_df.count() - player_df['skinRating'].count()"
   ]
  },
  {
   "cell_type": "markdown",
   "metadata": {},
   "source": [
    "All cleaned up, so let's get to the interesting part:"
   ]
  },
  {
   "cell_type": "markdown",
   "metadata": {
    "collapsed": false
   },
   "source": [
    "#### Preparing & split the test set\n",
    "\n",
    "We split the players to two sets, one for training, one for testing."
   ]
  },
  {
   "cell_type": "code",
   "execution_count": 64,
   "metadata": {
    "collapsed": false
   },
   "outputs": [],
   "source": [
    "from sklearn.preprocessing import LabelEncoder\n",
    "from sklearn.model_selection import train_test_split # Needed for cross-validation\n",
    "\n",
    "X = pd.get_dummies(player_df.copy())\n",
    "X.drop('skinRating', inplace=True, axis=1)\n",
    "\n",
    "Y = LabelEncoder().fit_transform(player_df['skinRating'])\n",
    "\n",
    "X_train, X_test, y_train, y_test = train_test_split(X, Y, test_size=.25)"
   ]
  },
  {
   "cell_type": "code",
   "execution_count": 65,
   "metadata": {
    "collapsed": false
   },
   "outputs": [
    {
     "data": {
      "text/plain": [
       "RandomForestClassifier(bootstrap=True, class_weight=None, criterion='gini',\n",
       "            max_depth=None, max_features='auto', max_leaf_nodes=None,\n",
       "            min_impurity_split=1e-07, min_samples_leaf=1,\n",
       "            min_samples_split=2, min_weight_fraction_leaf=0.0,\n",
       "            n_estimators=10, n_jobs=1, oob_score=False, random_state=None,\n",
       "            verbose=0, warm_start=False)"
      ]
     },
     "execution_count": 65,
     "metadata": {},
     "output_type": "execute_result"
    }
   ],
   "source": [
    "classifier = RandomForestClassifier()\n",
    "classifier.fit(X_train, y_train)"
   ]
  },
  {
   "cell_type": "markdown",
   "metadata": {},
   "source": [
    "### Task 1 — Bonus\n",
    "\n",
    "> Plot the learning curves against at least 2 different sets of parameters passed to your Random Forest.\n",
    "To obtain smooth curves, partition your data in at least 20 folds.\n",
    "Can you find a set of parameters that leads to high bias, and one which does not?"
   ]
  },
  {
   "cell_type": "markdown",
   "metadata": {},
   "source": [
    "## Task 2\n",
    "\n",
    "> Aggregate the referee information grouping by soccer player, and use an unsupervised learning technique to cluster the soccer players in 2 disjoint clusters.\n",
    "Remove features iteratively, and at each step perform again the clustering and compute the silhouette score -- can you find a configuration of features with high silhouette score where players with dark and light skin colors belong to different clusters?\n",
    "Discuss the obtained results."
   ]
  },
  {
   "cell_type": "code",
   "execution_count": null,
   "metadata": {
    "collapsed": true
   },
   "outputs": [],
   "source": []
  }
 ],
 "metadata": {
  "anaconda-cloud": {},
  "kernelspec": {
   "display_name": "Python [Root]",
   "language": "python",
   "name": "Python [Root]"
  },
  "language_info": {
   "codemirror_mode": {
    "name": "ipython",
    "version": 3
   },
   "file_extension": ".py",
   "mimetype": "text/x-python",
   "name": "python",
   "nbconvert_exporter": "python",
   "pygments_lexer": "ipython3",
   "version": "3.5.2"
  }
 },
 "nbformat": 4,
 "nbformat_minor": 0
}
