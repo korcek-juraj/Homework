{
 "cells": [
  {
   "cell_type": "markdown",
   "metadata": {},
   "source": [
    "# Applied Data Analysis — Homework 4"
   ]
  },
  {
   "cell_type": "markdown",
   "metadata": {},
   "source": [
    "Import common libraries"
   ]
  },
  {
   "cell_type": "code",
   "execution_count": 1,
   "metadata": {
    "collapsed": true
   },
   "outputs": [],
   "source": [
    "import pandas as pd\n",
    "import numpy as np\n",
    "import matplotlib.pyplot as plt\n",
    "%matplotlib inline"
   ]
  },
  {
   "cell_type": "markdown",
   "metadata": {},
   "source": [
    "Import the data and display a sample. The latter is just for ensuring that the data could be read; all columns are not shown as they are already explained in the recommended reading, as well as in the provided `DATA.md` file."
   ]
  },
  {
   "cell_type": "code",
   "execution_count": 2,
   "metadata": {
    "collapsed": false
   },
   "outputs": [
    {
     "data": {
      "text/html": [
       "<div>\n",
       "<table border=\"1\" class=\"dataframe\">\n",
       "  <thead>\n",
       "    <tr style=\"text-align: right;\">\n",
       "      <th></th>\n",
       "      <th>playerShort</th>\n",
       "      <th>player</th>\n",
       "      <th>club</th>\n",
       "      <th>leagueCountry</th>\n",
       "      <th>birthday</th>\n",
       "      <th>height</th>\n",
       "      <th>weight</th>\n",
       "      <th>position</th>\n",
       "      <th>games</th>\n",
       "      <th>victories</th>\n",
       "      <th>...</th>\n",
       "      <th>rater2</th>\n",
       "      <th>refNum</th>\n",
       "      <th>refCountry</th>\n",
       "      <th>Alpha_3</th>\n",
       "      <th>meanIAT</th>\n",
       "      <th>nIAT</th>\n",
       "      <th>seIAT</th>\n",
       "      <th>meanExp</th>\n",
       "      <th>nExp</th>\n",
       "      <th>seExp</th>\n",
       "    </tr>\n",
       "  </thead>\n",
       "  <tbody>\n",
       "    <tr>\n",
       "      <th>97392</th>\n",
       "      <td>timothee-kolodziejczak</td>\n",
       "      <td>Timothée Kolodziejczak</td>\n",
       "      <td>OGC Nice</td>\n",
       "      <td>France</td>\n",
       "      <td>1991-01-10</td>\n",
       "      <td>181.0</td>\n",
       "      <td>69.0</td>\n",
       "      <td>Left Fullback</td>\n",
       "      <td>1</td>\n",
       "      <td>0</td>\n",
       "      <td>...</td>\n",
       "      <td>0.50</td>\n",
       "      <td>2078</td>\n",
       "      <td>7</td>\n",
       "      <td>FRA</td>\n",
       "      <td>0.334684</td>\n",
       "      <td>2882.0</td>\n",
       "      <td>0.000151</td>\n",
       "      <td>0.336101</td>\n",
       "      <td>3011.0</td>\n",
       "      <td>0.000586</td>\n",
       "    </tr>\n",
       "    <tr>\n",
       "      <th>83342</th>\n",
       "      <td>alexander-manninger</td>\n",
       "      <td>Alexander Manninger</td>\n",
       "      <td>FC Augsburg</td>\n",
       "      <td>Germany</td>\n",
       "      <td>1977-04-06</td>\n",
       "      <td>188.0</td>\n",
       "      <td>83.0</td>\n",
       "      <td>Goalkeeper</td>\n",
       "      <td>1</td>\n",
       "      <td>0</td>\n",
       "      <td>...</td>\n",
       "      <td>0.25</td>\n",
       "      <td>1814</td>\n",
       "      <td>3</td>\n",
       "      <td>ESP</td>\n",
       "      <td>0.369894</td>\n",
       "      <td>1785.0</td>\n",
       "      <td>0.000229</td>\n",
       "      <td>0.588297</td>\n",
       "      <td>1897.0</td>\n",
       "      <td>0.001002</td>\n",
       "    </tr>\n",
       "    <tr>\n",
       "      <th>88208</th>\n",
       "      <td>joel-mcanuff</td>\n",
       "      <td>Joel McAnuff</td>\n",
       "      <td>Reading FC</td>\n",
       "      <td>England</td>\n",
       "      <td>1981-09-11</td>\n",
       "      <td>180.0</td>\n",
       "      <td>72.0</td>\n",
       "      <td>NaN</td>\n",
       "      <td>2</td>\n",
       "      <td>0</td>\n",
       "      <td>...</td>\n",
       "      <td>NaN</td>\n",
       "      <td>1915</td>\n",
       "      <td>44</td>\n",
       "      <td>ENGL</td>\n",
       "      <td>0.326690</td>\n",
       "      <td>44791.0</td>\n",
       "      <td>0.000010</td>\n",
       "      <td>0.356446</td>\n",
       "      <td>46916.0</td>\n",
       "      <td>0.000037</td>\n",
       "    </tr>\n",
       "    <tr>\n",
       "      <th>83249</th>\n",
       "      <td>mario-balotelli</td>\n",
       "      <td>Mario Balotelli</td>\n",
       "      <td>Manchester City</td>\n",
       "      <td>England</td>\n",
       "      <td>1990-12-08</td>\n",
       "      <td>189.0</td>\n",
       "      <td>88.0</td>\n",
       "      <td>Center Forward</td>\n",
       "      <td>1</td>\n",
       "      <td>0</td>\n",
       "      <td>...</td>\n",
       "      <td>1.00</td>\n",
       "      <td>1813</td>\n",
       "      <td>72</td>\n",
       "      <td>PRT</td>\n",
       "      <td>0.396803</td>\n",
       "      <td>1079.0</td>\n",
       "      <td>0.000392</td>\n",
       "      <td>0.790366</td>\n",
       "      <td>1121.0</td>\n",
       "      <td>0.001798</td>\n",
       "    </tr>\n",
       "    <tr>\n",
       "      <th>107961</th>\n",
       "      <td>oliver-baumann</td>\n",
       "      <td>Oliver Baumann</td>\n",
       "      <td>SC Freiburg</td>\n",
       "      <td>Germany</td>\n",
       "      <td>1990-02-06</td>\n",
       "      <td>187.0</td>\n",
       "      <td>80.0</td>\n",
       "      <td>Goalkeeper</td>\n",
       "      <td>1</td>\n",
       "      <td>1</td>\n",
       "      <td>...</td>\n",
       "      <td>0.25</td>\n",
       "      <td>2309</td>\n",
       "      <td>8</td>\n",
       "      <td>DEU</td>\n",
       "      <td>0.336628</td>\n",
       "      <td>7749.0</td>\n",
       "      <td>0.000055</td>\n",
       "      <td>0.335967</td>\n",
       "      <td>7974.0</td>\n",
       "      <td>0.000225</td>\n",
       "    </tr>\n",
       "  </tbody>\n",
       "</table>\n",
       "<p>5 rows × 28 columns</p>\n",
       "</div>"
      ],
      "text/plain": [
       "                   playerShort                  player             club  \\\n",
       "97392   timothee-kolodziejczak  Timothée Kolodziejczak         OGC Nice   \n",
       "83342      alexander-manninger     Alexander Manninger      FC Augsburg   \n",
       "88208             joel-mcanuff            Joel McAnuff       Reading FC   \n",
       "83249          mario-balotelli         Mario Balotelli  Manchester City   \n",
       "107961          oliver-baumann          Oliver Baumann      SC Freiburg   \n",
       "\n",
       "       leagueCountry   birthday  height  weight        position  games  \\\n",
       "97392         France 1991-01-10   181.0    69.0   Left Fullback      1   \n",
       "83342        Germany 1977-04-06   188.0    83.0      Goalkeeper      1   \n",
       "88208        England 1981-09-11   180.0    72.0             NaN      2   \n",
       "83249        England 1990-12-08   189.0    88.0  Center Forward      1   \n",
       "107961       Germany 1990-02-06   187.0    80.0      Goalkeeper      1   \n",
       "\n",
       "        victories    ...     rater2  refNum  refCountry  Alpha_3   meanIAT  \\\n",
       "97392           0    ...       0.50    2078           7      FRA  0.334684   \n",
       "83342           0    ...       0.25    1814           3      ESP  0.369894   \n",
       "88208           0    ...        NaN    1915          44     ENGL  0.326690   \n",
       "83249           0    ...       1.00    1813          72      PRT  0.396803   \n",
       "107961          1    ...       0.25    2309           8      DEU  0.336628   \n",
       "\n",
       "           nIAT     seIAT   meanExp     nExp     seExp  \n",
       "97392    2882.0  0.000151  0.336101   3011.0  0.000586  \n",
       "83342    1785.0  0.000229  0.588297   1897.0  0.001002  \n",
       "88208   44791.0  0.000010  0.356446  46916.0  0.000037  \n",
       "83249    1079.0  0.000392  0.790366   1121.0  0.001798  \n",
       "107961   7749.0  0.000055  0.335967   7974.0  0.000225  \n",
       "\n",
       "[5 rows x 28 columns]"
      ]
     },
     "execution_count": 2,
     "metadata": {},
     "output_type": "execute_result"
    }
   ],
   "source": [
    "df = pd.read_csv('CrowdstormingDataJuly1st.csv', parse_dates=['birthday'])\n",
    "df.sample(5)"
   ]
  },
  {
   "cell_type": "markdown",
   "metadata": {},
   "source": [
    "Just out of curiosity, which is the player with the most interactions with a referee?"
   ]
  },
  {
   "cell_type": "code",
   "execution_count": 3,
   "metadata": {
    "collapsed": false
   },
   "outputs": [
    {
     "data": {
      "text/html": [
       "<div>\n",
       "<table border=\"1\" class=\"dataframe\">\n",
       "  <thead>\n",
       "    <tr style=\"text-align: right;\">\n",
       "      <th></th>\n",
       "      <th>playerShort</th>\n",
       "      <th>player</th>\n",
       "      <th>club</th>\n",
       "      <th>leagueCountry</th>\n",
       "      <th>birthday</th>\n",
       "      <th>height</th>\n",
       "      <th>weight</th>\n",
       "      <th>position</th>\n",
       "      <th>games</th>\n",
       "      <th>victories</th>\n",
       "      <th>...</th>\n",
       "      <th>rater2</th>\n",
       "      <th>refNum</th>\n",
       "      <th>refCountry</th>\n",
       "      <th>Alpha_3</th>\n",
       "      <th>meanIAT</th>\n",
       "      <th>nIAT</th>\n",
       "      <th>seIAT</th>\n",
       "      <th>meanExp</th>\n",
       "      <th>nExp</th>\n",
       "      <th>seExp</th>\n",
       "    </tr>\n",
       "  </thead>\n",
       "  <tbody>\n",
       "    <tr>\n",
       "      <th>48893</th>\n",
       "      <td>philipp-lahm</td>\n",
       "      <td>Philipp Lahm</td>\n",
       "      <td>Bayern München</td>\n",
       "      <td>Germany</td>\n",
       "      <td>1983-11-11</td>\n",
       "      <td>170.0</td>\n",
       "      <td>66.0</td>\n",
       "      <td>Left Fullback</td>\n",
       "      <td>47</td>\n",
       "      <td>29</td>\n",
       "      <td>...</td>\n",
       "      <td>0.25</td>\n",
       "      <td>933</td>\n",
       "      <td>8</td>\n",
       "      <td>DEU</td>\n",
       "      <td>0.336628</td>\n",
       "      <td>7749.0</td>\n",
       "      <td>0.000055</td>\n",
       "      <td>0.335967</td>\n",
       "      <td>7974.0</td>\n",
       "      <td>0.000225</td>\n",
       "    </tr>\n",
       "    <tr>\n",
       "      <th>48390</th>\n",
       "      <td>bastian-schweinsteiger</td>\n",
       "      <td>Bastian Schweinsteiger</td>\n",
       "      <td>Bayern München</td>\n",
       "      <td>Germany</td>\n",
       "      <td>1984-01-08</td>\n",
       "      <td>183.0</td>\n",
       "      <td>79.0</td>\n",
       "      <td>Defensive Midfielder</td>\n",
       "      <td>46</td>\n",
       "      <td>28</td>\n",
       "      <td>...</td>\n",
       "      <td>0.25</td>\n",
       "      <td>933</td>\n",
       "      <td>8</td>\n",
       "      <td>DEU</td>\n",
       "      <td>0.336628</td>\n",
       "      <td>7749.0</td>\n",
       "      <td>0.000055</td>\n",
       "      <td>0.335967</td>\n",
       "      <td>7974.0</td>\n",
       "      <td>0.000225</td>\n",
       "    </tr>\n",
       "    <tr>\n",
       "      <th>54811</th>\n",
       "      <td>paul-scholes</td>\n",
       "      <td>Paul Scholes</td>\n",
       "      <td>Manchester United</td>\n",
       "      <td>England</td>\n",
       "      <td>1974-11-16</td>\n",
       "      <td>170.0</td>\n",
       "      <td>72.0</td>\n",
       "      <td>Center Midfielder</td>\n",
       "      <td>44</td>\n",
       "      <td>28</td>\n",
       "      <td>...</td>\n",
       "      <td>0.00</td>\n",
       "      <td>1095</td>\n",
       "      <td>44</td>\n",
       "      <td>ENGL</td>\n",
       "      <td>0.326690</td>\n",
       "      <td>44791.0</td>\n",
       "      <td>0.000010</td>\n",
       "      <td>0.356446</td>\n",
       "      <td>46916.0</td>\n",
       "      <td>0.000037</td>\n",
       "    </tr>\n",
       "    <tr>\n",
       "      <th>97628</th>\n",
       "      <td>frank-lampard</td>\n",
       "      <td>Frank Lampard</td>\n",
       "      <td>Chelsea FC</td>\n",
       "      <td>England</td>\n",
       "      <td>1978-06-20</td>\n",
       "      <td>183.0</td>\n",
       "      <td>77.0</td>\n",
       "      <td>Center Midfielder</td>\n",
       "      <td>44</td>\n",
       "      <td>29</td>\n",
       "      <td>...</td>\n",
       "      <td>0.25</td>\n",
       "      <td>2080</td>\n",
       "      <td>44</td>\n",
       "      <td>ENGL</td>\n",
       "      <td>0.326690</td>\n",
       "      <td>44791.0</td>\n",
       "      <td>0.000010</td>\n",
       "      <td>0.356446</td>\n",
       "      <td>46916.0</td>\n",
       "      <td>0.000037</td>\n",
       "    </tr>\n",
       "    <tr>\n",
       "      <th>59844</th>\n",
       "      <td>michael-carrick</td>\n",
       "      <td>Michael Carrick</td>\n",
       "      <td>Manchester United</td>\n",
       "      <td>England</td>\n",
       "      <td>1981-07-28</td>\n",
       "      <td>186.0</td>\n",
       "      <td>74.0</td>\n",
       "      <td>Center Midfielder</td>\n",
       "      <td>42</td>\n",
       "      <td>24</td>\n",
       "      <td>...</td>\n",
       "      <td>0.00</td>\n",
       "      <td>1214</td>\n",
       "      <td>44</td>\n",
       "      <td>ENGL</td>\n",
       "      <td>0.326690</td>\n",
       "      <td>44791.0</td>\n",
       "      <td>0.000010</td>\n",
       "      <td>0.356446</td>\n",
       "      <td>46916.0</td>\n",
       "      <td>0.000037</td>\n",
       "    </tr>\n",
       "  </tbody>\n",
       "</table>\n",
       "<p>5 rows × 28 columns</p>\n",
       "</div>"
      ],
      "text/plain": [
       "                  playerShort                  player               club  \\\n",
       "48893            philipp-lahm            Philipp Lahm     Bayern München   \n",
       "48390  bastian-schweinsteiger  Bastian Schweinsteiger     Bayern München   \n",
       "54811            paul-scholes            Paul Scholes  Manchester United   \n",
       "97628           frank-lampard           Frank Lampard         Chelsea FC   \n",
       "59844         michael-carrick         Michael Carrick  Manchester United   \n",
       "\n",
       "      leagueCountry   birthday  height  weight              position  games  \\\n",
       "48893       Germany 1983-11-11   170.0    66.0         Left Fullback     47   \n",
       "48390       Germany 1984-01-08   183.0    79.0  Defensive Midfielder     46   \n",
       "54811       England 1974-11-16   170.0    72.0     Center Midfielder     44   \n",
       "97628       England 1978-06-20   183.0    77.0     Center Midfielder     44   \n",
       "59844       England 1981-07-28   186.0    74.0     Center Midfielder     42   \n",
       "\n",
       "       victories    ...     rater2  refNum  refCountry  Alpha_3   meanIAT  \\\n",
       "48893         29    ...       0.25     933           8      DEU  0.336628   \n",
       "48390         28    ...       0.25     933           8      DEU  0.336628   \n",
       "54811         28    ...       0.00    1095          44     ENGL  0.326690   \n",
       "97628         29    ...       0.25    2080          44     ENGL  0.326690   \n",
       "59844         24    ...       0.00    1214          44     ENGL  0.326690   \n",
       "\n",
       "          nIAT     seIAT   meanExp     nExp     seExp  \n",
       "48893   7749.0  0.000055  0.335967   7974.0  0.000225  \n",
       "48390   7749.0  0.000055  0.335967   7974.0  0.000225  \n",
       "54811  44791.0  0.000010  0.356446  46916.0  0.000037  \n",
       "97628  44791.0  0.000010  0.356446  46916.0  0.000037  \n",
       "59844  44791.0  0.000010  0.356446  46916.0  0.000037  \n",
       "\n",
       "[5 rows x 28 columns]"
      ]
     },
     "execution_count": 3,
     "metadata": {},
     "output_type": "execute_result"
    }
   ],
   "source": [
    "df.sort_values('games', ascending=False)[:5]"
   ]
  },
  {
   "cell_type": "markdown",
   "metadata": {},
   "source": [
    "## Cleaning the data\n",
    "\n",
    "As is described in the recommended reading, all games for each player are included.\n",
    "This is evident in the 47 games Philipp Lahm played under a single referee — a feat that could not be archieved in the Bundesliga, which has less games per team per season.\n",
    "\n",
    "This results in a lot of noise.\n",
    "As done in the recommended reading, we therefore remove all dyads (player-referee pairs) for referees that do not have connections to at least 22 players, the minimum for a single game."
   ]
  },
  {
   "cell_type": "code",
   "execution_count": 4,
   "metadata": {
    "collapsed": false
   },
   "outputs": [],
   "source": [
    "df_ref_group_sizes = df.groupby('refNum').size()\n",
    "# Referees that have at least 22 associated players\n",
    "good_df_refs = df_ref_group_sizes[df_ref_group_sizes >= 22]\n",
    "\n",
    "df = df[df['refNum'].isin(good_df_refs.index.values)]"
   ]
  },
  {
   "cell_type": "markdown",
   "metadata": {},
   "source": [
    "Just to be sure, verify that the new minimum is actually 22:"
   ]
  },
  {
   "cell_type": "code",
   "execution_count": 5,
   "metadata": {
    "collapsed": false,
    "scrolled": false
   },
   "outputs": [
    {
     "data": {
      "text/plain": [
       "22"
      ]
     },
     "execution_count": 5,
     "metadata": {},
     "output_type": "execute_result"
    }
   ],
   "source": [
    "df.groupby('refNum').size().min()"
   ]
  },
  {
   "cell_type": "markdown",
   "metadata": {},
   "source": [
    "The classifier only supports dealing with numbers, so we convert the birthdate to an int:"
   ]
  },
  {
   "cell_type": "code",
   "execution_count": 6,
   "metadata": {
    "collapsed": false
   },
   "outputs": [
    {
     "data": {
      "text/plain": [
       "63695     475632000000000000\n",
       "46759     498960000000000000\n",
       "59012     506044800000000000\n",
       "130322    439948800000000000\n",
       "1198      302745600000000000\n",
       "Name: birthday, dtype: int64"
      ]
     },
     "execution_count": 6,
     "metadata": {},
     "output_type": "execute_result"
    }
   ],
   "source": [
    "df['birthday'] = df['birthday'].astype('int64')\n",
    "\n",
    "df['birthday'].sample(5)"
   ]
  },
  {
   "cell_type": "markdown",
   "metadata": {},
   "source": [
    "Let's check whether one of the two raters has a tendency to rate lower than the other:"
   ]
  },
  {
   "cell_type": "code",
   "execution_count": 7,
   "metadata": {
    "collapsed": false,
    "scrolled": true
   },
   "outputs": [
    {
     "data": {
      "text/plain": [
       "0.05836231578577576"
      ]
     },
     "execution_count": 7,
     "metadata": {},
     "output_type": "execute_result"
    }
   ],
   "source": [
    "rating_differences = (df['rater2'] - df['rater1']).abs()\n",
    "\n",
    "rating_differences.mean()"
   ]
  },
  {
   "cell_type": "markdown",
   "metadata": {},
   "source": [
    "With a fifth of a step, this does not seem substantial.\n",
    "Let's check how often they actually disagree substantially (using half of the available scale):"
   ]
  },
  {
   "cell_type": "code",
   "execution_count": 8,
   "metadata": {
    "collapsed": false
   },
   "outputs": [
    {
     "data": {
      "text/plain": [
       "163"
      ]
     },
     "execution_count": 8,
     "metadata": {},
     "output_type": "execute_result"
    }
   ],
   "source": [
    "rating_differences[rating_differences >= .5].count()"
   ]
  },
  {
   "cell_type": "markdown",
   "metadata": {},
   "source": [
    "Given the small count, we should be fine with ignoring them.\n",
    "\n",
    "Next, we create a new column that merges the two skin tone ratings."
   ]
  },
  {
   "cell_type": "code",
   "execution_count": 9,
   "metadata": {
    "collapsed": false
   },
   "outputs": [
    {
     "data": {
      "text/html": [
       "<div>\n",
       "<table border=\"1\" class=\"dataframe\">\n",
       "  <thead>\n",
       "    <tr style=\"text-align: right;\">\n",
       "      <th></th>\n",
       "      <th>playerShort</th>\n",
       "      <th>player</th>\n",
       "      <th>club</th>\n",
       "      <th>leagueCountry</th>\n",
       "      <th>birthday</th>\n",
       "      <th>height</th>\n",
       "      <th>weight</th>\n",
       "      <th>position</th>\n",
       "      <th>games</th>\n",
       "      <th>victories</th>\n",
       "      <th>...</th>\n",
       "      <th>refNum</th>\n",
       "      <th>refCountry</th>\n",
       "      <th>Alpha_3</th>\n",
       "      <th>meanIAT</th>\n",
       "      <th>nIAT</th>\n",
       "      <th>seIAT</th>\n",
       "      <th>meanExp</th>\n",
       "      <th>nExp</th>\n",
       "      <th>seExp</th>\n",
       "      <th>skinRating</th>\n",
       "    </tr>\n",
       "  </thead>\n",
       "  <tbody>\n",
       "    <tr>\n",
       "      <th>1549</th>\n",
       "      <td>billy-jones</td>\n",
       "      <td>Billy Jones</td>\n",
       "      <td>West Bromwich Albion</td>\n",
       "      <td>England</td>\n",
       "      <td>543542400000000000</td>\n",
       "      <td>180.0</td>\n",
       "      <td>83.0</td>\n",
       "      <td>Left Fullback</td>\n",
       "      <td>3</td>\n",
       "      <td>2</td>\n",
       "      <td>...</td>\n",
       "      <td>71</td>\n",
       "      <td>44</td>\n",
       "      <td>ENGL</td>\n",
       "      <td>0.326690</td>\n",
       "      <td>44791.0</td>\n",
       "      <td>0.000010</td>\n",
       "      <td>0.356446</td>\n",
       "      <td>46916.0</td>\n",
       "      <td>0.000037</td>\n",
       "      <td>NaN</td>\n",
       "    </tr>\n",
       "    <tr>\n",
       "      <th>74731</th>\n",
       "      <td>steed-malbranque</td>\n",
       "      <td>Steed Malbranque</td>\n",
       "      <td>Olympique Lyon</td>\n",
       "      <td>France</td>\n",
       "      <td>328665600000000000</td>\n",
       "      <td>173.0</td>\n",
       "      <td>72.0</td>\n",
       "      <td>Attacking Midfielder</td>\n",
       "      <td>6</td>\n",
       "      <td>2</td>\n",
       "      <td>...</td>\n",
       "      <td>1627</td>\n",
       "      <td>44</td>\n",
       "      <td>ENGL</td>\n",
       "      <td>0.326690</td>\n",
       "      <td>44791.0</td>\n",
       "      <td>0.000010</td>\n",
       "      <td>0.356446</td>\n",
       "      <td>46916.0</td>\n",
       "      <td>0.000037</td>\n",
       "      <td>0.250</td>\n",
       "    </tr>\n",
       "    <tr>\n",
       "      <th>127963</th>\n",
       "      <td>stelios-malezas</td>\n",
       "      <td>Stelios Malezas</td>\n",
       "      <td>Fortuna Düsseldorf</td>\n",
       "      <td>Germany</td>\n",
       "      <td>499824000000000000</td>\n",
       "      <td>192.0</td>\n",
       "      <td>80.0</td>\n",
       "      <td>Center Back</td>\n",
       "      <td>7</td>\n",
       "      <td>5</td>\n",
       "      <td>...</td>\n",
       "      <td>2747</td>\n",
       "      <td>1</td>\n",
       "      <td>GRC</td>\n",
       "      <td>0.326391</td>\n",
       "      <td>712.0</td>\n",
       "      <td>0.000564</td>\n",
       "      <td>0.396000</td>\n",
       "      <td>750.0</td>\n",
       "      <td>0.002696</td>\n",
       "      <td>0.250</td>\n",
       "    </tr>\n",
       "    <tr>\n",
       "      <th>127015</th>\n",
       "      <td>miranda_2</td>\n",
       "      <td>Miranda</td>\n",
       "      <td>Atlético Madrid</td>\n",
       "      <td>Spain</td>\n",
       "      <td>458179200000000000</td>\n",
       "      <td>186.0</td>\n",
       "      <td>76.0</td>\n",
       "      <td>Center Back</td>\n",
       "      <td>8</td>\n",
       "      <td>4</td>\n",
       "      <td>...</td>\n",
       "      <td>2700</td>\n",
       "      <td>49</td>\n",
       "      <td>ARG</td>\n",
       "      <td>0.379422</td>\n",
       "      <td>1038.0</td>\n",
       "      <td>0.000403</td>\n",
       "      <td>0.632988</td>\n",
       "      <td>1158.0</td>\n",
       "      <td>0.002096</td>\n",
       "      <td>0.500</td>\n",
       "    </tr>\n",
       "    <tr>\n",
       "      <th>57575</th>\n",
       "      <td>manuel-pablo</td>\n",
       "      <td>Manuel Pablo</td>\n",
       "      <td>Deportivo La Coruña</td>\n",
       "      <td>Spain</td>\n",
       "      <td>191376000000000000</td>\n",
       "      <td>176.0</td>\n",
       "      <td>80.0</td>\n",
       "      <td>Right Fullback</td>\n",
       "      <td>1</td>\n",
       "      <td>1</td>\n",
       "      <td>...</td>\n",
       "      <td>1159</td>\n",
       "      <td>8</td>\n",
       "      <td>DEU</td>\n",
       "      <td>0.336628</td>\n",
       "      <td>7749.0</td>\n",
       "      <td>0.000055</td>\n",
       "      <td>0.335967</td>\n",
       "      <td>7974.0</td>\n",
       "      <td>0.000225</td>\n",
       "      <td>0.375</td>\n",
       "    </tr>\n",
       "  </tbody>\n",
       "</table>\n",
       "<p>5 rows × 29 columns</p>\n",
       "</div>"
      ],
      "text/plain": [
       "             playerShort            player                  club  \\\n",
       "1549         billy-jones       Billy Jones  West Bromwich Albion   \n",
       "74731   steed-malbranque  Steed Malbranque        Olympique Lyon   \n",
       "127963   stelios-malezas   Stelios Malezas    Fortuna Düsseldorf   \n",
       "127015         miranda_2           Miranda       Atlético Madrid   \n",
       "57575       manuel-pablo      Manuel Pablo   Deportivo La Coruña   \n",
       "\n",
       "       leagueCountry            birthday  height  weight  \\\n",
       "1549         England  543542400000000000   180.0    83.0   \n",
       "74731         France  328665600000000000   173.0    72.0   \n",
       "127963       Germany  499824000000000000   192.0    80.0   \n",
       "127015         Spain  458179200000000000   186.0    76.0   \n",
       "57575          Spain  191376000000000000   176.0    80.0   \n",
       "\n",
       "                    position  games  victories     ...      refNum  \\\n",
       "1549           Left Fullback      3          2     ...          71   \n",
       "74731   Attacking Midfielder      6          2     ...        1627   \n",
       "127963           Center Back      7          5     ...        2747   \n",
       "127015           Center Back      8          4     ...        2700   \n",
       "57575         Right Fullback      1          1     ...        1159   \n",
       "\n",
       "        refCountry  Alpha_3   meanIAT     nIAT     seIAT   meanExp     nExp  \\\n",
       "1549            44     ENGL  0.326690  44791.0  0.000010  0.356446  46916.0   \n",
       "74731           44     ENGL  0.326690  44791.0  0.000010  0.356446  46916.0   \n",
       "127963           1      GRC  0.326391    712.0  0.000564  0.396000    750.0   \n",
       "127015          49      ARG  0.379422   1038.0  0.000403  0.632988   1158.0   \n",
       "57575            8      DEU  0.336628   7749.0  0.000055  0.335967   7974.0   \n",
       "\n",
       "           seExp  skinRating  \n",
       "1549    0.000037         NaN  \n",
       "74731   0.000037       0.250  \n",
       "127963  0.002696       0.250  \n",
       "127015  0.002096       0.500  \n",
       "57575   0.000225       0.375  \n",
       "\n",
       "[5 rows x 29 columns]"
      ]
     },
     "execution_count": 9,
     "metadata": {},
     "output_type": "execute_result"
    }
   ],
   "source": [
    "df['skinRating'] = (df['rater1'] + df['rater2']) / 2\n",
    "\n",
    "df.sample(5)"
   ]
  },
  {
   "cell_type": "markdown",
   "metadata": {},
   "source": [
    "At this point, we do not remove further values.\n",
    "The intuition is that even missing values might have a relation to the skin color."
   ]
  },
  {
   "cell_type": "markdown",
   "metadata": {},
   "source": [
    "## Task 1\n",
    "\n",
    "> Train a `sklearn.ensemble.RandomForestClassifier` that given a soccer player description outputs his skin color. Show how different parameters \n",
    "passed to the Classifier affect the overfitting issue. Perform cross-validation to mitigate the overfitting of your model. Once you assessed your model,\n",
    "inspect the `feature_importances_` attribute and discuss the obtained results. With different assumptions on the data (e.g., dropping certain features even\n",
    "before feeding them to the classifier), can you obtain a substantially different `feature_importances_` attribute?"
   ]
  },
  {
   "cell_type": "markdown",
   "metadata": {},
   "source": [
    "#### From dyads to player stats\n",
    "\n",
    "First, we need to get per-player stats from the dyads.\n",
    "We do this by aggregating all statistics.\n",
    "\n",
    "To know what we're dealing with, we print a list of all data types:"
   ]
  },
  {
   "cell_type": "code",
   "execution_count": 10,
   "metadata": {
    "collapsed": false,
    "scrolled": true
   },
   "outputs": [
    {
     "data": {
      "text/plain": [
       "playerShort       object\n",
       "player            object\n",
       "club              object\n",
       "leagueCountry     object\n",
       "birthday           int64\n",
       "height           float64\n",
       "weight           float64\n",
       "position          object\n",
       "games              int64\n",
       "victories          int64\n",
       "ties               int64\n",
       "defeats            int64\n",
       "goals              int64\n",
       "yellowCards        int64\n",
       "yellowReds         int64\n",
       "redCards           int64\n",
       "photoID           object\n",
       "rater1           float64\n",
       "rater2           float64\n",
       "refNum             int64\n",
       "refCountry         int64\n",
       "Alpha_3           object\n",
       "meanIAT          float64\n",
       "nIAT             float64\n",
       "seIAT            float64\n",
       "meanExp          float64\n",
       "nExp             float64\n",
       "seExp            float64\n",
       "skinRating       float64\n",
       "dtype: object"
      ]
     },
     "execution_count": 10,
     "metadata": {},
     "output_type": "execute_result"
    }
   ],
   "source": [
    "df.dtypes"
   ]
  },
  {
   "cell_type": "markdown",
   "metadata": {},
   "source": [
    "Based on this, we aggregate stats for all players:"
   ]
  },
  {
   "cell_type": "code",
   "execution_count": 11,
   "metadata": {
    "collapsed": false
   },
   "outputs": [
    {
     "data": {
      "text/html": [
       "<div>\n",
       "<table border=\"1\" class=\"dataframe\">\n",
       "  <thead>\n",
       "    <tr style=\"text-align: right;\">\n",
       "      <th></th>\n",
       "      <th>victories</th>\n",
       "      <th>height</th>\n",
       "      <th>defeats</th>\n",
       "      <th>games</th>\n",
       "      <th>birthday</th>\n",
       "      <th>weight</th>\n",
       "      <th>skinRating</th>\n",
       "      <th>ties</th>\n",
       "      <th>nExp</th>\n",
       "      <th>yellowReds</th>\n",
       "      <th>...</th>\n",
       "      <th>seExp</th>\n",
       "      <th>yellowCards</th>\n",
       "      <th>seIAT</th>\n",
       "      <th>meanIAT</th>\n",
       "      <th>meanExp</th>\n",
       "      <th>club</th>\n",
       "      <th>leagueCountry</th>\n",
       "      <th>nIAT</th>\n",
       "      <th>goals</th>\n",
       "      <th>redCards</th>\n",
       "    </tr>\n",
       "    <tr>\n",
       "      <th>playerShort</th>\n",
       "      <th></th>\n",
       "      <th></th>\n",
       "      <th></th>\n",
       "      <th></th>\n",
       "      <th></th>\n",
       "      <th></th>\n",
       "      <th></th>\n",
       "      <th></th>\n",
       "      <th></th>\n",
       "      <th></th>\n",
       "      <th></th>\n",
       "      <th></th>\n",
       "      <th></th>\n",
       "      <th></th>\n",
       "      <th></th>\n",
       "      <th></th>\n",
       "      <th></th>\n",
       "      <th></th>\n",
       "      <th></th>\n",
       "      <th></th>\n",
       "      <th></th>\n",
       "    </tr>\n",
       "  </thead>\n",
       "  <tbody>\n",
       "    <tr>\n",
       "      <th>junior-diaz</th>\n",
       "      <td>69</td>\n",
       "      <td>185.0</td>\n",
       "      <td>53</td>\n",
       "      <td>159</td>\n",
       "      <td>439776000000000000</td>\n",
       "      <td>76.0</td>\n",
       "      <td>0.625</td>\n",
       "      <td>37</td>\n",
       "      <td>123628.658824</td>\n",
       "      <td>1</td>\n",
       "      <td>...</td>\n",
       "      <td>0.003313</td>\n",
       "      <td>23</td>\n",
       "      <td>0.000676</td>\n",
       "      <td>0.350249</td>\n",
       "      <td>0.493104</td>\n",
       "      <td>1. FSV Mainz 05</td>\n",
       "      <td>Germany</td>\n",
       "      <td>120318.223529</td>\n",
       "      <td>8</td>\n",
       "      <td>1</td>\n",
       "    </tr>\n",
       "    <tr>\n",
       "      <th>laurent-koscielny</th>\n",
       "      <td>135</td>\n",
       "      <td>185.0</td>\n",
       "      <td>60</td>\n",
       "      <td>247</td>\n",
       "      <td>497664000000000000</td>\n",
       "      <td>75.0</td>\n",
       "      <td>0.000</td>\n",
       "      <td>52</td>\n",
       "      <td>14643.474359</td>\n",
       "      <td>2</td>\n",
       "      <td>...</td>\n",
       "      <td>0.001819</td>\n",
       "      <td>36</td>\n",
       "      <td>0.000374</td>\n",
       "      <td>0.339930</td>\n",
       "      <td>0.397591</td>\n",
       "      <td>Arsenal FC</td>\n",
       "      <td>England</td>\n",
       "      <td>13984.461538</td>\n",
       "      <td>20</td>\n",
       "      <td>3</td>\n",
       "    </tr>\n",
       "    <tr>\n",
       "      <th>iraizoz</th>\n",
       "      <td>134</td>\n",
       "      <td>191.0</td>\n",
       "      <td>115</td>\n",
       "      <td>321</td>\n",
       "      <td>360374400000000000</td>\n",
       "      <td>81.0</td>\n",
       "      <td>0.000</td>\n",
       "      <td>72</td>\n",
       "      <td>4909.285714</td>\n",
       "      <td>0</td>\n",
       "      <td>...</td>\n",
       "      <td>0.001853</td>\n",
       "      <td>21</td>\n",
       "      <td>0.000388</td>\n",
       "      <td>0.364927</td>\n",
       "      <td>0.581892</td>\n",
       "      <td>Athletic Bilbao</td>\n",
       "      <td>Spain</td>\n",
       "      <td>4682.071429</td>\n",
       "      <td>0</td>\n",
       "      <td>0</td>\n",
       "    </tr>\n",
       "    <tr>\n",
       "      <th>chris-herd</th>\n",
       "      <td>16</td>\n",
       "      <td>173.0</td>\n",
       "      <td>28</td>\n",
       "      <td>64</td>\n",
       "      <td>607651200000000000</td>\n",
       "      <td>71.0</td>\n",
       "      <td>NaN</td>\n",
       "      <td>20</td>\n",
       "      <td>45745.447368</td>\n",
       "      <td>0</td>\n",
       "      <td>...</td>\n",
       "      <td>0.000059</td>\n",
       "      <td>13</td>\n",
       "      <td>0.000014</td>\n",
       "      <td>0.327763</td>\n",
       "      <td>0.363503</td>\n",
       "      <td>Aston Villa</td>\n",
       "      <td>England</td>\n",
       "      <td>43673.526316</td>\n",
       "      <td>6</td>\n",
       "      <td>1</td>\n",
       "    </tr>\n",
       "    <tr>\n",
       "      <th>matthew-jarvis</th>\n",
       "      <td>84</td>\n",
       "      <td>173.0</td>\n",
       "      <td>135</td>\n",
       "      <td>290</td>\n",
       "      <td>517104000000000000</td>\n",
       "      <td>70.0</td>\n",
       "      <td>NaN</td>\n",
       "      <td>71</td>\n",
       "      <td>46215.636364</td>\n",
       "      <td>0</td>\n",
       "      <td>...</td>\n",
       "      <td>0.000077</td>\n",
       "      <td>7</td>\n",
       "      <td>0.000019</td>\n",
       "      <td>0.327114</td>\n",
       "      <td>0.353804</td>\n",
       "      <td>West Ham United</td>\n",
       "      <td>England</td>\n",
       "      <td>44122.287879</td>\n",
       "      <td>31</td>\n",
       "      <td>0</td>\n",
       "    </tr>\n",
       "  </tbody>\n",
       "</table>\n",
       "<p>5 rows × 21 columns</p>\n",
       "</div>"
      ],
      "text/plain": [
       "                   victories  height  defeats  games            birthday  \\\n",
       "playerShort                                                                \n",
       "junior-diaz               69   185.0       53    159  439776000000000000   \n",
       "laurent-koscielny        135   185.0       60    247  497664000000000000   \n",
       "iraizoz                  134   191.0      115    321  360374400000000000   \n",
       "chris-herd                16   173.0       28     64  607651200000000000   \n",
       "matthew-jarvis            84   173.0      135    290  517104000000000000   \n",
       "\n",
       "                   weight  skinRating  ties           nExp  yellowReds  \\\n",
       "playerShort                                                              \n",
       "junior-diaz          76.0       0.625    37  123628.658824           1   \n",
       "laurent-koscielny    75.0       0.000    52   14643.474359           2   \n",
       "iraizoz              81.0       0.000    72    4909.285714           0   \n",
       "chris-herd           71.0         NaN    20   45745.447368           0   \n",
       "matthew-jarvis       70.0         NaN    71   46215.636364           0   \n",
       "\n",
       "                     ...        seExp  yellowCards     seIAT   meanIAT  \\\n",
       "playerShort          ...                                                 \n",
       "junior-diaz          ...     0.003313           23  0.000676  0.350249   \n",
       "laurent-koscielny    ...     0.001819           36  0.000374  0.339930   \n",
       "iraizoz              ...     0.001853           21  0.000388  0.364927   \n",
       "chris-herd           ...     0.000059           13  0.000014  0.327763   \n",
       "matthew-jarvis       ...     0.000077            7  0.000019  0.327114   \n",
       "\n",
       "                    meanExp             club leagueCountry           nIAT  \\\n",
       "playerShort                                                                 \n",
       "junior-diaz        0.493104  1. FSV Mainz 05       Germany  120318.223529   \n",
       "laurent-koscielny  0.397591       Arsenal FC       England   13984.461538   \n",
       "iraizoz            0.581892  Athletic Bilbao         Spain    4682.071429   \n",
       "chris-herd         0.363503      Aston Villa       England   43673.526316   \n",
       "matthew-jarvis     0.353804  West Ham United       England   44122.287879   \n",
       "\n",
       "                   goals  redCards  \n",
       "playerShort                         \n",
       "junior-diaz            8         1  \n",
       "laurent-koscielny     20         3  \n",
       "iraizoz                0         0  \n",
       "chris-herd             6         1  \n",
       "matthew-jarvis        31         0  \n",
       "\n",
       "[5 rows x 21 columns]"
      ]
     },
     "execution_count": 11,
     "metadata": {},
     "output_type": "execute_result"
    }
   ],
   "source": [
    "def most_common(val):\n",
    "    val_counts = val.value_counts()\n",
    "    if val_counts.size > 0:\n",
    "        return val_counts.keys()[0]\n",
    "\n",
    "player_df = df.groupby('playerShort').agg({\n",
    "    'club': most_common,\n",
    "    'leagueCountry': most_common,\n",
    "    'position': most_common,\n",
    "        \n",
    "    'birthday': 'max', # Use the highest age\n",
    "\n",
    "    'height': 'mean',\n",
    "    'weight': 'mean',\n",
    "    'meanIAT': 'mean',\n",
    "    'nIAT': 'mean',\n",
    "    'seIAT': 'mean',\n",
    "    'meanExp': 'mean',\n",
    "    'nExp': 'mean',\n",
    "    'seExp': 'mean',\n",
    "    'skinRating': 'mean',\n",
    "        \n",
    "    'games': 'sum',\n",
    "    'victories': 'sum',\n",
    "    'ties': 'sum',\n",
    "    'defeats': 'sum',\n",
    "    'goals': 'sum',\n",
    "    'yellowCards': 'sum',\n",
    "    'yellowReds': 'sum',\n",
    "    'redCards': 'sum',\n",
    "})\n",
    "\n",
    "player_df.reset_index() # get the df back from groupby\n",
    "\n",
    "player_df.sample(5)"
   ]
  },
  {
   "cell_type": "markdown",
   "metadata": {},
   "source": [
    "`sklearn` chokes on undefined values.\n",
    "Therefore, we first remove all players without a `skinRating`, as they cannot be classified."
   ]
  },
  {
   "cell_type": "code",
   "execution_count": 12,
   "metadata": {
    "collapsed": false
   },
   "outputs": [
    {
     "name": "stdout",
     "output_type": "stream",
     "text": [
      "Dropping 466/2050 players\n"
     ]
    },
    {
     "data": {
      "text/plain": [
       "1584"
      ]
     },
     "execution_count": 12,
     "metadata": {},
     "output_type": "execute_result"
    }
   ],
   "source": [
    "total_player_number = player_df['skinRating'].size\n",
    "ratingless_player_count = total_player_number - player_df['skinRating'].count()\n",
    "print('Dropping ' + str(ratingless_player_count) + '/' + str(total_player_number) + ' players')\n",
    "\n",
    "player_df.dropna(subset=['skinRating'], inplace=True)\n",
    "\n",
    "player_df['skinRating'].size # display remaining to ensure it succeeded"
   ]
  },
  {
   "cell_type": "markdown",
   "metadata": {},
   "source": [
    "For the other values, let's fill them in with something unique, so these values can be classified properly.\n",
    "We once again do not remove them as a missing value might represent a bias in the data gathering.\n",
    "\n",
    "First, we display property counts.\n",
    "Properties with lower counts have missing values.\n",
    "As we have already filtered out players without a `skinRating`, we use that number as a baseline."
   ]
  },
  {
   "cell_type": "code",
   "execution_count": 13,
   "metadata": {
    "collapsed": false
   },
   "outputs": [
    {
     "data": {
      "text/plain": [
       "victories          0\n",
       "height            -3\n",
       "defeats            0\n",
       "games              0\n",
       "birthday           0\n",
       "weight           -21\n",
       "skinRating         0\n",
       "ties               0\n",
       "nExp               0\n",
       "yellowReds         0\n",
       "position        -152\n",
       "seExp              0\n",
       "yellowCards        0\n",
       "seIAT              0\n",
       "meanIAT            0\n",
       "meanExp            0\n",
       "club               0\n",
       "leagueCountry      0\n",
       "nIAT               0\n",
       "goals              0\n",
       "redCards           0\n",
       "dtype: int64"
      ]
     },
     "execution_count": 13,
     "metadata": {},
     "output_type": "execute_result"
    }
   ],
   "source": [
    "player_df.count() - player_df['skinRating'].count()"
   ]
  },
  {
   "cell_type": "markdown",
   "metadata": {},
   "source": [
    "Only `position`, `weight` and `height` have missing entries.\n",
    "As before, perhaps missing values have a significance, so let's fill them in with something unique."
   ]
  },
  {
   "cell_type": "code",
   "execution_count": 14,
   "metadata": {
    "collapsed": false
   },
   "outputs": [
    {
     "data": {
      "text/plain": [
       "1584"
      ]
     },
     "execution_count": 14,
     "metadata": {},
     "output_type": "execute_result"
    }
   ],
   "source": [
    "player_df['position'].fillna('missing', inplace=True)\n",
    "player_df['position'].count()"
   ]
  },
  {
   "cell_type": "code",
   "execution_count": 15,
   "metadata": {
    "collapsed": false
   },
   "outputs": [
    {
     "data": {
      "text/plain": [
       "victories        0\n",
       "height           0\n",
       "defeats          0\n",
       "games            0\n",
       "birthday         0\n",
       "weight           0\n",
       "skinRating       0\n",
       "ties             0\n",
       "nExp             0\n",
       "yellowReds       0\n",
       "position         0\n",
       "seExp            0\n",
       "yellowCards      0\n",
       "seIAT            0\n",
       "meanIAT          0\n",
       "meanExp          0\n",
       "club             0\n",
       "leagueCountry    0\n",
       "nIAT             0\n",
       "goals            0\n",
       "redCards         0\n",
       "dtype: int64"
      ]
     },
     "execution_count": 15,
     "metadata": {},
     "output_type": "execute_result"
    }
   ],
   "source": [
    "# Neither weight nor height can be 0 under ordinary circumstances\n",
    "\n",
    "player_df.fillna(0, inplace=True)\n",
    "player_df.count() - player_df['skinRating'].count()"
   ]
  },
  {
   "cell_type": "markdown",
   "metadata": {},
   "source": [
    "All cleaned up, so let's get to the interesting part:"
   ]
  },
  {
   "cell_type": "markdown",
   "metadata": {},
   "source": [
    "__Note:__ The following is largely based on the [ensemble](http://scikit-learn.org/stable/modules/ensemble.html#forest) and [cross-validation guides](http://scikit-learn.org/stable/modules/cross_validation.html) from `scikit-learn`."
   ]
  },
  {
   "cell_type": "markdown",
   "metadata": {
    "collapsed": false
   },
   "source": [
    "#### Preparing & split the test set\n",
    "\n",
    "First, we have to convert string values to numbers to make them accessible to the classifier.\n",
    "We are using dummies for that:"
   ]
  },
  {
   "cell_type": "code",
   "execution_count": 16,
   "metadata": {
    "collapsed": true
   },
   "outputs": [],
   "source": [
    "player_df_dummies = pd.get_dummies(player_df)"
   ]
  },
  {
   "cell_type": "markdown",
   "metadata": {},
   "source": [
    "Next, we split the players to two sets, one for training, one for testing.\n",
    "We use 2/5 of the dataset for testing."
   ]
  },
  {
   "cell_type": "code",
   "execution_count": 17,
   "metadata": {
    "collapsed": false
   },
   "outputs": [],
   "source": [
    "from sklearn.preprocessing import LabelEncoder\n",
    "from sklearn.model_selection import train_test_split # Needed for cross-validation\n",
    "\n",
    "X = player_df_dummies.copy()\n",
    "X.drop('skinRating', inplace=True, axis=1)\n",
    "\n",
    "Y = LabelEncoder().fit_transform(player_df['skinRating'])\n",
    "\n",
    "X_train, X_test, y_train, y_test = train_test_split(X, Y, test_size=.4, random_state=0)"
   ]
  },
  {
   "cell_type": "markdown",
   "metadata": {},
   "source": [
    "All set, so let's use the classifier (with default parameters):"
   ]
  },
  {
   "cell_type": "code",
   "execution_count": 18,
   "metadata": {
    "collapsed": false
   },
   "outputs": [],
   "source": [
    "from sklearn.ensemble import RandomForestClassifier\n",
    "\n",
    "def get_classifier(X_train, y_train, n_estimators=None, max_depth=None):\n",
    "    classifier = RandomForestClassifier()\n",
    "    return classifier.fit(X_train, y_train)\n",
    "\n",
    "first_classifier = get_classifier(X_train, y_train)"
   ]
  },
  {
   "cell_type": "markdown",
   "metadata": {},
   "source": [
    "#### How well does the model perform?\n",
    "\n"
   ]
  },
  {
   "cell_type": "code",
   "execution_count": 19,
   "metadata": {
    "collapsed": false
   },
   "outputs": [
    {
     "name": "stderr",
     "output_type": "stream",
     "text": [
      "sklearn/metrics/classification.py:1113: UndefinedMetricWarning: F-score is ill-defined and being set to 0.0 in labels with no predicted samples.\n",
      "  'precision', 'predicted', average, warn_for)\n",
      "sklearn/metrics/classification.py:1113: UndefinedMetricWarning: F-score is ill-defined and being set to 0.0 in labels with no predicted samples.\n",
      "  'precision', 'predicted', average, warn_for)\n"
     ]
    },
    {
     "data": {
      "text/plain": [
       "'Accuracy score is 0.249356324909, the F1-score is 0.119198875855'"
      ]
     },
     "execution_count": 19,
     "metadata": {},
     "output_type": "execute_result"
    }
   ],
   "source": [
    "from sklearn.model_selection import cross_val_score\n",
    "\n",
    "def get_cross_val_scores(classifier, X_test, y_test, cv=20):\n",
    "    f1_score = np.mean(cross_val_score(classifier, X_test, y_test, scoring='f1_macro', cv=cv))\n",
    "    accuracy = np.mean(cross_val_score(classifier, X_test, y_test, scoring='accuracy', cv=cv))\n",
    "    \n",
    "    return (f1_score, accuracy)\n",
    "\n",
    "f1_score, accuracy = get_cross_val_scores(first_classifier, X_test, y_test, cv=3)\n",
    "\n",
    "'Accuracy score is ' + str(accuracy) + ', the F1-score is ' + str(f1_score)"
   ]
  },
  {
   "cell_type": "markdown",
   "metadata": {},
   "source": [
    "Interesting enough, some outcomes seem to be impossible to predict (see the warning).\n",
    "Also, both our accuracy and our F1-score are abysmal, we should improve upon that.\n",
    "\n",
    "Consequently, we simplify the problem:\n",
    "From now on, we only distinguish between light and dark skin."
   ]
  },
  {
   "cell_type": "code",
   "execution_count": 20,
   "metadata": {
    "collapsed": false
   },
   "outputs": [
    {
     "data": {
      "text/plain": [
       "playerShort\n",
       "doni                 False\n",
       "slobodan-rajkovic    False\n",
       "diego-perotti        False\n",
       "ezequiel_3           False\n",
       "dorado_2             False\n",
       "Name: skinRating, dtype: bool"
      ]
     },
     "execution_count": 20,
     "metadata": {},
     "output_type": "execute_result"
    }
   ],
   "source": [
    "skin_ratings = player_df['skinRating'].map(lambda x: x > .5)\n",
    "skin_ratings.sample(5)"
   ]
  },
  {
   "cell_type": "markdown",
   "metadata": {},
   "source": [
    "What is actually the distribution of our values?\n",
    "With `True` signifying dark-skinned players:"
   ]
  },
  {
   "cell_type": "code",
   "execution_count": 21,
   "metadata": {
    "collapsed": false
   },
   "outputs": [
    {
     "data": {
      "text/plain": [
       "<matplotlib.axes._subplots.AxesSubplot at 0x118711e80>"
      ]
     },
     "execution_count": 21,
     "metadata": {},
     "output_type": "execute_result"
    },
    {
     "data": {
      "image/png": "[encoded data removed]",
      "text/plain": [
       "<matplotlib.figure.Figure at 0x1186ce0f0>"
      ]
     },
     "metadata": {},
     "output_type": "display_data"
    }
   ],
   "source": [
    "skin_ratings.value_counts().plot.pie()"
   ]
  },
  {
   "cell_type": "markdown",
   "metadata": {},
   "source": [
    "As a percentage (using implicit casts from booleans to integers):"
   ]
  },
  {
   "cell_type": "code",
   "execution_count": 24,
   "metadata": {
    "collapsed": false
   },
   "outputs": [
    {
     "data": {
      "text/plain": [
       "0.83017676767676774"
      ]
     },
     "execution_count": 24,
     "metadata": {},
     "output_type": "execute_result"
    }
   ],
   "source": [
    "1 - skin_ratings.sum() / skin_ratings.size"
   ]
  },
  {
   "cell_type": "markdown",
   "metadata": {},
   "source": [
    "So whatever result we archieve has to better than this, otherwise always returning `False` (for light-skinned) would outperform our result."
   ]
  },
  {
   "cell_type": "code",
   "execution_count": 25,
   "metadata": {
    "collapsed": false
   },
   "outputs": [
    {
     "data": {
      "text/plain": [
       "'Accuracy score is 0.833278347996, the F1-score is 0.594907085914'"
      ]
     },
     "execution_count": 25,
     "metadata": {},
     "output_type": "execute_result"
    }
   ],
   "source": [
    "Y = LabelEncoder().fit_transform(skin_ratings)\n",
    "\n",
    "X_train, X_test, y_train, y_test = train_test_split(X, Y, test_size=.4, random_state=0)\n",
    "\n",
    "classifier = get_classifier(X_train, y_train)\n",
    "\n",
    "f1_score, accuracy = get_cross_val_scores(classifier, X_test, y_test)\n",
    "\n",
    "'Accuracy score is ' + str(accuracy) + ', the F1-score is ' + str(f1_score)"
   ]
  },
  {
   "cell_type": "markdown",
   "metadata": {},
   "source": [
    "That looks much better, although we only outperform a constant return value by a small margin.\n",
    "Also, the F1-score is pretty low."
   ]
  },
  {
   "cell_type": "code",
   "execution_count": 26,
   "metadata": {
    "collapsed": false
   },
   "outputs": [
    {
     "data": {
      "text/plain": [
       "225"
      ]
     },
     "execution_count": 26,
     "metadata": {},
     "output_type": "execute_result"
    }
   ],
   "source": [
    "def get_classifier_score(n_estimators, max_depth):\n",
    "    classifier = get_classifier(X_train, y_train, n_estimators=n_estimators, max_depth=max_depth)\n",
    "    f1_score, accuracy = get_cross_val_scores(classifier, X_test, y_test)\n",
    "    \n",
    "    return (n_estimators, max_depth, f1_score, accuracy)\n",
    "\n",
    "classifier_data = [\n",
    "    get_classifier_score(n_estimators, max_depth)\n",
    "    for n_estimators in range(1, 30, 2) for max_depth in range(1, 30, 2)\n",
    "]\n",
    "\n",
    "len(classifier_data)"
   ]
  },
  {
   "cell_type": "code",
   "execution_count": 27,
   "metadata": {
    "collapsed": false,
    "scrolled": true
   },
   "outputs": [
    {
     "data": {
      "text/html": [
       "<div>\n",
       "<table border=\"1\" class=\"dataframe\">\n",
       "  <thead>\n",
       "    <tr style=\"text-align: right;\">\n",
       "      <th></th>\n",
       "      <th>n_estimators</th>\n",
       "      <th>max_depth</th>\n",
       "      <th>f1_score</th>\n",
       "      <th>accuracy</th>\n",
       "    </tr>\n",
       "  </thead>\n",
       "  <tbody>\n",
       "    <tr>\n",
       "      <th>87</th>\n",
       "      <td>11</td>\n",
       "      <td>25</td>\n",
       "      <td>0.583077</td>\n",
       "      <td>0.834746</td>\n",
       "    </tr>\n",
       "    <tr>\n",
       "      <th>194</th>\n",
       "      <td>25</td>\n",
       "      <td>29</td>\n",
       "      <td>0.600658</td>\n",
       "      <td>0.837818</td>\n",
       "    </tr>\n",
       "    <tr>\n",
       "      <th>129</th>\n",
       "      <td>17</td>\n",
       "      <td>19</td>\n",
       "      <td>0.573525</td>\n",
       "      <td>0.834737</td>\n",
       "    </tr>\n",
       "    <tr>\n",
       "      <th>45</th>\n",
       "      <td>7</td>\n",
       "      <td>1</td>\n",
       "      <td>0.593573</td>\n",
       "      <td>0.834541</td>\n",
       "    </tr>\n",
       "    <tr>\n",
       "      <th>145</th>\n",
       "      <td>19</td>\n",
       "      <td>21</td>\n",
       "      <td>0.563898</td>\n",
       "      <td>0.834835</td>\n",
       "    </tr>\n",
       "  </tbody>\n",
       "</table>\n",
       "</div>"
      ],
      "text/plain": [
       "     n_estimators  max_depth  f1_score  accuracy\n",
       "87             11         25  0.583077  0.834746\n",
       "194            25         29  0.600658  0.837818\n",
       "129            17         19  0.573525  0.834737\n",
       "45              7          1  0.593573  0.834541\n",
       "145            19         21  0.563898  0.834835"
      ]
     },
     "execution_count": 27,
     "metadata": {},
     "output_type": "execute_result"
    }
   ],
   "source": [
    "tree_options_df = pd.DataFrame.from_records(\n",
    "    data=classifier_data,\n",
    "    columns=['n_estimators', 'max_depth', 'f1_score', 'accuracy']\n",
    ")\n",
    "tree_options_df.sample(5)"
   ]
  },
  {
   "cell_type": "markdown",
   "metadata": {},
   "source": [
    "What are the maximum values for F1-score?"
   ]
  },
  {
   "cell_type": "code",
   "execution_count": 28,
   "metadata": {
    "collapsed": false,
    "scrolled": true
   },
   "outputs": [
    {
     "data": {
      "text/html": [
       "<div>\n",
       "<table border=\"1\" class=\"dataframe\">\n",
       "  <thead>\n",
       "    <tr style=\"text-align: right;\">\n",
       "      <th></th>\n",
       "      <th>n_estimators</th>\n",
       "      <th>max_depth</th>\n",
       "      <th>f1_score</th>\n",
       "      <th>accuracy</th>\n",
       "    </tr>\n",
       "  </thead>\n",
       "  <tbody>\n",
       "    <tr>\n",
       "      <th>124</th>\n",
       "      <td>17</td>\n",
       "      <td>9</td>\n",
       "      <td>0.626504</td>\n",
       "      <td>0.829848</td>\n",
       "    </tr>\n",
       "    <tr>\n",
       "      <th>22</th>\n",
       "      <td>3</td>\n",
       "      <td>15</td>\n",
       "      <td>0.622449</td>\n",
       "      <td>0.834201</td>\n",
       "    </tr>\n",
       "    <tr>\n",
       "      <th>132</th>\n",
       "      <td>17</td>\n",
       "      <td>25</td>\n",
       "      <td>0.620983</td>\n",
       "      <td>0.832979</td>\n",
       "    </tr>\n",
       "    <tr>\n",
       "      <th>52</th>\n",
       "      <td>7</td>\n",
       "      <td>15</td>\n",
       "      <td>0.617246</td>\n",
       "      <td>0.836255</td>\n",
       "    </tr>\n",
       "    <tr>\n",
       "      <th>134</th>\n",
       "      <td>17</td>\n",
       "      <td>29</td>\n",
       "      <td>0.615247</td>\n",
       "      <td>0.841088</td>\n",
       "    </tr>\n",
       "  </tbody>\n",
       "</table>\n",
       "</div>"
      ],
      "text/plain": [
       "     n_estimators  max_depth  f1_score  accuracy\n",
       "124            17          9  0.626504  0.829848\n",
       "22              3         15  0.622449  0.834201\n",
       "132            17         25  0.620983  0.832979\n",
       "52              7         15  0.617246  0.836255\n",
       "134            17         29  0.615247  0.841088"
      ]
     },
     "execution_count": 28,
     "metadata": {},
     "output_type": "execute_result"
    }
   ],
   "source": [
    "tree_options_df.sort_values('f1_score', ascending=False).head()"
   ]
  },
  {
   "cell_type": "markdown",
   "metadata": {},
   "source": [
    "How about the accuracy?"
   ]
  },
  {
   "cell_type": "code",
   "execution_count": 29,
   "metadata": {
    "collapsed": false,
    "scrolled": true
   },
   "outputs": [
    {
     "data": {
      "text/html": [
       "<div>\n",
       "<table border=\"1\" class=\"dataframe\">\n",
       "  <thead>\n",
       "    <tr style=\"text-align: right;\">\n",
       "      <th></th>\n",
       "      <th>n_estimators</th>\n",
       "      <th>max_depth</th>\n",
       "      <th>f1_score</th>\n",
       "      <th>accuracy</th>\n",
       "    </tr>\n",
       "  </thead>\n",
       "  <tbody>\n",
       "    <tr>\n",
       "      <th>99</th>\n",
       "      <td>13</td>\n",
       "      <td>19</td>\n",
       "      <td>0.573886</td>\n",
       "      <td>0.853354</td>\n",
       "    </tr>\n",
       "    <tr>\n",
       "      <th>144</th>\n",
       "      <td>19</td>\n",
       "      <td>19</td>\n",
       "      <td>0.561456</td>\n",
       "      <td>0.851744</td>\n",
       "    </tr>\n",
       "    <tr>\n",
       "      <th>113</th>\n",
       "      <td>15</td>\n",
       "      <td>17</td>\n",
       "      <td>0.573220</td>\n",
       "      <td>0.850327</td>\n",
       "    </tr>\n",
       "    <tr>\n",
       "      <th>0</th>\n",
       "      <td>1</td>\n",
       "      <td>1</td>\n",
       "      <td>0.545575</td>\n",
       "      <td>0.850081</td>\n",
       "    </tr>\n",
       "    <tr>\n",
       "      <th>55</th>\n",
       "      <td>7</td>\n",
       "      <td>21</td>\n",
       "      <td>0.599436</td>\n",
       "      <td>0.848764</td>\n",
       "    </tr>\n",
       "  </tbody>\n",
       "</table>\n",
       "</div>"
      ],
      "text/plain": [
       "     n_estimators  max_depth  f1_score  accuracy\n",
       "99             13         19  0.573886  0.853354\n",
       "144            19         19  0.561456  0.851744\n",
       "113            15         17  0.573220  0.850327\n",
       "0               1          1  0.545575  0.850081\n",
       "55              7         21  0.599436  0.848764"
      ]
     },
     "execution_count": 29,
     "metadata": {},
     "output_type": "execute_result"
    }
   ],
   "source": [
    "tree_options_df.sort_values('accuracy', ascending=False).head()"
   ]
  },
  {
   "cell_type": "markdown",
   "metadata": {},
   "source": [
    "There does not seem to be a clear tendency, which can be further seen when visualizing the result (both times using 25 as `max_depth` and `n_estimators`, but other values show similar result):"
   ]
  },
  {
   "cell_type": "code",
   "execution_count": 30,
   "metadata": {
    "collapsed": false
   },
   "outputs": [
    {
     "data": {
      "text/plain": [
       "<matplotlib.axes._subplots.AxesSubplot at 0x10945ebe0>"
      ]
     },
     "execution_count": 30,
     "metadata": {},
     "output_type": "execute_result"
    },
    {
     "data": {
      "image/png": "[encoded data removed]",
      "text/plain": [
       "<matplotlib.figure.Figure at 0x118e0f748>"
      ]
     },
     "metadata": {},
     "output_type": "display_data"
    }
   ],
   "source": [
    "without_n_estimators_df = tree_options_df[tree_options_df['n_estimators'] == 25].drop('n_estimators', axis=1)\n",
    "\n",
    "without_n_estimators_df.set_index('max_depth').plot.line()"
   ]
  },
  {
   "cell_type": "code",
   "execution_count": 31,
   "metadata": {
    "collapsed": false
   },
   "outputs": [
    {
     "data": {
      "text/plain": [
       "<matplotlib.axes._subplots.AxesSubplot at 0x118e28dd8>"
      ]
     },
     "execution_count": 31,
     "metadata": {},
     "output_type": "execute_result"
    },
    {
     "data": {
      "image/png": "[encoded data removed]",
      "text/plain": [
       "<matplotlib.figure.Figure at 0x118e352e8>"
      ]
     },
     "metadata": {},
     "output_type": "display_data"
    }
   ],
   "source": [
    "without_max_depth_df = tree_options_df[tree_options_df['max_depth'] == 25].drop('max_depth', axis=1)\n",
    "\n",
    "without_max_depth_df.set_index('n_estimators').plot.line()"
   ]
  },
  {
   "cell_type": "markdown",
   "metadata": {},
   "source": [
    "#### Feature importance\n",
    "\n",
    "Next, we want to look at which features have the greatest impact for our classifier (once again using the classifier with default values).\n",
    "\n",
    "> Once you assessed your model, inspect the `feature_importances_` attribute and discuss the obtained results."
   ]
  },
  {
   "cell_type": "code",
   "execution_count": 32,
   "metadata": {
    "collapsed": false
   },
   "outputs": [
    {
     "data": {
      "image/png": "[encoded data removed]",
      "text/plain": [
       "<matplotlib.figure.Figure at 0x119cf9f28>"
      ]
     },
     "metadata": {},
     "output_type": "display_data"
    }
   ],
   "source": [
    "def plot_feature_importance(X, classifier):\n",
    "    feature_pairs = [(X.columns[i], classifier.feature_importances_[i]) for i in range(0, len(X.columns))]\n",
    "\n",
    "    feature_df = pd.DataFrame(data=feature_pairs, columns=['name', 'weight'])\n",
    "    feature_df.sort_values('weight', ascending=False, inplace=True)\n",
    "\n",
    "    feature_df = feature_df[feature_df['weight'] >= feature_df['weight'].mean()]\n",
    "\n",
    "    feature_df.set_index('name').plot.bar()\n",
    "\n",
    "plot_feature_importance(X, classifier)"
   ]
  },
  {
   "cell_type": "markdown",
   "metadata": {},
   "source": [
    "As could be expected, the values associated with biases have the greatest importance.\n",
    "Interesting enough, playing in France is ranked pretty heigh, especially when playing for Olympique Marseille.\n",
    "\n",
    "The number of red and yellow cards, while important, only plays a minor role to our classifier."
   ]
  },
  {
   "cell_type": "markdown",
   "metadata": {},
   "source": [
    "> With different assumptions on the data (e.g., dropping certain features even before feeding them to the classifier), can you obtain a substantially different `feature_importances_` attribute?"
   ]
  },
  {
   "cell_type": "markdown",
   "metadata": {},
   "source": [
    "Let's look into our initial classifier. With the broader range of possible skin colors, are there other features that are judged to be important?"
   ]
  },
  {
   "cell_type": "code",
   "execution_count": 33,
   "metadata": {
    "collapsed": false
   },
   "outputs": [
    {
     "data": {
      "image/png": "[encoded data removed]",
      "text/plain": [
       "<matplotlib.figure.Figure at 0x119e28a90>"
      ]
     },
     "metadata": {},
     "output_type": "display_data"
    }
   ],
   "source": [
    "plot_feature_importance(X, first_classifier)"
   ]
  },
  {
   "cell_type": "markdown",
   "metadata": {},
   "source": [
    "As this classifier tries to differenciate between a wide range of skin colors, its results should be different from what we've seen before. Nevertheless, the important features remained the same, with some changes in their order."
   ]
  },
  {
   "cell_type": "markdown",
   "metadata": {},
   "source": [
    "### Task 1 — Bonus\n",
    "\n",
    "> Plot the learning curves against at least 2 different sets of parameters passed to your Random Forest.\n",
    "To obtain smooth curves, partition your data in at least 20 folds.\n",
    "Can you find a set of parameters that leads to high bias, and one which does not?\n",
    "\n",
    "This was already done as part of the regular analysis."
   ]
  },
  {
   "cell_type": "markdown",
   "metadata": {},
   "source": [
    "## Task 2\n",
    "\n",
    "> Aggregate the referee information grouping by soccer player, and use an unsupervised learning technique to cluster the soccer players in 2 disjoint clusters.\n",
    "Remove features iteratively, and at each step perform again the clustering and compute the silhouette score -- can you find a configuration of features with high silhouette score where players with dark and light skin colors belong to different clusters?\n",
    "Discuss the obtained results."
   ]
  },
  {
   "cell_type": "code",
   "execution_count": null,
   "metadata": {
    "collapsed": true
   },
   "outputs": [],
   "source": []
  }
 ],
 "metadata": {
  "anaconda-cloud": {},
  "kernelspec": {
   "display_name": "Python [Root]",
   "language": "python",
   "name": "Python [Root]"
  },
  "language_info": {
   "codemirror_mode": {
    "name": "ipython",
    "version": 3
   },
   "file_extension": ".py",
   "mimetype": "text/x-python",
   "name": "python",
   "nbconvert_exporter": "python",
   "pygments_lexer": "ipython3",
   "version": "3.5.2"
  }
 },
 "nbformat": 4,
 "nbformat_minor": 0
}
