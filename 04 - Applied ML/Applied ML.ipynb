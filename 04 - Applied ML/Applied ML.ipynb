{
 "cells": [
  {
   "cell_type": "markdown",
   "metadata": {},
   "source": [
    "# Applied Data Analysis — Homework 4"
   ]
  },
  {
   "cell_type": "markdown",
   "metadata": {},
   "source": [
    "Import common libraries"
   ]
  },
  {
   "cell_type": "code",
   "execution_count": 1,
   "metadata": {
    "collapsed": true
   },
   "outputs": [],
   "source": [
    "import pandas as pd\n",
    "import numpy as np\n",
    "import matplotlib.pyplot as plt\n",
    "%matplotlib inline"
   ]
  },
  {
   "cell_type": "markdown",
   "metadata": {},
   "source": [
    "Import the data and display a sample. The latter is just for ensuring that the data could be read; all columns are not shown as they are already explained in the recommended reading, as well as in the provided `DATA.md` file."
   ]
  },
  {
   "cell_type": "code",
   "execution_count": 2,
   "metadata": {
    "collapsed": false
   },
   "outputs": [
    {
     "data": {
      "text/html": [
       "<div>\n",
       "<table border=\"1\" class=\"dataframe\">\n",
       "  <thead>\n",
       "    <tr style=\"text-align: right;\">\n",
       "      <th></th>\n",
       "      <th>playerShort</th>\n",
       "      <th>player</th>\n",
       "      <th>club</th>\n",
       "      <th>leagueCountry</th>\n",
       "      <th>birthday</th>\n",
       "      <th>height</th>\n",
       "      <th>weight</th>\n",
       "      <th>position</th>\n",
       "      <th>games</th>\n",
       "      <th>victories</th>\n",
       "      <th>...</th>\n",
       "      <th>rater2</th>\n",
       "      <th>refNum</th>\n",
       "      <th>refCountry</th>\n",
       "      <th>Alpha_3</th>\n",
       "      <th>meanIAT</th>\n",
       "      <th>nIAT</th>\n",
       "      <th>seIAT</th>\n",
       "      <th>meanExp</th>\n",
       "      <th>nExp</th>\n",
       "      <th>seExp</th>\n",
       "    </tr>\n",
       "  </thead>\n",
       "  <tbody>\n",
       "    <tr>\n",
       "      <th>57034</th>\n",
       "      <td>mickael-tacalfred</td>\n",
       "      <td>Mickaël Tacalfred</td>\n",
       "      <td>Stade Reims</td>\n",
       "      <td>France</td>\n",
       "      <td>1981-04-23</td>\n",
       "      <td>175.0</td>\n",
       "      <td>69.0</td>\n",
       "      <td>NaN</td>\n",
       "      <td>1</td>\n",
       "      <td>1</td>\n",
       "      <td>...</td>\n",
       "      <td>NaN</td>\n",
       "      <td>1138</td>\n",
       "      <td>7</td>\n",
       "      <td>FRA</td>\n",
       "      <td>0.334684</td>\n",
       "      <td>2882.0</td>\n",
       "      <td>0.000151</td>\n",
       "      <td>0.336101</td>\n",
       "      <td>3011.0</td>\n",
       "      <td>0.000586</td>\n",
       "    </tr>\n",
       "    <tr>\n",
       "      <th>138041</th>\n",
       "      <td>dennis-diekmeier</td>\n",
       "      <td>Dennis Diekmeier</td>\n",
       "      <td>Hamburger SV</td>\n",
       "      <td>Germany</td>\n",
       "      <td>1989-10-20</td>\n",
       "      <td>188.0</td>\n",
       "      <td>79.0</td>\n",
       "      <td>Right Fullback</td>\n",
       "      <td>8</td>\n",
       "      <td>0</td>\n",
       "      <td>...</td>\n",
       "      <td>0.25</td>\n",
       "      <td>2940</td>\n",
       "      <td>8</td>\n",
       "      <td>DEU</td>\n",
       "      <td>0.336628</td>\n",
       "      <td>7749.0</td>\n",
       "      <td>0.000055</td>\n",
       "      <td>0.335967</td>\n",
       "      <td>7974.0</td>\n",
       "      <td>0.000225</td>\n",
       "    </tr>\n",
       "    <tr>\n",
       "      <th>55398</th>\n",
       "      <td>hal-robson-kanu</td>\n",
       "      <td>Hal Robson-Kanu</td>\n",
       "      <td>Reading FC</td>\n",
       "      <td>England</td>\n",
       "      <td>1989-05-21</td>\n",
       "      <td>170.0</td>\n",
       "      <td>74.0</td>\n",
       "      <td>NaN</td>\n",
       "      <td>2</td>\n",
       "      <td>2</td>\n",
       "      <td>...</td>\n",
       "      <td>NaN</td>\n",
       "      <td>1098</td>\n",
       "      <td>44</td>\n",
       "      <td>ENGL</td>\n",
       "      <td>0.326690</td>\n",
       "      <td>44791.0</td>\n",
       "      <td>0.000010</td>\n",
       "      <td>0.356446</td>\n",
       "      <td>46916.0</td>\n",
       "      <td>0.000037</td>\n",
       "    </tr>\n",
       "    <tr>\n",
       "      <th>138254</th>\n",
       "      <td>petr-jiracek</td>\n",
       "      <td>Petr Jiráček</td>\n",
       "      <td>Hamburger SV</td>\n",
       "      <td>Germany</td>\n",
       "      <td>1986-02-03</td>\n",
       "      <td>180.0</td>\n",
       "      <td>77.0</td>\n",
       "      <td>Left Midfielder</td>\n",
       "      <td>6</td>\n",
       "      <td>1</td>\n",
       "      <td>...</td>\n",
       "      <td>0.00</td>\n",
       "      <td>2940</td>\n",
       "      <td>8</td>\n",
       "      <td>DEU</td>\n",
       "      <td>0.336628</td>\n",
       "      <td>7749.0</td>\n",
       "      <td>0.000055</td>\n",
       "      <td>0.335967</td>\n",
       "      <td>7974.0</td>\n",
       "      <td>0.000225</td>\n",
       "    </tr>\n",
       "    <tr>\n",
       "      <th>123513</th>\n",
       "      <td>abel-aguilar</td>\n",
       "      <td>Abel Aguilar</td>\n",
       "      <td>Deportivo La Coruña</td>\n",
       "      <td>Spain</td>\n",
       "      <td>1985-06-01</td>\n",
       "      <td>185.0</td>\n",
       "      <td>78.0</td>\n",
       "      <td>Defensive Midfielder</td>\n",
       "      <td>1</td>\n",
       "      <td>1</td>\n",
       "      <td>...</td>\n",
       "      <td>0.25</td>\n",
       "      <td>2633</td>\n",
       "      <td>31</td>\n",
       "      <td>BRA</td>\n",
       "      <td>0.368946</td>\n",
       "      <td>2411.0</td>\n",
       "      <td>0.000173</td>\n",
       "      <td>0.637172</td>\n",
       "      <td>2475.0</td>\n",
       "      <td>0.000913</td>\n",
       "    </tr>\n",
       "  </tbody>\n",
       "</table>\n",
       "<p>5 rows × 28 columns</p>\n",
       "</div>"
      ],
      "text/plain": [
       "              playerShort             player                 club  \\\n",
       "57034   mickael-tacalfred  Mickaël Tacalfred          Stade Reims   \n",
       "138041   dennis-diekmeier   Dennis Diekmeier         Hamburger SV   \n",
       "55398     hal-robson-kanu    Hal Robson-Kanu           Reading FC   \n",
       "138254       petr-jiracek       Petr Jiráček         Hamburger SV   \n",
       "123513       abel-aguilar       Abel Aguilar  Deportivo La Coruña   \n",
       "\n",
       "       leagueCountry   birthday  height  weight              position  games  \\\n",
       "57034         France 1981-04-23   175.0    69.0                   NaN      1   \n",
       "138041       Germany 1989-10-20   188.0    79.0        Right Fullback      8   \n",
       "55398        England 1989-05-21   170.0    74.0                   NaN      2   \n",
       "138254       Germany 1986-02-03   180.0    77.0       Left Midfielder      6   \n",
       "123513         Spain 1985-06-01   185.0    78.0  Defensive Midfielder      1   \n",
       "\n",
       "        victories    ...     rater2  refNum  refCountry  Alpha_3   meanIAT  \\\n",
       "57034           1    ...        NaN    1138           7      FRA  0.334684   \n",
       "138041          0    ...       0.25    2940           8      DEU  0.336628   \n",
       "55398           2    ...        NaN    1098          44     ENGL  0.326690   \n",
       "138254          1    ...       0.00    2940           8      DEU  0.336628   \n",
       "123513          1    ...       0.25    2633          31      BRA  0.368946   \n",
       "\n",
       "           nIAT     seIAT   meanExp     nExp     seExp  \n",
       "57034    2882.0  0.000151  0.336101   3011.0  0.000586  \n",
       "138041   7749.0  0.000055  0.335967   7974.0  0.000225  \n",
       "55398   44791.0  0.000010  0.356446  46916.0  0.000037  \n",
       "138254   7749.0  0.000055  0.335967   7974.0  0.000225  \n",
       "123513   2411.0  0.000173  0.637172   2475.0  0.000913  \n",
       "\n",
       "[5 rows x 28 columns]"
      ]
     },
     "execution_count": 2,
     "metadata": {},
     "output_type": "execute_result"
    }
   ],
   "source": [
    "df = pd.read_csv('CrowdstormingDataJuly1st.csv', parse_dates=['birthday'])\n",
    "df.sample(5)"
   ]
  },
  {
   "cell_type": "markdown",
   "metadata": {},
   "source": [
    "Just out of curiosity, which is the player with the most interactions with a referee?"
   ]
  },
  {
   "cell_type": "code",
   "execution_count": 3,
   "metadata": {
    "collapsed": false
   },
   "outputs": [
    {
     "data": {
      "text/html": [
       "<div>\n",
       "<table border=\"1\" class=\"dataframe\">\n",
       "  <thead>\n",
       "    <tr style=\"text-align: right;\">\n",
       "      <th></th>\n",
       "      <th>playerShort</th>\n",
       "      <th>player</th>\n",
       "      <th>club</th>\n",
       "      <th>leagueCountry</th>\n",
       "      <th>birthday</th>\n",
       "      <th>height</th>\n",
       "      <th>weight</th>\n",
       "      <th>position</th>\n",
       "      <th>games</th>\n",
       "      <th>victories</th>\n",
       "      <th>...</th>\n",
       "      <th>rater2</th>\n",
       "      <th>refNum</th>\n",
       "      <th>refCountry</th>\n",
       "      <th>Alpha_3</th>\n",
       "      <th>meanIAT</th>\n",
       "      <th>nIAT</th>\n",
       "      <th>seIAT</th>\n",
       "      <th>meanExp</th>\n",
       "      <th>nExp</th>\n",
       "      <th>seExp</th>\n",
       "    </tr>\n",
       "  </thead>\n",
       "  <tbody>\n",
       "    <tr>\n",
       "      <th>48893</th>\n",
       "      <td>philipp-lahm</td>\n",
       "      <td>Philipp Lahm</td>\n",
       "      <td>Bayern München</td>\n",
       "      <td>Germany</td>\n",
       "      <td>1983-11-11</td>\n",
       "      <td>170.0</td>\n",
       "      <td>66.0</td>\n",
       "      <td>Left Fullback</td>\n",
       "      <td>47</td>\n",
       "      <td>29</td>\n",
       "      <td>...</td>\n",
       "      <td>0.25</td>\n",
       "      <td>933</td>\n",
       "      <td>8</td>\n",
       "      <td>DEU</td>\n",
       "      <td>0.336628</td>\n",
       "      <td>7749.0</td>\n",
       "      <td>0.000055</td>\n",
       "      <td>0.335967</td>\n",
       "      <td>7974.0</td>\n",
       "      <td>0.000225</td>\n",
       "    </tr>\n",
       "    <tr>\n",
       "      <th>48390</th>\n",
       "      <td>bastian-schweinsteiger</td>\n",
       "      <td>Bastian Schweinsteiger</td>\n",
       "      <td>Bayern München</td>\n",
       "      <td>Germany</td>\n",
       "      <td>1984-01-08</td>\n",
       "      <td>183.0</td>\n",
       "      <td>79.0</td>\n",
       "      <td>Defensive Midfielder</td>\n",
       "      <td>46</td>\n",
       "      <td>28</td>\n",
       "      <td>...</td>\n",
       "      <td>0.25</td>\n",
       "      <td>933</td>\n",
       "      <td>8</td>\n",
       "      <td>DEU</td>\n",
       "      <td>0.336628</td>\n",
       "      <td>7749.0</td>\n",
       "      <td>0.000055</td>\n",
       "      <td>0.335967</td>\n",
       "      <td>7974.0</td>\n",
       "      <td>0.000225</td>\n",
       "    </tr>\n",
       "    <tr>\n",
       "      <th>54811</th>\n",
       "      <td>paul-scholes</td>\n",
       "      <td>Paul Scholes</td>\n",
       "      <td>Manchester United</td>\n",
       "      <td>England</td>\n",
       "      <td>1974-11-16</td>\n",
       "      <td>170.0</td>\n",
       "      <td>72.0</td>\n",
       "      <td>Center Midfielder</td>\n",
       "      <td>44</td>\n",
       "      <td>28</td>\n",
       "      <td>...</td>\n",
       "      <td>0.00</td>\n",
       "      <td>1095</td>\n",
       "      <td>44</td>\n",
       "      <td>ENGL</td>\n",
       "      <td>0.326690</td>\n",
       "      <td>44791.0</td>\n",
       "      <td>0.000010</td>\n",
       "      <td>0.356446</td>\n",
       "      <td>46916.0</td>\n",
       "      <td>0.000037</td>\n",
       "    </tr>\n",
       "    <tr>\n",
       "      <th>97628</th>\n",
       "      <td>frank-lampard</td>\n",
       "      <td>Frank Lampard</td>\n",
       "      <td>Chelsea FC</td>\n",
       "      <td>England</td>\n",
       "      <td>1978-06-20</td>\n",
       "      <td>183.0</td>\n",
       "      <td>77.0</td>\n",
       "      <td>Center Midfielder</td>\n",
       "      <td>44</td>\n",
       "      <td>29</td>\n",
       "      <td>...</td>\n",
       "      <td>0.25</td>\n",
       "      <td>2080</td>\n",
       "      <td>44</td>\n",
       "      <td>ENGL</td>\n",
       "      <td>0.326690</td>\n",
       "      <td>44791.0</td>\n",
       "      <td>0.000010</td>\n",
       "      <td>0.356446</td>\n",
       "      <td>46916.0</td>\n",
       "      <td>0.000037</td>\n",
       "    </tr>\n",
       "    <tr>\n",
       "      <th>59844</th>\n",
       "      <td>michael-carrick</td>\n",
       "      <td>Michael Carrick</td>\n",
       "      <td>Manchester United</td>\n",
       "      <td>England</td>\n",
       "      <td>1981-07-28</td>\n",
       "      <td>186.0</td>\n",
       "      <td>74.0</td>\n",
       "      <td>Center Midfielder</td>\n",
       "      <td>42</td>\n",
       "      <td>24</td>\n",
       "      <td>...</td>\n",
       "      <td>0.00</td>\n",
       "      <td>1214</td>\n",
       "      <td>44</td>\n",
       "      <td>ENGL</td>\n",
       "      <td>0.326690</td>\n",
       "      <td>44791.0</td>\n",
       "      <td>0.000010</td>\n",
       "      <td>0.356446</td>\n",
       "      <td>46916.0</td>\n",
       "      <td>0.000037</td>\n",
       "    </tr>\n",
       "  </tbody>\n",
       "</table>\n",
       "<p>5 rows × 28 columns</p>\n",
       "</div>"
      ],
      "text/plain": [
       "                  playerShort                  player               club  \\\n",
       "48893            philipp-lahm            Philipp Lahm     Bayern München   \n",
       "48390  bastian-schweinsteiger  Bastian Schweinsteiger     Bayern München   \n",
       "54811            paul-scholes            Paul Scholes  Manchester United   \n",
       "97628           frank-lampard           Frank Lampard         Chelsea FC   \n",
       "59844         michael-carrick         Michael Carrick  Manchester United   \n",
       "\n",
       "      leagueCountry   birthday  height  weight              position  games  \\\n",
       "48893       Germany 1983-11-11   170.0    66.0         Left Fullback     47   \n",
       "48390       Germany 1984-01-08   183.0    79.0  Defensive Midfielder     46   \n",
       "54811       England 1974-11-16   170.0    72.0     Center Midfielder     44   \n",
       "97628       England 1978-06-20   183.0    77.0     Center Midfielder     44   \n",
       "59844       England 1981-07-28   186.0    74.0     Center Midfielder     42   \n",
       "\n",
       "       victories    ...     rater2  refNum  refCountry  Alpha_3   meanIAT  \\\n",
       "48893         29    ...       0.25     933           8      DEU  0.336628   \n",
       "48390         28    ...       0.25     933           8      DEU  0.336628   \n",
       "54811         28    ...       0.00    1095          44     ENGL  0.326690   \n",
       "97628         29    ...       0.25    2080          44     ENGL  0.326690   \n",
       "59844         24    ...       0.00    1214          44     ENGL  0.326690   \n",
       "\n",
       "          nIAT     seIAT   meanExp     nExp     seExp  \n",
       "48893   7749.0  0.000055  0.335967   7974.0  0.000225  \n",
       "48390   7749.0  0.000055  0.335967   7974.0  0.000225  \n",
       "54811  44791.0  0.000010  0.356446  46916.0  0.000037  \n",
       "97628  44791.0  0.000010  0.356446  46916.0  0.000037  \n",
       "59844  44791.0  0.000010  0.356446  46916.0  0.000037  \n",
       "\n",
       "[5 rows x 28 columns]"
      ]
     },
     "execution_count": 3,
     "metadata": {},
     "output_type": "execute_result"
    }
   ],
   "source": [
    "df.sort_values('games', ascending=False)[:5]"
   ]
  },
  {
   "cell_type": "markdown",
   "metadata": {},
   "source": [
    "## Cleaning the data\n",
    "\n",
    "As is described in the recommended reading, all games for each player are included.\n",
    "This is evident in the 47 games Philipp Lahm played under a single referee — a feat that could not be archieved in the Bundesliga, which has less games per team per season.\n",
    "\n",
    "This results in a lot of noise.\n",
    "As done in the recommended reading, we therefore remove all dyads (player-referee pairs) for referees that do not have connections to at least 22 players, the minimum for a single game."
   ]
  },
  {
   "cell_type": "code",
   "execution_count": 4,
   "metadata": {
    "collapsed": false
   },
   "outputs": [],
   "source": [
    "df_ref_group_sizes = df.groupby('refNum').size()\n",
    "# Referees that have at least 22 associated players\n",
    "good_df_refs = df_ref_group_sizes[df_ref_group_sizes >= 22]\n",
    "\n",
    "df = df[df['refNum'].isin(good_df_refs.index.values)]"
   ]
  },
  {
   "cell_type": "markdown",
   "metadata": {},
   "source": [
    "Just to be sure, verify that the new minimum is actually 22:"
   ]
  },
  {
   "cell_type": "code",
   "execution_count": 5,
   "metadata": {
    "collapsed": false,
    "scrolled": false
   },
   "outputs": [
    {
     "data": {
      "text/plain": [
       "22"
      ]
     },
     "execution_count": 5,
     "metadata": {},
     "output_type": "execute_result"
    }
   ],
   "source": [
    "df.groupby('refNum').size().min()"
   ]
  },
  {
   "cell_type": "markdown",
   "metadata": {},
   "source": [
    "The classifier only supports dealing with numbers, so we convert the birthdate to an int:"
   ]
  },
  {
   "cell_type": "code",
   "execution_count": 6,
   "metadata": {
    "collapsed": false
   },
   "outputs": [
    {
     "data": {
      "text/plain": [
       "11506     629078400000000000\n",
       "10299     614736000000000000\n",
       "70412     272160000000000000\n",
       "39398     621129600000000000\n",
       "145603    644544000000000000\n",
       "Name: birthday, dtype: int64"
      ]
     },
     "execution_count": 6,
     "metadata": {},
     "output_type": "execute_result"
    }
   ],
   "source": [
    "df['birthday'] = df['birthday'].astype('int64')\n",
    "\n",
    "df['birthday'].sample(5)"
   ]
  },
  {
   "cell_type": "markdown",
   "metadata": {},
   "source": [
    "Let's check whether one of the two raters has a tendency to rate lower than the other:"
   ]
  },
  {
   "cell_type": "code",
   "execution_count": 7,
   "metadata": {
    "collapsed": false,
    "scrolled": true
   },
   "outputs": [
    {
     "data": {
      "text/plain": [
       "0.05836231578577576"
      ]
     },
     "execution_count": 7,
     "metadata": {},
     "output_type": "execute_result"
    }
   ],
   "source": [
    "rating_differences = (df['rater2'] - df['rater1']).abs()\n",
    "\n",
    "rating_differences.mean()"
   ]
  },
  {
   "cell_type": "markdown",
   "metadata": {},
   "source": [
    "With a fifth of a step, this does not seem substantial.\n",
    "Let's check how often they actually disagree substantially (using half of the available scale):"
   ]
  },
  {
   "cell_type": "code",
   "execution_count": 8,
   "metadata": {
    "collapsed": false
   },
   "outputs": [
    {
     "data": {
      "text/plain": [
       "163"
      ]
     },
     "execution_count": 8,
     "metadata": {},
     "output_type": "execute_result"
    }
   ],
   "source": [
    "rating_differences[rating_differences >= .5].count()"
   ]
  },
  {
   "cell_type": "markdown",
   "metadata": {},
   "source": [
    "Given the small count, we should be fine with ignoring them.\n",
    "\n",
    "Next, we create a new column that merges the two skin tone ratings."
   ]
  },
  {
   "cell_type": "code",
   "execution_count": 9,
   "metadata": {
    "collapsed": false
   },
   "outputs": [
    {
     "data": {
      "text/html": [
       "<div>\n",
       "<table border=\"1\" class=\"dataframe\">\n",
       "  <thead>\n",
       "    <tr style=\"text-align: right;\">\n",
       "      <th></th>\n",
       "      <th>playerShort</th>\n",
       "      <th>player</th>\n",
       "      <th>club</th>\n",
       "      <th>leagueCountry</th>\n",
       "      <th>birthday</th>\n",
       "      <th>height</th>\n",
       "      <th>weight</th>\n",
       "      <th>position</th>\n",
       "      <th>games</th>\n",
       "      <th>victories</th>\n",
       "      <th>...</th>\n",
       "      <th>refNum</th>\n",
       "      <th>refCountry</th>\n",
       "      <th>Alpha_3</th>\n",
       "      <th>meanIAT</th>\n",
       "      <th>nIAT</th>\n",
       "      <th>seIAT</th>\n",
       "      <th>meanExp</th>\n",
       "      <th>nExp</th>\n",
       "      <th>seExp</th>\n",
       "      <th>skinRating</th>\n",
       "    </tr>\n",
       "  </thead>\n",
       "  <tbody>\n",
       "    <tr>\n",
       "      <th>91868</th>\n",
       "      <td>philipp-lahm</td>\n",
       "      <td>Philipp Lahm</td>\n",
       "      <td>Bayern München</td>\n",
       "      <td>Germany</td>\n",
       "      <td>437356800000000000</td>\n",
       "      <td>170.0</td>\n",
       "      <td>66.0</td>\n",
       "      <td>Left Fullback</td>\n",
       "      <td>8</td>\n",
       "      <td>6</td>\n",
       "      <td>...</td>\n",
       "      <td>1970</td>\n",
       "      <td>32</td>\n",
       "      <td>CHE</td>\n",
       "      <td>0.345305</td>\n",
       "      <td>1886.0</td>\n",
       "      <td>0.000219</td>\n",
       "      <td>0.377193</td>\n",
       "      <td>1938.0</td>\n",
       "      <td>0.000823</td>\n",
       "      <td>0.250</td>\n",
       "    </tr>\n",
       "    <tr>\n",
       "      <th>101335</th>\n",
       "      <td>federico-macheda</td>\n",
       "      <td>Federico Macheda</td>\n",
       "      <td>Manchester United</td>\n",
       "      <td>England</td>\n",
       "      <td>682819200000000000</td>\n",
       "      <td>185.0</td>\n",
       "      <td>72.0</td>\n",
       "      <td>Center Forward</td>\n",
       "      <td>1</td>\n",
       "      <td>0</td>\n",
       "      <td>...</td>\n",
       "      <td>2176</td>\n",
       "      <td>48</td>\n",
       "      <td>ITA</td>\n",
       "      <td>0.386174</td>\n",
       "      <td>1761.0</td>\n",
       "      <td>0.000232</td>\n",
       "      <td>0.529815</td>\n",
       "      <td>1895.0</td>\n",
       "      <td>0.001091</td>\n",
       "      <td>0.000</td>\n",
       "    </tr>\n",
       "    <tr>\n",
       "      <th>55762</th>\n",
       "      <td>juan-albin</td>\n",
       "      <td>Juan Albín</td>\n",
       "      <td>Espanyol Barcelona</td>\n",
       "      <td>Spain</td>\n",
       "      <td>521942400000000000</td>\n",
       "      <td>179.0</td>\n",
       "      <td>77.0</td>\n",
       "      <td>Left Midfielder</td>\n",
       "      <td>1</td>\n",
       "      <td>1</td>\n",
       "      <td>...</td>\n",
       "      <td>1105</td>\n",
       "      <td>22</td>\n",
       "      <td>POL</td>\n",
       "      <td>0.369958</td>\n",
       "      <td>1021.0</td>\n",
       "      <td>0.000412</td>\n",
       "      <td>0.831268</td>\n",
       "      <td>1049.0</td>\n",
       "      <td>0.002034</td>\n",
       "      <td>0.375</td>\n",
       "    </tr>\n",
       "    <tr>\n",
       "      <th>128760</th>\n",
       "      <td>kevin-grosskreutz</td>\n",
       "      <td>Kevin Großkreutz</td>\n",
       "      <td>Borussia Dortmund</td>\n",
       "      <td>Germany</td>\n",
       "      <td>585273600000000000</td>\n",
       "      <td>186.0</td>\n",
       "      <td>72.0</td>\n",
       "      <td>Left Winger</td>\n",
       "      <td>1</td>\n",
       "      <td>1</td>\n",
       "      <td>...</td>\n",
       "      <td>2769</td>\n",
       "      <td>8</td>\n",
       "      <td>DEU</td>\n",
       "      <td>0.336628</td>\n",
       "      <td>7749.0</td>\n",
       "      <td>0.000055</td>\n",
       "      <td>0.335967</td>\n",
       "      <td>7974.0</td>\n",
       "      <td>0.000225</td>\n",
       "      <td>0.000</td>\n",
       "    </tr>\n",
       "    <tr>\n",
       "      <th>53396</th>\n",
       "      <td>christian-stuani</td>\n",
       "      <td>Christian Stuani</td>\n",
       "      <td>Espanyol Barcelona</td>\n",
       "      <td>Spain</td>\n",
       "      <td>534556800000000000</td>\n",
       "      <td>186.0</td>\n",
       "      <td>77.0</td>\n",
       "      <td>Center Forward</td>\n",
       "      <td>1</td>\n",
       "      <td>1</td>\n",
       "      <td>...</td>\n",
       "      <td>1064</td>\n",
       "      <td>48</td>\n",
       "      <td>ITA</td>\n",
       "      <td>0.386174</td>\n",
       "      <td>1761.0</td>\n",
       "      <td>0.000232</td>\n",
       "      <td>0.529815</td>\n",
       "      <td>1895.0</td>\n",
       "      <td>0.001091</td>\n",
       "      <td>0.250</td>\n",
       "    </tr>\n",
       "  </tbody>\n",
       "</table>\n",
       "<p>5 rows × 29 columns</p>\n",
       "</div>"
      ],
      "text/plain": [
       "              playerShort            player                club leagueCountry  \\\n",
       "91868        philipp-lahm      Philipp Lahm      Bayern München       Germany   \n",
       "101335   federico-macheda  Federico Macheda   Manchester United       England   \n",
       "55762          juan-albin        Juan Albín  Espanyol Barcelona         Spain   \n",
       "128760  kevin-grosskreutz  Kevin Großkreutz   Borussia Dortmund       Germany   \n",
       "53396    christian-stuani  Christian Stuani  Espanyol Barcelona         Spain   \n",
       "\n",
       "                  birthday  height  weight         position  games  victories  \\\n",
       "91868   437356800000000000   170.0    66.0    Left Fullback      8          6   \n",
       "101335  682819200000000000   185.0    72.0   Center Forward      1          0   \n",
       "55762   521942400000000000   179.0    77.0  Left Midfielder      1          1   \n",
       "128760  585273600000000000   186.0    72.0      Left Winger      1          1   \n",
       "53396   534556800000000000   186.0    77.0   Center Forward      1          1   \n",
       "\n",
       "           ...      refNum  refCountry  Alpha_3   meanIAT    nIAT     seIAT  \\\n",
       "91868      ...        1970          32      CHE  0.345305  1886.0  0.000219   \n",
       "101335     ...        2176          48      ITA  0.386174  1761.0  0.000232   \n",
       "55762      ...        1105          22      POL  0.369958  1021.0  0.000412   \n",
       "128760     ...        2769           8      DEU  0.336628  7749.0  0.000055   \n",
       "53396      ...        1064          48      ITA  0.386174  1761.0  0.000232   \n",
       "\n",
       "         meanExp    nExp     seExp  skinRating  \n",
       "91868   0.377193  1938.0  0.000823       0.250  \n",
       "101335  0.529815  1895.0  0.001091       0.000  \n",
       "55762   0.831268  1049.0  0.002034       0.375  \n",
       "128760  0.335967  7974.0  0.000225       0.000  \n",
       "53396   0.529815  1895.0  0.001091       0.250  \n",
       "\n",
       "[5 rows x 29 columns]"
      ]
     },
     "execution_count": 9,
     "metadata": {},
     "output_type": "execute_result"
    }
   ],
   "source": [
    "df['skinRating'] = (df['rater1'] + df['rater2']) / 2\n",
    "\n",
    "df.sample(5)"
   ]
  },
  {
   "cell_type": "markdown",
   "metadata": {},
   "source": [
    "At this point, we do not remove further values.\n",
    "The intuition is that even missing values might have a relation to the skin color."
   ]
  },
  {
   "cell_type": "markdown",
   "metadata": {},
   "source": [
    "## Task 1\n",
    "\n",
    "> Train a `sklearn.ensemble.RandomForestClassifier` that given a soccer player description outputs his skin color. Show how different parameters \n",
    "passed to the Classifier affect the overfitting issue. Perform cross-validation to mitigate the overfitting of your model. Once you assessed your model,\n",
    "inspect the `feature_importances_` attribute and discuss the obtained results. With different assumptions on the data (e.g., dropping certain features even\n",
    "before feeding them to the classifier), can you obtain a substantially different `feature_importances_` attribute?"
   ]
  },
  {
   "cell_type": "markdown",
   "metadata": {},
   "source": [
    "#### From dyads to player stats\n",
    "\n",
    "First, we need to get per-player stats from the dyads.\n",
    "We do this by aggregating all statistics.\n",
    "\n",
    "To know what we're dealing with, we print a list of all data types:"
   ]
  },
  {
   "cell_type": "code",
   "execution_count": 10,
   "metadata": {
    "collapsed": false,
    "scrolled": true
   },
   "outputs": [
    {
     "data": {
      "text/plain": [
       "playerShort       object\n",
       "player            object\n",
       "club              object\n",
       "leagueCountry     object\n",
       "birthday           int64\n",
       "height           float64\n",
       "weight           float64\n",
       "position          object\n",
       "games              int64\n",
       "victories          int64\n",
       "ties               int64\n",
       "defeats            int64\n",
       "goals              int64\n",
       "yellowCards        int64\n",
       "yellowReds         int64\n",
       "redCards           int64\n",
       "photoID           object\n",
       "rater1           float64\n",
       "rater2           float64\n",
       "refNum             int64\n",
       "refCountry         int64\n",
       "Alpha_3           object\n",
       "meanIAT          float64\n",
       "nIAT             float64\n",
       "seIAT            float64\n",
       "meanExp          float64\n",
       "nExp             float64\n",
       "seExp            float64\n",
       "skinRating       float64\n",
       "dtype: object"
      ]
     },
     "execution_count": 10,
     "metadata": {},
     "output_type": "execute_result"
    }
   ],
   "source": [
    "df.dtypes"
   ]
  },
  {
   "cell_type": "markdown",
   "metadata": {},
   "source": [
    "Based on this, we aggregate stats for all players:"
   ]
  },
  {
   "cell_type": "code",
   "execution_count": 11,
   "metadata": {
    "collapsed": false
   },
   "outputs": [
    {
     "data": {
      "text/html": [
       "<div>\n",
       "<table border=\"1\" class=\"dataframe\">\n",
       "  <thead>\n",
       "    <tr style=\"text-align: right;\">\n",
       "      <th></th>\n",
       "      <th>seIAT</th>\n",
       "      <th>leagueCountry</th>\n",
       "      <th>birthday</th>\n",
       "      <th>ties</th>\n",
       "      <th>club</th>\n",
       "      <th>defeats</th>\n",
       "      <th>meanExp</th>\n",
       "      <th>position</th>\n",
       "      <th>redCards</th>\n",
       "      <th>nIAT</th>\n",
       "      <th>...</th>\n",
       "      <th>height</th>\n",
       "      <th>yellowReds</th>\n",
       "      <th>meanIAT</th>\n",
       "      <th>goals</th>\n",
       "      <th>nExp</th>\n",
       "      <th>yellowCards</th>\n",
       "      <th>victories</th>\n",
       "      <th>games</th>\n",
       "      <th>skinRating</th>\n",
       "      <th>seExp</th>\n",
       "    </tr>\n",
       "    <tr>\n",
       "      <th>playerShort</th>\n",
       "      <th></th>\n",
       "      <th></th>\n",
       "      <th></th>\n",
       "      <th></th>\n",
       "      <th></th>\n",
       "      <th></th>\n",
       "      <th></th>\n",
       "      <th></th>\n",
       "      <th></th>\n",
       "      <th></th>\n",
       "      <th></th>\n",
       "      <th></th>\n",
       "      <th></th>\n",
       "      <th></th>\n",
       "      <th></th>\n",
       "      <th></th>\n",
       "      <th></th>\n",
       "      <th></th>\n",
       "      <th></th>\n",
       "      <th></th>\n",
       "      <th></th>\n",
       "    </tr>\n",
       "  </thead>\n",
       "  <tbody>\n",
       "    <tr>\n",
       "      <th>andre-santos</th>\n",
       "      <td>0.000677</td>\n",
       "      <td>England</td>\n",
       "      <td>428716800000000000</td>\n",
       "      <td>24</td>\n",
       "      <td>Arsenal FC</td>\n",
       "      <td>27</td>\n",
       "      <td>0.488431</td>\n",
       "      <td>Left Fullback</td>\n",
       "      <td>0</td>\n",
       "      <td>11978.314286</td>\n",
       "      <td>...</td>\n",
       "      <td>180.0</td>\n",
       "      <td>0</td>\n",
       "      <td>0.352375</td>\n",
       "      <td>17</td>\n",
       "      <td>12536.228571</td>\n",
       "      <td>27</td>\n",
       "      <td>79</td>\n",
       "      <td>130</td>\n",
       "      <td>0.500</td>\n",
       "      <td>0.003718</td>\n",
       "    </tr>\n",
       "    <tr>\n",
       "      <th>jannik-loehden</th>\n",
       "      <td>0.000055</td>\n",
       "      <td>Germany</td>\n",
       "      <td>616550400000000000</td>\n",
       "      <td>16</td>\n",
       "      <td>Hannover 96</td>\n",
       "      <td>17</td>\n",
       "      <td>0.335967</td>\n",
       "      <td>Center Back</td>\n",
       "      <td>0</td>\n",
       "      <td>7749.000000</td>\n",
       "      <td>...</td>\n",
       "      <td>201.0</td>\n",
       "      <td>0</td>\n",
       "      <td>0.336628</td>\n",
       "      <td>5</td>\n",
       "      <td>7974.000000</td>\n",
       "      <td>12</td>\n",
       "      <td>23</td>\n",
       "      <td>56</td>\n",
       "      <td>0.000</td>\n",
       "      <td>0.000225</td>\n",
       "    </tr>\n",
       "    <tr>\n",
       "      <th>christian-fuchs</th>\n",
       "      <td>0.000455</td>\n",
       "      <td>Germany</td>\n",
       "      <td>520819200000000000</td>\n",
       "      <td>78</td>\n",
       "      <td>FC Schalke 04</td>\n",
       "      <td>129</td>\n",
       "      <td>0.483149</td>\n",
       "      <td>Left Fullback</td>\n",
       "      <td>0</td>\n",
       "      <td>5847.242991</td>\n",
       "      <td>...</td>\n",
       "      <td>186.0</td>\n",
       "      <td>2</td>\n",
       "      <td>0.353948</td>\n",
       "      <td>22</td>\n",
       "      <td>6079.130841</td>\n",
       "      <td>55</td>\n",
       "      <td>148</td>\n",
       "      <td>355</td>\n",
       "      <td>0.000</td>\n",
       "      <td>0.002213</td>\n",
       "    </tr>\n",
       "    <tr>\n",
       "      <th>fabio-coentrao</th>\n",
       "      <td>0.000404</td>\n",
       "      <td>Spain</td>\n",
       "      <td>594518400000000000</td>\n",
       "      <td>38</td>\n",
       "      <td>Real Madrid</td>\n",
       "      <td>55</td>\n",
       "      <td>0.601172</td>\n",
       "      <td>Left Fullback</td>\n",
       "      <td>1</td>\n",
       "      <td>26500.978495</td>\n",
       "      <td>...</td>\n",
       "      <td>179.0</td>\n",
       "      <td>5</td>\n",
       "      <td>0.366833</td>\n",
       "      <td>15</td>\n",
       "      <td>27323.967742</td>\n",
       "      <td>50</td>\n",
       "      <td>144</td>\n",
       "      <td>237</td>\n",
       "      <td>0.375</td>\n",
       "      <td>0.001902</td>\n",
       "    </tr>\n",
       "    <tr>\n",
       "      <th>julian-riedel</th>\n",
       "      <td>0.000074</td>\n",
       "      <td>Germany</td>\n",
       "      <td>686880000000000000</td>\n",
       "      <td>26</td>\n",
       "      <td>Bayer Leverkusen</td>\n",
       "      <td>36</td>\n",
       "      <td>0.342149</td>\n",
       "      <td>Left Fullback</td>\n",
       "      <td>0</td>\n",
       "      <td>7642.371429</td>\n",
       "      <td>...</td>\n",
       "      <td>183.0</td>\n",
       "      <td>0</td>\n",
       "      <td>0.337040</td>\n",
       "      <td>4</td>\n",
       "      <td>7864.285714</td>\n",
       "      <td>8</td>\n",
       "      <td>49</td>\n",
       "      <td>111</td>\n",
       "      <td>0.250</td>\n",
       "      <td>0.000322</td>\n",
       "    </tr>\n",
       "  </tbody>\n",
       "</table>\n",
       "<p>5 rows × 21 columns</p>\n",
       "</div>"
      ],
      "text/plain": [
       "                    seIAT leagueCountry            birthday  ties  \\\n",
       "playerShort                                                         \n",
       "andre-santos     0.000677       England  428716800000000000    24   \n",
       "jannik-loehden   0.000055       Germany  616550400000000000    16   \n",
       "christian-fuchs  0.000455       Germany  520819200000000000    78   \n",
       "fabio-coentrao   0.000404         Spain  594518400000000000    38   \n",
       "julian-riedel    0.000074       Germany  686880000000000000    26   \n",
       "\n",
       "                             club  defeats   meanExp       position  redCards  \\\n",
       "playerShort                                                                     \n",
       "andre-santos           Arsenal FC       27  0.488431  Left Fullback         0   \n",
       "jannik-loehden        Hannover 96       17  0.335967    Center Back         0   \n",
       "christian-fuchs     FC Schalke 04      129  0.483149  Left Fullback         0   \n",
       "fabio-coentrao        Real Madrid       55  0.601172  Left Fullback         1   \n",
       "julian-riedel    Bayer Leverkusen       36  0.342149  Left Fullback         0   \n",
       "\n",
       "                         nIAT    ...     height  yellowReds   meanIAT  goals  \\\n",
       "playerShort                      ...                                           \n",
       "andre-santos     11978.314286    ...      180.0           0  0.352375     17   \n",
       "jannik-loehden    7749.000000    ...      201.0           0  0.336628      5   \n",
       "christian-fuchs   5847.242991    ...      186.0           2  0.353948     22   \n",
       "fabio-coentrao   26500.978495    ...      179.0           5  0.366833     15   \n",
       "julian-riedel     7642.371429    ...      183.0           0  0.337040      4   \n",
       "\n",
       "                         nExp  yellowCards  victories  games  skinRating  \\\n",
       "playerShort                                                                \n",
       "andre-santos     12536.228571           27         79    130       0.500   \n",
       "jannik-loehden    7974.000000           12         23     56       0.000   \n",
       "christian-fuchs   6079.130841           55        148    355       0.000   \n",
       "fabio-coentrao   27323.967742           50        144    237       0.375   \n",
       "julian-riedel     7864.285714            8         49    111       0.250   \n",
       "\n",
       "                    seExp  \n",
       "playerShort                \n",
       "andre-santos     0.003718  \n",
       "jannik-loehden   0.000225  \n",
       "christian-fuchs  0.002213  \n",
       "fabio-coentrao   0.001902  \n",
       "julian-riedel    0.000322  \n",
       "\n",
       "[5 rows x 21 columns]"
      ]
     },
     "execution_count": 11,
     "metadata": {},
     "output_type": "execute_result"
    }
   ],
   "source": [
    "def most_common(val):\n",
    "    val_counts = val.value_counts()\n",
    "    if val_counts.size > 0:\n",
    "        return val_counts.keys()[0]\n",
    "\n",
    "player_df = df.groupby('playerShort').agg({\n",
    "    'club': most_common,\n",
    "    'leagueCountry': most_common,\n",
    "    'position': most_common,\n",
    "        \n",
    "    'birthday': 'max', # Use the highest age\n",
    "\n",
    "    'height': 'mean',\n",
    "    'weight': 'mean',\n",
    "    'meanIAT': 'mean',\n",
    "    'nIAT': 'mean',\n",
    "    'seIAT': 'mean',\n",
    "    'meanExp': 'mean',\n",
    "    'nExp': 'mean',\n",
    "    'seExp': 'mean',\n",
    "    'skinRating': 'mean',\n",
    "        \n",
    "    'games': 'sum',\n",
    "    'victories': 'sum',\n",
    "    'ties': 'sum',\n",
    "    'defeats': 'sum',\n",
    "    'goals': 'sum',\n",
    "    'yellowCards': 'sum',\n",
    "    'yellowReds': 'sum',\n",
    "    'redCards': 'sum',\n",
    "})\n",
    "\n",
    "player_df.reset_index() # get the df back from groupby\n",
    "\n",
    "player_df.sample(5)"
   ]
  },
  {
   "cell_type": "markdown",
   "metadata": {},
   "source": [
    "`sklearn` chokes on undefined values.\n",
    "Therefore, we first remove all players without a `skinRating`, as they cannot be classified."
   ]
  },
  {
   "cell_type": "code",
   "execution_count": 12,
   "metadata": {
    "collapsed": false
   },
   "outputs": [
    {
     "name": "stdout",
     "output_type": "stream",
     "text": [
      "Dropping 466/2050 players\n"
     ]
    },
    {
     "data": {
      "text/plain": [
       "1584"
      ]
     },
     "execution_count": 12,
     "metadata": {},
     "output_type": "execute_result"
    }
   ],
   "source": [
    "total_player_number = player_df['skinRating'].size\n",
    "ratingless_player_count = total_player_number - player_df['skinRating'].count()\n",
    "print('Dropping ' + str(ratingless_player_count) + '/' + str(total_player_number) + ' players')\n",
    "\n",
    "player_df.dropna(subset=['skinRating'], inplace=True)\n",
    "\n",
    "player_df['skinRating'].size # display remaining to ensure it succeeded"
   ]
  },
  {
   "cell_type": "markdown",
   "metadata": {},
   "source": [
    "For the other values, let's fill them in with something unique, so these values can be classified properly.\n",
    "We once again do not remove them as a missing value might represent a bias in the data gathering.\n",
    "\n",
    "First, we display property counts.\n",
    "Properties with lower counts have missing values.\n",
    "As we have already filtered out players without a `skinRating`, we use that number as a baseline."
   ]
  },
  {
   "cell_type": "code",
   "execution_count": 13,
   "metadata": {
    "collapsed": false
   },
   "outputs": [
    {
     "data": {
      "text/plain": [
       "seIAT              0\n",
       "leagueCountry      0\n",
       "birthday           0\n",
       "ties               0\n",
       "club               0\n",
       "defeats            0\n",
       "meanExp            0\n",
       "position        -152\n",
       "redCards           0\n",
       "nIAT               0\n",
       "weight           -21\n",
       "height            -3\n",
       "yellowReds         0\n",
       "meanIAT            0\n",
       "goals              0\n",
       "nExp               0\n",
       "yellowCards        0\n",
       "victories          0\n",
       "games              0\n",
       "skinRating         0\n",
       "seExp              0\n",
       "dtype: int64"
      ]
     },
     "execution_count": 13,
     "metadata": {},
     "output_type": "execute_result"
    }
   ],
   "source": [
    "player_df.count() - player_df['skinRating'].count()"
   ]
  },
  {
   "cell_type": "markdown",
   "metadata": {},
   "source": [
    "Only `position`, `weight` and `height` have missing entries.\n",
    "As before, perhaps missing values have a significance, so let's fill them in with something unique."
   ]
  },
  {
   "cell_type": "code",
   "execution_count": 14,
   "metadata": {
    "collapsed": false
   },
   "outputs": [
    {
     "data": {
      "text/plain": [
       "1584"
      ]
     },
     "execution_count": 14,
     "metadata": {},
     "output_type": "execute_result"
    }
   ],
   "source": [
    "player_df['position'].fillna('missing', inplace=True)\n",
    "player_df['position'].count()"
   ]
  },
  {
   "cell_type": "code",
   "execution_count": 15,
   "metadata": {
    "collapsed": false
   },
   "outputs": [
    {
     "data": {
      "text/plain": [
       "seIAT            0\n",
       "leagueCountry    0\n",
       "birthday         0\n",
       "ties             0\n",
       "club             0\n",
       "defeats          0\n",
       "meanExp          0\n",
       "position         0\n",
       "redCards         0\n",
       "nIAT             0\n",
       "weight           0\n",
       "height           0\n",
       "yellowReds       0\n",
       "meanIAT          0\n",
       "goals            0\n",
       "nExp             0\n",
       "yellowCards      0\n",
       "victories        0\n",
       "games            0\n",
       "skinRating       0\n",
       "seExp            0\n",
       "dtype: int64"
      ]
     },
     "execution_count": 15,
     "metadata": {},
     "output_type": "execute_result"
    }
   ],
   "source": [
    "# Neither weight nor height can be 0 under ordinary circumstances\n",
    "\n",
    "player_df.fillna(0, inplace=True)\n",
    "player_df.count() - player_df['skinRating'].count()"
   ]
  },
  {
   "cell_type": "markdown",
   "metadata": {},
   "source": [
    "All cleaned up, so let's get to the interesting part:"
   ]
  },
  {
   "cell_type": "markdown",
   "metadata": {},
   "source": [
    "__Note:__ The following is largely based on the [ensemble](http://scikit-learn.org/stable/modules/ensemble.html#forest) and [cross-validation guides](http://scikit-learn.org/stable/modules/cross_validation.html) from `scikit-learn`."
   ]
  },
  {
   "cell_type": "markdown",
   "metadata": {
    "collapsed": false
   },
   "source": [
    "#### Preparing & split the test set\n",
    "\n",
    "First, we have to convert string values to numbers to make them accessible to the classifier.\n",
    "We are using dummies for that:"
   ]
  },
  {
   "cell_type": "code",
   "execution_count": 16,
   "metadata": {
    "collapsed": true
   },
   "outputs": [],
   "source": [
    "player_df_dummies = pd.get_dummies(player_df)"
   ]
  },
  {
   "cell_type": "markdown",
   "metadata": {},
   "source": [
    "Next, we split the players to two sets, one for training, one for testing.\n",
    "We use 2/5 of the dataset for testing."
   ]
  },
  {
   "cell_type": "code",
   "execution_count": 17,
   "metadata": {
    "collapsed": false
   },
   "outputs": [],
   "source": [
    "from sklearn.preprocessing import LabelEncoder\n",
    "from sklearn.model_selection import train_test_split # Needed for cross-validation\n",
    "\n",
    "X = player_df_dummies.copy()\n",
    "X.drop('skinRating', inplace=True, axis=1)\n",
    "\n",
    "Y = LabelEncoder().fit_transform(player_df['skinRating'])\n",
    "\n",
    "X_train, X_test, y_train, y_test = train_test_split(X, Y, test_size=.4, random_state=0)"
   ]
  },
  {
   "cell_type": "markdown",
   "metadata": {},
   "source": [
    "All set, so let's use the classifier (with default parameters):"
   ]
  },
  {
   "cell_type": "code",
   "execution_count": 18,
   "metadata": {
    "collapsed": false
   },
   "outputs": [],
   "source": [
    "from sklearn.ensemble import RandomForestClassifier\n",
    "\n",
    "def get_classifier(X_train, y_train, n_estimators=None, max_depth=None):\n",
    "    classifier = RandomForestClassifier()\n",
    "    return classifier.fit(X_train, y_train)\n",
    "\n",
    "first_classifier = get_classifier(X_train, y_train)"
   ]
  },
  {
   "cell_type": "markdown",
   "metadata": {},
   "source": [
    "#### How well does the model perform?\n",
    "\n"
   ]
  },
  {
   "cell_type": "code",
   "execution_count": 19,
   "metadata": {
    "collapsed": false
   },
   "outputs": [
    {
     "name": "stderr",
     "output_type": "stream",
     "text": [
      "/Users/feedy/anaconda3/lib/python3.5/site-packages/sklearn/metrics/classification.py:1113: UndefinedMetricWarning: F-score is ill-defined and being set to 0.0 in labels with no predicted samples.\n",
      "  'precision', 'predicted', average, warn_for)\n",
      "/Users/feedy/anaconda3/lib/python3.5/site-packages/sklearn/metrics/classification.py:1113: UndefinedMetricWarning: F-score is ill-defined and being set to 0.0 in labels with no predicted samples.\n",
      "  'precision', 'predicted', average, warn_for)\n",
      "/Users/feedy/anaconda3/lib/python3.5/site-packages/sklearn/metrics/classification.py:1113: UndefinedMetricWarning: F-score is ill-defined and being set to 0.0 in labels with no predicted samples.\n",
      "  'precision', 'predicted', average, warn_for)\n"
     ]
    },
    {
     "data": {
      "text/plain": [
       "'Accuracy score is 0.269860419899, the F1-score is 0.129528672493'"
      ]
     },
     "execution_count": 19,
     "metadata": {},
     "output_type": "execute_result"
    }
   ],
   "source": [
    "from sklearn.model_selection import cross_val_score\n",
    "\n",
    "def get_cross_val_scores(classifier, X_test, y_test, cv=20):\n",
    "    f1_score = np.mean(cross_val_score(classifier, X_test, y_test, scoring='f1_macro', cv=cv))\n",
    "    accuracy = np.mean(cross_val_score(classifier, X_test, y_test, scoring='accuracy', cv=cv))\n",
    "    \n",
    "    return (f1_score, accuracy)\n",
    "\n",
    "f1_score, accuracy = get_cross_val_scores(first_classifier, X_test, y_test, cv=3)\n",
    "\n",
    "'Accuracy score is ' + str(accuracy) + ', the F1-score is ' + str(f1_score)"
   ]
  },
  {
   "cell_type": "markdown",
   "metadata": {},
   "source": [
    "Interesting enough, some outcomes seem to be impossible to predict (see the warning).\n",
    "Also, both our accuracy and our F1-score are abysmal, we should improve upon that.\n",
    "\n",
    "Consequently, we simplify the problem:\n",
    "From now on, we only distinguish between light and dark skin."
   ]
  },
  {
   "cell_type": "code",
   "execution_count": 20,
   "metadata": {
    "collapsed": false
   },
   "outputs": [
    {
     "data": {
      "text/plain": [
       "playerShort\n",
       "gervinho           True\n",
       "davide-santon     False\n",
       "simon-davies      False\n",
       "onyekachi-apam     True\n",
       "arribas_2         False\n",
       "Name: skinRating, dtype: bool"
      ]
     },
     "execution_count": 20,
     "metadata": {},
     "output_type": "execute_result"
    }
   ],
   "source": [
    "skin_ratings = player_df['skinRating'].map(lambda x: x > .5)\n",
    "skin_ratings.sample(5)"
   ]
  },
  {
   "cell_type": "markdown",
   "metadata": {},
   "source": [
    "What is actually the distribution of our values?\n",
    "With `True` signifying dark-skinned players:"
   ]
  },
  {
   "cell_type": "code",
   "execution_count": 21,
   "metadata": {
    "collapsed": false
   },
   "outputs": [
    {
     "data": {
      "text/plain": [
       "<matplotlib.axes._subplots.AxesSubplot at 0x1184a3dd8>"
      ]
     },
     "execution_count": 21,
     "metadata": {},
     "output_type": "execute_result"
    },
    {
     "data": {
      "image/png": "[encoded data removed]",
      "text/plain": [
       "<matplotlib.figure.Figure at 0x117fef080>"
      ]
     },
     "metadata": {},
     "output_type": "display_data"
    }
   ],
   "source": [
    "skin_ratings.value_counts().plot.pie()"
   ]
  },
  {
   "cell_type": "markdown",
   "metadata": {},
   "source": [
    "As a percentage (using implicit casts from booleans to integers):"
   ]
  },
  {
   "cell_type": "code",
   "execution_count": 22,
   "metadata": {
    "collapsed": false
   },
   "outputs": [
    {
     "data": {
      "text/plain": [
       "0.83017676767676774"
      ]
     },
     "execution_count": 22,
     "metadata": {},
     "output_type": "execute_result"
    }
   ],
   "source": [
    "1 - skin_ratings.sum() / skin_ratings.size"
   ]
  },
  {
   "cell_type": "markdown",
   "metadata": {},
   "source": [
    "So whatever result we archieve has to better than this, otherwise always returning `False` (for light-skinned) would outperform our result."
   ]
  },
  {
   "cell_type": "code",
   "execution_count": 23,
   "metadata": {
    "collapsed": false
   },
   "outputs": [
    {
     "data": {
      "text/plain": [
       "'Accuracy score is 0.839238147605, the F1-score is 0.537213540033'"
      ]
     },
     "execution_count": 23,
     "metadata": {},
     "output_type": "execute_result"
    }
   ],
   "source": [
    "Y = LabelEncoder().fit_transform(skin_ratings)\n",
    "\n",
    "X_train, X_test, y_train, y_test = train_test_split(X, Y, test_size=.4, random_state=0)\n",
    "\n",
    "classifier = get_classifier(X_train, y_train)\n",
    "\n",
    "f1_score, accuracy = get_cross_val_scores(classifier, X_test, y_test)\n",
    "\n",
    "'Accuracy score is ' + str(accuracy) + ', the F1-score is ' + str(f1_score)"
   ]
  },
  {
   "cell_type": "markdown",
   "metadata": {},
   "source": [
    "That looks much better, although we only outperform a constant return value by a small margin.\n",
    "Also, the F1-score is pretty low."
   ]
  },
  {
   "cell_type": "code",
   "execution_count": 24,
   "metadata": {
    "collapsed": false
   },
   "outputs": [
    {
     "data": {
      "text/plain": [
       "225"
      ]
     },
     "execution_count": 24,
     "metadata": {},
     "output_type": "execute_result"
    }
   ],
   "source": [
    "def get_classifier_score(n_estimators, max_depth):\n",
    "    classifier = get_classifier(X_train, y_train, n_estimators=n_estimators, max_depth=max_depth)\n",
    "    f1_score, accuracy = get_cross_val_scores(classifier, X_test, y_test)\n",
    "    \n",
    "    return (n_estimators, max_depth, f1_score, accuracy)\n",
    "\n",
    "classifier_data = [\n",
    "    get_classifier_score(n_estimators, max_depth)\n",
    "    for n_estimators in range(1, 30, 2) for max_depth in range(1, 30, 2)\n",
    "]\n",
    "\n",
    "len(classifier_data)"
   ]
  },
  {
   "cell_type": "code",
   "execution_count": 25,
   "metadata": {
    "collapsed": false,
    "scrolled": true
   },
   "outputs": [
    {
     "data": {
      "text/html": [
       "<div>\n",
       "<table border=\"1\" class=\"dataframe\">\n",
       "  <thead>\n",
       "    <tr style=\"text-align: right;\">\n",
       "      <th></th>\n",
       "      <th>n_estimators</th>\n",
       "      <th>max_depth</th>\n",
       "      <th>f1_score</th>\n",
       "      <th>accuracy</th>\n",
       "    </tr>\n",
       "  </thead>\n",
       "  <tbody>\n",
       "    <tr>\n",
       "      <th>26</th>\n",
       "      <td>3</td>\n",
       "      <td>23</td>\n",
       "      <td>0.563163</td>\n",
       "      <td>0.842313</td>\n",
       "    </tr>\n",
       "    <tr>\n",
       "      <th>43</th>\n",
       "      <td>5</td>\n",
       "      <td>27</td>\n",
       "      <td>0.562889</td>\n",
       "      <td>0.834248</td>\n",
       "    </tr>\n",
       "    <tr>\n",
       "      <th>35</th>\n",
       "      <td>5</td>\n",
       "      <td>11</td>\n",
       "      <td>0.573875</td>\n",
       "      <td>0.837915</td>\n",
       "    </tr>\n",
       "    <tr>\n",
       "      <th>25</th>\n",
       "      <td>3</td>\n",
       "      <td>21</td>\n",
       "      <td>0.552263</td>\n",
       "      <td>0.840795</td>\n",
       "    </tr>\n",
       "    <tr>\n",
       "      <th>108</th>\n",
       "      <td>15</td>\n",
       "      <td>7</td>\n",
       "      <td>0.579566</td>\n",
       "      <td>0.834595</td>\n",
       "    </tr>\n",
       "  </tbody>\n",
       "</table>\n",
       "</div>"
      ],
      "text/plain": [
       "     n_estimators  max_depth  f1_score  accuracy\n",
       "26              3         23  0.563163  0.842313\n",
       "43              5         27  0.562889  0.834248\n",
       "35              5         11  0.573875  0.837915\n",
       "25              3         21  0.552263  0.840795\n",
       "108            15          7  0.579566  0.834595"
      ]
     },
     "execution_count": 25,
     "metadata": {},
     "output_type": "execute_result"
    }
   ],
   "source": [
    "tree_options_df = pd.DataFrame.from_records(\n",
    "    data=classifier_data,\n",
    "    columns=['n_estimators', 'max_depth', 'f1_score', 'accuracy']\n",
    ")\n",
    "tree_options_df.sample(5)"
   ]
  },
  {
   "cell_type": "markdown",
   "metadata": {},
   "source": [
    "What are the maximum values for F1-score?"
   ]
  },
  {
   "cell_type": "code",
   "execution_count": 26,
   "metadata": {
    "collapsed": false,
    "scrolled": true
   },
   "outputs": [
    {
     "data": {
      "text/html": [
       "<div>\n",
       "<table border=\"1\" class=\"dataframe\">\n",
       "  <thead>\n",
       "    <tr style=\"text-align: right;\">\n",
       "      <th></th>\n",
       "      <th>n_estimators</th>\n",
       "      <th>max_depth</th>\n",
       "      <th>f1_score</th>\n",
       "      <th>accuracy</th>\n",
       "    </tr>\n",
       "  </thead>\n",
       "  <tbody>\n",
       "    <tr>\n",
       "      <th>214</th>\n",
       "      <td>29</td>\n",
       "      <td>9</td>\n",
       "      <td>0.627489</td>\n",
       "      <td>0.840848</td>\n",
       "    </tr>\n",
       "    <tr>\n",
       "      <th>111</th>\n",
       "      <td>15</td>\n",
       "      <td>13</td>\n",
       "      <td>0.623151</td>\n",
       "      <td>0.836154</td>\n",
       "    </tr>\n",
       "    <tr>\n",
       "      <th>157</th>\n",
       "      <td>21</td>\n",
       "      <td>15</td>\n",
       "      <td>0.614649</td>\n",
       "      <td>0.837676</td>\n",
       "    </tr>\n",
       "    <tr>\n",
       "      <th>126</th>\n",
       "      <td>17</td>\n",
       "      <td>13</td>\n",
       "      <td>0.614065</td>\n",
       "      <td>0.837720</td>\n",
       "    </tr>\n",
       "    <tr>\n",
       "      <th>123</th>\n",
       "      <td>17</td>\n",
       "      <td>7</td>\n",
       "      <td>0.614059</td>\n",
       "      <td>0.831372</td>\n",
       "    </tr>\n",
       "  </tbody>\n",
       "</table>\n",
       "</div>"
      ],
      "text/plain": [
       "     n_estimators  max_depth  f1_score  accuracy\n",
       "214            29          9  0.627489  0.840848\n",
       "111            15         13  0.623151  0.836154\n",
       "157            21         15  0.614649  0.837676\n",
       "126            17         13  0.614065  0.837720\n",
       "123            17          7  0.614059  0.831372"
      ]
     },
     "execution_count": 26,
     "metadata": {},
     "output_type": "execute_result"
    }
   ],
   "source": [
    "tree_options_df.sort_values('f1_score', ascending=False).head()"
   ]
  },
  {
   "cell_type": "markdown",
   "metadata": {},
   "source": [
    "How about the accuracy?"
   ]
  },
  {
   "cell_type": "code",
   "execution_count": 27,
   "metadata": {
    "collapsed": false,
    "scrolled": true
   },
   "outputs": [
    {
     "data": {
      "text/html": [
       "<div>\n",
       "<table border=\"1\" class=\"dataframe\">\n",
       "  <thead>\n",
       "    <tr style=\"text-align: right;\">\n",
       "      <th></th>\n",
       "      <th>n_estimators</th>\n",
       "      <th>max_depth</th>\n",
       "      <th>f1_score</th>\n",
       "      <th>accuracy</th>\n",
       "    </tr>\n",
       "  </thead>\n",
       "  <tbody>\n",
       "    <tr>\n",
       "      <th>4</th>\n",
       "      <td>1</td>\n",
       "      <td>9</td>\n",
       "      <td>0.575160</td>\n",
       "      <td>0.855166</td>\n",
       "    </tr>\n",
       "    <tr>\n",
       "      <th>68</th>\n",
       "      <td>9</td>\n",
       "      <td>17</td>\n",
       "      <td>0.557799</td>\n",
       "      <td>0.853650</td>\n",
       "    </tr>\n",
       "    <tr>\n",
       "      <th>213</th>\n",
       "      <td>29</td>\n",
       "      <td>7</td>\n",
       "      <td>0.579565</td>\n",
       "      <td>0.853405</td>\n",
       "    </tr>\n",
       "    <tr>\n",
       "      <th>127</th>\n",
       "      <td>17</td>\n",
       "      <td>15</td>\n",
       "      <td>0.586183</td>\n",
       "      <td>0.851744</td>\n",
       "    </tr>\n",
       "    <tr>\n",
       "      <th>93</th>\n",
       "      <td>13</td>\n",
       "      <td>7</td>\n",
       "      <td>0.605928</td>\n",
       "      <td>0.848812</td>\n",
       "    </tr>\n",
       "  </tbody>\n",
       "</table>\n",
       "</div>"
      ],
      "text/plain": [
       "     n_estimators  max_depth  f1_score  accuracy\n",
       "4               1          9  0.575160  0.855166\n",
       "68              9         17  0.557799  0.853650\n",
       "213            29          7  0.579565  0.853405\n",
       "127            17         15  0.586183  0.851744\n",
       "93             13          7  0.605928  0.848812"
      ]
     },
     "execution_count": 27,
     "metadata": {},
     "output_type": "execute_result"
    }
   ],
   "source": [
    "tree_options_df.sort_values('accuracy', ascending=False).head()"
   ]
  },
  {
   "cell_type": "markdown",
   "metadata": {},
   "source": [
    "There does not seem to be a clear tendency, which can be further seen when visualizing the result (both times using 25 as `max_depth` and `n_estimators`, but other values show similar result):"
   ]
  },
  {
   "cell_type": "code",
   "execution_count": 28,
   "metadata": {
    "collapsed": false
   },
   "outputs": [
    {
     "data": {
      "text/plain": [
       "<matplotlib.axes._subplots.AxesSubplot at 0x118542f60>"
      ]
     },
     "execution_count": 28,
     "metadata": {},
     "output_type": "execute_result"
    },
    {
     "data": {
      "image/png": "[encoded data removed]",
      "text/plain": [
       "<matplotlib.figure.Figure at 0x1186b0be0>"
      ]
     },
     "metadata": {},
     "output_type": "display_data"
    }
   ],
   "source": [
    "without_n_estimators_df = tree_options_df[tree_options_df['n_estimators'] == 25].drop('n_estimators', axis=1)\n",
    "\n",
    "without_n_estimators_df.set_index('max_depth').plot.line()"
   ]
  },
  {
   "cell_type": "code",
   "execution_count": 29,
   "metadata": {
    "collapsed": false
   },
   "outputs": [
    {
     "data": {
      "text/plain": [
       "<matplotlib.axes._subplots.AxesSubplot at 0x118551978>"
      ]
     },
     "execution_count": 29,
     "metadata": {},
     "output_type": "execute_result"
    },
    {
     "data": {
      "image/png": "[encoded data removed]",
      "text/plain": [
       "<matplotlib.figure.Figure at 0x118733518>"
      ]
     },
     "metadata": {},
     "output_type": "display_data"
    }
   ],
   "source": [
    "without_max_depth_df = tree_options_df[tree_options_df['max_depth'] == 25].drop('max_depth', axis=1)\n",
    "\n",
    "without_max_depth_df.set_index('n_estimators').plot.line()"
   ]
  },
  {
   "cell_type": "markdown",
   "metadata": {},
   "source": [
    "#### Feature importance\n",
    "\n",
    "Next, we want to look at which features have the greatest impact for our classifier (once again using the classifier with default values).\n",
    "\n",
    "> Once you assessed your model, inspect the `feature_importances_` attribute and discuss the obtained results."
   ]
  },
  {
   "cell_type": "code",
   "execution_count": 30,
   "metadata": {
    "collapsed": false
   },
   "outputs": [
    {
     "data": {
      "image/png": "[encoded data removed]",
      "text/plain": [
       "<matplotlib.figure.Figure at 0x119121898>"
      ]
     },
     "metadata": {},
     "output_type": "display_data"
    }
   ],
   "source": [
    "def get_important_features(X, classifier):\n",
    "    feature_pairs = [(X.columns[i], classifier.feature_importances_[i]) for i in range(0, len(X.columns))]\n",
    "\n",
    "    feature_df = pd.DataFrame(data=feature_pairs, columns=['name', 'weight'])\n",
    "    feature_df.sort_values('weight', ascending=False, inplace=True)\n",
    "\n",
    "    return feature_df[feature_df['weight'] >= feature_df['weight'].mean()]\n",
    "    \n",
    "def plot_feature_importance(X, classifier):\n",
    "    get_important_features(X, classifier).set_index('name').plot.bar()\n",
    "\n",
    "plot_feature_importance(X, classifier)"
   ]
  },
  {
   "cell_type": "markdown",
   "metadata": {},
   "source": [
    "As could be expected, the values associated with biases have the greatest importance.\n",
    "Interesting enough, playing in France is ranked pretty heigh, especially when playing for Olympique Marseille.\n",
    "\n",
    "The number of red and yellow cards, while important, only plays a minor role to our classifier."
   ]
  },
  {
   "cell_type": "markdown",
   "metadata": {},
   "source": [
    "> With different assumptions on the data (e.g., dropping certain features even before feeding them to the classifier), can you obtain a substantially different `feature_importances_` attribute?"
   ]
  },
  {
   "cell_type": "markdown",
   "metadata": {},
   "source": [
    "Let's look into our initial classifier. With the broader range of possible skin colors, are there other features that are judged to be important?"
   ]
  },
  {
   "cell_type": "code",
   "execution_count": 31,
   "metadata": {
    "collapsed": false
   },
   "outputs": [
    {
     "data": {
      "image/png": "[encoded data removed]",
      "text/plain": [
       "<matplotlib.figure.Figure at 0x1193089b0>"
      ]
     },
     "metadata": {},
     "output_type": "display_data"
    }
   ],
   "source": [
    "plot_feature_importance(X, first_classifier)"
   ]
  },
  {
   "cell_type": "markdown",
   "metadata": {},
   "source": [
    "As this classifier tries to differenciate between a wide range of skin colors, its results should be different from what we've seen before. Nevertheless, the important features remained the same, with some changes in their order."
   ]
  },
  {
   "cell_type": "markdown",
   "metadata": {},
   "source": [
    "### Task 1 — Bonus\n",
    "\n",
    "> Plot the learning curves against at least 2 different sets of parameters passed to your Random Forest.\n",
    "To obtain smooth curves, partition your data in at least 20 folds.\n",
    "Can you find a set of parameters that leads to high bias, and one which does not?\n",
    "\n",
    "This was already done as part of the regular analysis."
   ]
  },
  {
   "cell_type": "markdown",
   "metadata": {},
   "source": [
    "## Task 2\n",
    "\n",
    "> Aggregate the referee information grouping by soccer player, and use an unsupervised learning technique to cluster the soccer players in 2 disjoint clusters.\n",
    "Remove features iteratively, and at each step perform again the clustering and compute the silhouette score -- can you find a configuration of features with high silhouette score where players with dark and light skin colors belong to different clusters?\n",
    "Discuss the obtained results.\n",
    "\n",
    "We use `KMeans` to cluster our data, based on the [`scikit-learn` guide](http://scikit-learn.org/stable/auto_examples/cluster/plot_kmeans_silhouette_analysis.html#sphx-glr-auto-examples-cluster-plot-kmeans-silhouette-analysis-py) about it.\n",
    "The `X` variable obtained above is reused, as it contains all the required features (not including the skin color — which would simplify this task quite a lot)."
   ]
  },
  {
   "cell_type": "code",
   "execution_count": 32,
   "metadata": {
    "collapsed": false
   },
   "outputs": [
    {
     "data": {
      "text/plain": [
       "(0.58120609211175134, 0.50883838383838387)"
      ]
     },
     "execution_count": 32,
     "metadata": {},
     "output_type": "execute_result"
    }
   ],
   "source": [
    "from sklearn.cluster import KMeans\n",
    "from sklearn.metrics import silhouette_score, accuracy_score\n",
    "\n",
    "def get_silhouette_score(X):\n",
    "    classifier = KMeans(n_clusters=2, random_state=0)\n",
    "    labels = classifier.fit_predict(X)\n",
    "    \n",
    "    silhouette = silhouette_score(X, labels)\n",
    "    # calculate accuracy for both clusters -- both of them could represent our classification\n",
    "    accuracy = max(accuracy_score(Y, labels), accuracy_score(1 - Y, labels))\n",
    "    \n",
    "    return silhouette, accuracy\n",
    "\n",
    "get_silhouette_score(X)"
   ]
  },
  {
   "cell_type": "markdown",
   "metadata": {},
   "source": [
    "Now we are able to get the silhouette and accuracy scores for our data.\n",
    "Next, we explore which combination of categories actually leads to high scores.\n",
    "\n",
    "To reduce computation time, we only consider the ten features our previous classifier found to be of greatest importance."
   ]
  },
  {
   "cell_type": "code",
   "execution_count": 33,
   "metadata": {
    "collapsed": false
   },
   "outputs": [
    {
     "data": {
      "text/plain": [
       "0           seIAT\n",
       "10        meanIAT\n",
       "4         meanExp\n",
       "6            nIAT\n",
       "12           nExp\n",
       "16          seExp\n",
       "3         defeats\n",
       "13    yellowCards\n",
       "15          games\n",
       "14      victories\n",
       "Name: name, dtype: object"
      ]
     },
     "execution_count": 33,
     "metadata": {},
     "output_type": "execute_result"
    }
   ],
   "source": [
    "important_feature_names = get_important_features(X, classifier)['name'][:10]\n",
    "important_feature_names"
   ]
  },
  {
   "cell_type": "code",
   "execution_count": 34,
   "metadata": {
    "collapsed": false
   },
   "outputs": [
    {
     "name": "stdout",
     "output_type": "stream",
     "text": [
      "Computing combinations of length 1\n",
      "Computing combinations of length 2\n",
      "Computing combinations of length 3\n",
      "Computing combinations of length 4\n",
      "Computing combinations of length 5\n",
      "Computing combinations of length 6\n",
      "Computing combinations of length 7\n",
      "Computing combinations of length 8\n",
      "Computing combinations of length 9\n",
      "Computing combinations of length 10\n"
     ]
    },
    {
     "data": {
      "text/plain": [
       "[]"
      ]
     },
     "execution_count": 34,
     "metadata": {},
     "output_type": "execute_result"
    }
   ],
   "source": [
    "from itertools import combinations\n",
    "\n",
    "scores = []\n",
    "\n",
    "for i in range(1, len(important_feature_names) + 1):\n",
    "    # This takes a while, so print status messages\n",
    "    print('Computing combinations of length ' + str(i))\n",
    "    \n",
    "    for combination in combinations(important_feature_names, i):\n",
    "        feature_df = pd.DataFrame(X, columns=combination)\n",
    "        scores.append((', '.join(combination), *get_silhouette_score(feature_df)))\n",
    "\n",
    "scores[50:5]"
   ]
  },
  {
   "cell_type": "code",
   "execution_count": 35,
   "metadata": {
    "collapsed": false
   },
   "outputs": [
    {
     "data": {
      "text/html": [
       "<div>\n",
       "<table border=\"1\" class=\"dataframe\">\n",
       "  <thead>\n",
       "    <tr style=\"text-align: right;\">\n",
       "      <th></th>\n",
       "      <th>Features</th>\n",
       "      <th>Silhouette score</th>\n",
       "      <th>Accuracy</th>\n",
       "    </tr>\n",
       "  </thead>\n",
       "  <tbody>\n",
       "    <tr>\n",
       "      <th>0</th>\n",
       "      <td>seIAT</td>\n",
       "      <td>0.844082</td>\n",
       "      <td>0.851641</td>\n",
       "    </tr>\n",
       "    <tr>\n",
       "      <th>14</th>\n",
       "      <td>seIAT, seExp</td>\n",
       "      <td>0.821167</td>\n",
       "      <td>0.847222</td>\n",
       "    </tr>\n",
       "    <tr>\n",
       "      <th>5</th>\n",
       "      <td>seExp</td>\n",
       "      <td>0.820594</td>\n",
       "      <td>0.846591</td>\n",
       "    </tr>\n",
       "    <tr>\n",
       "      <th>682</th>\n",
       "      <td>seIAT, meanIAT, nIAT, seExp, defeats, yellowCards</td>\n",
       "      <td>0.726754</td>\n",
       "      <td>0.727904</td>\n",
       "    </tr>\n",
       "    <tr>\n",
       "      <th>660</th>\n",
       "      <td>seIAT, meanIAT, meanExp, nExp, yellowCards, vi...</td>\n",
       "      <td>0.726899</td>\n",
       "      <td>0.727904</td>\n",
       "    </tr>\n",
       "    <tr>\n",
       "      <th>661</th>\n",
       "      <td>seIAT, meanIAT, meanExp, nExp, games, victories</td>\n",
       "      <td>0.726738</td>\n",
       "      <td>0.727904</td>\n",
       "    </tr>\n",
       "    <tr>\n",
       "      <th>672</th>\n",
       "      <td>seIAT, meanIAT, nIAT, nExp, seExp, defeats</td>\n",
       "      <td>0.726834</td>\n",
       "      <td>0.727904</td>\n",
       "    </tr>\n",
       "    <tr>\n",
       "      <th>673</th>\n",
       "      <td>seIAT, meanIAT, nIAT, nExp, seExp, yellowCards</td>\n",
       "      <td>0.726842</td>\n",
       "      <td>0.727904</td>\n",
       "    </tr>\n",
       "    <tr>\n",
       "      <th>674</th>\n",
       "      <td>seIAT, meanIAT, nIAT, nExp, seExp, games</td>\n",
       "      <td>0.726747</td>\n",
       "      <td>0.727904</td>\n",
       "    </tr>\n",
       "    <tr>\n",
       "      <th>675</th>\n",
       "      <td>seIAT, meanIAT, nIAT, nExp, seExp, victories</td>\n",
       "      <td>0.726818</td>\n",
       "      <td>0.727904</td>\n",
       "    </tr>\n",
       "  </tbody>\n",
       "</table>\n",
       "</div>"
      ],
      "text/plain": [
       "                                              Features  Silhouette score  \\\n",
       "0                                                seIAT          0.844082   \n",
       "14                                        seIAT, seExp          0.821167   \n",
       "5                                                seExp          0.820594   \n",
       "682  seIAT, meanIAT, nIAT, seExp, defeats, yellowCards          0.726754   \n",
       "660  seIAT, meanIAT, meanExp, nExp, yellowCards, vi...          0.726899   \n",
       "661    seIAT, meanIAT, meanExp, nExp, games, victories          0.726738   \n",
       "672         seIAT, meanIAT, nIAT, nExp, seExp, defeats          0.726834   \n",
       "673     seIAT, meanIAT, nIAT, nExp, seExp, yellowCards          0.726842   \n",
       "674           seIAT, meanIAT, nIAT, nExp, seExp, games          0.726747   \n",
       "675       seIAT, meanIAT, nIAT, nExp, seExp, victories          0.726818   \n",
       "\n",
       "     Accuracy  \n",
       "0    0.851641  \n",
       "14   0.847222  \n",
       "5    0.846591  \n",
       "682  0.727904  \n",
       "660  0.727904  \n",
       "661  0.727904  \n",
       "672  0.727904  \n",
       "673  0.727904  \n",
       "674  0.727904  \n",
       "675  0.727904  "
      ]
     },
     "execution_count": 35,
     "metadata": {},
     "output_type": "execute_result"
    }
   ],
   "source": [
    "score_df = pd.DataFrame(scores, columns=['Features', 'Silhouette score', 'Accuracy'])\n",
    "score_df.set_index('Features')\n",
    "top_values = score_df.sort_values('Accuracy', ascending=False)[:10]\n",
    "top_values"
   ]
  },
  {
   "cell_type": "code",
   "execution_count": 36,
   "metadata": {
    "collapsed": false
   },
   "outputs": [
    {
     "data": {
      "text/plain": [
       "<matplotlib.axes._subplots.AxesSubplot at 0x1095a5198>"
      ]
     },
     "execution_count": 36,
     "metadata": {},
     "output_type": "execute_result"
    },
    {
     "data": {
      "image/png": "[encoded data removed]",
      "text/plain": [
       "<matplotlib.figure.Figure at 0x119876eb8>"
      ]
     },
     "metadata": {},
     "output_type": "display_data"
    }
   ],
   "source": [
    "top_values.plot.bar() # visualize it"
   ]
  },
  {
   "cell_type": "markdown",
   "metadata": {},
   "source": [
    "Surprising enough, only considering `seIAT` ends up being the most accurate clustering, both with regards to accuracy, as well as the silhouette score.\n",
    "`seExp` is a good indicator as well, also leading to a solid clustering, especially when also taking `seIAT` into account."
   ]
  },
  {
   "cell_type": "code",
   "execution_count": null,
   "metadata": {
    "collapsed": true
   },
   "outputs": [],
   "source": []
  }
 ],
 "metadata": {
  "anaconda-cloud": {},
  "kernelspec": {
   "display_name": "Python [Root]",
   "language": "python",
   "name": "Python [Root]"
  },
  "language_info": {
   "codemirror_mode": {
    "name": "ipython",
    "version": 3
   },
   "file_extension": ".py",
   "mimetype": "text/x-python",
   "name": "python",
   "nbconvert_exporter": "python",
   "pygments_lexer": "ipython3",
   "version": "3.5.2"
  }
 },
 "nbformat": 4,
 "nbformat_minor": 0
}
